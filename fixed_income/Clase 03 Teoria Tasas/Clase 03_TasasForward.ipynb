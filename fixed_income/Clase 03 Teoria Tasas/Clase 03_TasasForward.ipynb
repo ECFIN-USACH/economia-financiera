{
 "cells": [
  {
   "cell_type": "markdown",
   "metadata": {},
   "source": [
    "# Tasas Forward y Teoría de Expectativas: Un Análisis Integral\n",
    "\n",
    "## 1. Repaso de Tasas Forward\n",
    "\n",
    "### Fundamentos y Definición\n",
    "\n",
    "Una **tasa forward** representa el tipo de interés implícito entre dos fechas futuras derivado de la estructura actual de tasas spot. Esencialmente, es el rendimiento de una inversión que comienza en una fecha futura y termina en otra fecha posterior.\n",
    "\n",
    "Para una tasa forward que comienza en el tiempo $t$ y finaliza en $T$, usamos la notación:\n",
    "$$f(t,T)$$\n",
    "\n",
    "### Cálculo de Tasas Forward\n",
    "\n",
    "El cálculo se basa en el principio de no arbitraje: dos estrategias que generan el mismo resultado final deben tener el mismo costo inicial.\n",
    "\n",
    "**Fórmula general:**\n",
    "$$\n",
    "(1 + r_{0,T})^T = (1 + r_{0,t})^t \\times (1 + f_{t,T})^{T-t}\n",
    "$$\n",
    "\n",
    "Despejando $f_{t,T}$:\n",
    "$$\n",
    "f_{t,T} = \\left(\\frac{(1 + r_{0,T})^T}{(1 + r_{0,t})^t}\\right)^{\\frac{1}{T-t}} - 1\n",
    "$$\n",
    "\n",
    "Donde:\n",
    "- $r_{0,t}$ = Tasa spot desde hoy hasta el tiempo $t$\n",
    "- $r_{0,T}$ = Tasa spot desde hoy hasta el tiempo $T$\n",
    "- $f_{t,T}$ = Tasa forward desde $t$ hasta $T$\n",
    "\n",
    "### Importancia en el Mercado\n",
    "\n",
    "Las tasas forward son cruciales para:\n",
    "- Valorar instrumentos de renta fija\n",
    "- Formular expectativas económicas\n",
    "- Identificar oportunidades de arbitraje temporal\n",
    "- Diseñar estrategias de inversión y cobertura\n"
   ]
  },
  {
   "cell_type": "markdown",
   "metadata": {},
   "source": [
    "\n",
    "## 2. Teoría de Expectativas y Estructura Temporal\n",
    "\n",
    "### 2.1. Contexto y Fundamentos Teóricos\n",
    "\n",
    "El análisis de la estructura temporal de las tasas de interés se fundamenta en el principio de no arbitraje y en la relación matemática entre los rendimientos spot y las tasas forward. Bajo condiciones de mercados eficientes y supuestos de agentes racionales, la tasa forward $ f(t,T) $ se relaciona con los tipos spot mediante la ecuación:\n",
    "\n",
    "$$\n",
    "(1 + r_{0,T})^T = (1 + r_{0,t})^t \\times (1 + f_{t,T})^{T-t}\n",
    "$$\n",
    "\n",
    "Esta igualdad garantiza que no existan oportunidades de ganancia sin riesgo entre estrategias de inversión de diferente horizonte. Sin embargo, la interpretación económica de $ f(t,T) $ varía según el enfoque teórico que se adopte.\n",
    "\n",
    "---\n",
    "\n",
    "### 2.2. Teoría de las Expectativas Puras\n",
    "\n",
    "#### Supuestos y Formulación Matemática\n",
    "\n",
    "La **teoría de las expectativas puras** sostiene que la curva de rendimientos refleja exclusivamente las expectativas de tasas futuras. Bajo este paradigma, se parte de la siguiente hipótesis:\n",
    "\n",
    "$$\n",
    "f(t,T) = E[r(t,T)]\n",
    "$$\n",
    "\n",
    "donde $ E[r(t,T)] $ es la expectativa racional del tipo de interés que se observará en el futuro entre $ t $ y $ T $.\n",
    "\n",
    "*Supuestos clave:*\n",
    "- **Agentes risk neutral:** No se requiere compensación por asumir riesgo.\n",
    "- **Mercados eficientes:** Toda la información disponible se incorpora en los precios actuales.\n",
    "- **Expectativas racionales:** Los agentes forman expectativas que, en promedio, se ajustan a la realidad.\n",
    "\n",
    "#### Limitaciones y Evidencia Empírica\n",
    "\n",
    "Aunque la formulación es elegante y sencilla, numerosos estudios han encontrado que los forward rates tienden a predecir tasas futuras de manera sesgada. Esto se debe a la omisión de primas de riesgo y a la aversión al riesgo presente en la práctica. En otras palabras, si se observa una diferencia sistemática entre $ f(t,T) $ y la tasa spot observada posteriormente, se puede inferir la existencia de factores de compensación (riesgo, liquidez, etc.) que no son capturados en este modelo.\n",
    "\n",
    "---\n",
    "\n",
    "### 2.3. Teoría de la Liquidez (o de la Prima de Riesgo)\n",
    "\n",
    "#### Incorporación del Term Premium\n",
    "\n",
    "La **teoría de la liquidez** extiende el enfoque anterior al incorporar una prima de riesgo o “liquidez” que aumenta con el plazo. Se plantea que los inversores exigen un premio adicional para compensar la incertidumbre y la menor liquidez de los activos a largo plazo. La relación se expresa como:\n",
    "\n",
    "$$\n",
    "f(t,T) = E[r(t,T)] + \\lambda_{t,T}\n",
    "$$\n",
    "\n",
    "donde $ \\lambda_{t,T} $ es la prima de riesgo que generalmente crece con $ T-t $.\n",
    "\n",
    "*Aspectos a destacar:*\n",
    "- **No linealidad:** La prima no necesariamente crece de forma lineal, ya que depende de las condiciones del mercado, la aversión al riesgo y la percepción de liquidez.\n",
    "- **Implicaciones empíricas:** Diversos estudios empíricos (por ejemplo, investigaciones basadas en modelos de tasa de interés afín) han encontrado evidencia de la existencia de primas de riesgo significativas, lo que explica por qué la curva de rendimiento suele ser ascendente aun cuando se esperan tasas futuras más bajas.\n",
    "\n",
    "#### Interpretación en Términos de Política Monetaria\n",
    "\n",
    "En un entorno donde la política monetaria es expansiva, la percepción de riesgo de los inversores puede aumentar, lo que a su vez incrementa $ \\lambda_{t,T} $ y provoca un desplazamiento de la curva hacia arriba, sin que necesariamente se espere un incremento en las tasas futuras.\n",
    "\n",
    "---\n",
    "\n",
    "### 2.4. Teoría del Hábitat Preferido\n",
    "\n",
    "#### Preferencias y Desviaciones de Portafolio\n",
    "\n",
    "La **teoría del hábitat preferido** parte de la premisa de que los inversores tienen preferencias por ciertos horizontes temporales —su “hábitat”— y sólo se desplazarán a otros plazos si se les ofrece una compensación en forma de una prima de riesgo. Matemáticamente, se puede expresar de manera simplificada como:\n",
    "\n",
    "$$\n",
    "f(t,T) = E[r(t,T)] + \\pi_{t,T}\n",
    "$$\n",
    "\n",
    "donde $ \\pi_{t,T} $ representa la prima de riesgo asociada a la desviación del hábitat preferido. A diferencia de la teoría de liquidez, esta prima:\n",
    "- **No es necesariamente creciente:** Dependiendo de las presiones de oferta y demanda en cada segmento del mercado, puede comportarse de manera no monotónica.\n",
    "- **Refleja desequilibrios institucionales:** Por ejemplo, si un grupo importante de inversores prefiere activos a corto plazo, la demanda en el segmento largo puede ser menor, incrementando la prima para esos activos.\n",
    "\n",
    "#### Aplicaciones Prácticas\n",
    "\n",
    "Este enfoque permite explicar por qué, en ciertos periodos, la estructura de tasas presenta anomalías que no se ajustan a la simple expectativa de tasas futuras. Además, se utiliza para analizar la sensibilidad de diferentes segmentos de la curva ante cambios en la política financiera.\n",
    "\n",
    "---\n",
    "\n",
    "### 2.5. Teoría de la Segmentación del Mercado\n",
    "\n",
    "#### Dinámicas Independientes entre Segmentos\n",
    "\n",
    "La **teoría de la segmentación del mercado** propone que cada tramo del espectro temporal se comporta de manera independiente, dado que los participantes en cada segmento son en gran medida distintos y no existe movilidad perfecta entre ellos. Bajo este enfoque:\n",
    "\n",
    "- **Cada segmento es un mercado aislado:** La oferta y la demanda en, por ejemplo, el segmento corto, no están directamente vinculadas a las condiciones del segmento largo.\n",
    "- **Ausencia de condiciones de arbitraje:** Debido a restricciones institucionales o de inversión, las condiciones de no arbitraje pueden no cumplirse en forma global, lo que permite que se establezcan curvas de rendimiento disociadas.\n",
    "\n",
    "#### Implicaciones y Críticas\n",
    "\n",
    "Aunque este modelo puede explicar ciertos comportamientos atípicos observados en la práctica (por ejemplo, movimientos divergentes entre segmentos cortos y largos), presenta la limitación de que no permite una explicación unificada del comportamiento de la curva en su totalidad. Esto dificulta el uso de forward rates como indicadores confiables de expectativas futuras en mercados altamente segmentados.\n",
    "\n",
    "---\n",
    "\n",
    "### 2.6. Comparación y Relevancia Empírica\n",
    "\n",
    "En la práctica, la estructura temporal de las tasas resulta ser el producto de una combinación de estos factores:\n",
    "- **Expectativas futuras:** Aunque los forward rates incorporan información sobre la evolución de las tasas, la presencia de primas de riesgo (liquidez o hábitat) distorsiona la interpretación directa.\n",
    "- **Estudios empíricos:** Los modelos dinámicos (por ejemplo, los modelos de estructura temporal afín) permiten separar en cierto grado las expectativas de las primas de riesgo. Sin embargo, la evidencia sugiere que la capacidad predictiva de los forward rates es limitada, y su efectividad depende del horizonte temporal y de las condiciones del mercado.\n",
    "\n",
    "---\n",
    "\n",
    "### 2.7. Implicaciones para la Política Monetaria y Estrategias de Inversión\n",
    "\n",
    "Una comprensión profunda de estas teorías permite:\n",
    "- **Diseñar estrategias de inversión más robustas:** Al identificar cuándo una tasa forward incorpora una alta prima de riesgo, se pueden ajustar las estrategias de cobertura y posicionamiento en renta fija.\n",
    "- **Interpretar señales de recesión o expansión:** Por ejemplo, una curva invertida puede ser interpretada de forma diferente dependiendo de si se considera que la inversión es producto de expectativas reales o de ajustes en la prima de liquidez.\n",
    "- **Orientar la política monetaria:** Los bancos centrales pueden utilizar esta información para evaluar la efectividad de sus medidas, ya que la evolución de las expectativas y las primas de riesgo reflejan la percepción del mercado sobre las condiciones económicas futuras.\n",
    "\n"
   ]
  },
  {
   "cell_type": "markdown",
   "metadata": {},
   "source": [
    "\n",
    "## 3. Ejercicios en Python: Implementación y Análisis\n",
    "\n",
    "### Cálculo de Tasas Forward"
   ]
  },
  {
   "cell_type": "code",
   "execution_count": null,
   "metadata": {},
   "outputs": [],
   "source": [
    "import os\n",
    "import sys\n",
    "import pandas as pd \n",
    "\n",
    "sys.path.append(os.path.abspath(\"../..\"))\n",
    "\n",
    "from web_scraping import fred_interest_rates as fred\n",
    "\n",
    "series_ids = {\n",
    "    \"1 Mes\": \"CH1MO\",\n",
    "    \"3 Meses\": \"CH3MO\",\n",
    "    \"6 Meses\": \"CH6MO\",\n",
    "    \"1 Año\": \"CH1Y\",\n",
    "    \"2 Años\": \"CH2Y\",\n",
    "    \"3 Años\": \"CH3Y\",\n",
    "    \"5 Años\": \"CH5Y\",\n",
    "    \"7 Años\": \"CH7Y\",\n",
    "    \"10 Años\": \"CH10Y\",\n",
    "}\n",
    "series_ids = {\n",
    "        \"1 Mes\": \"DGS1MO\",\n",
    "        \"3 Meses\": \"DGS3MO\",\n",
    "        \"6 Meses\": \"DGS6MO\",\n",
    "        \"1 Año\": \"DGS1\",\n",
    "        \"2 Años\": \"DGS2\",\n",
    "        \"3 Años\": \"DGS3\",\n",
    "        \"5 Años\": \"DGS5\",\n",
    "        \"7 Años\": \"DGS7\",\n",
    "        \"10 Años\": \"DGS10\",\n",
    "        \"20 Años\": \"DGS20\",\n",
    "        \"30 Años\": \"DGS30\",\n",
    "    }\n",
    "\n",
    "api_key = fred.load_api_key()\n",
    "excel_filename = \"data/yield_curve_historical_usa.xlsx\"\n",
    "\n",
    "# Obtener datos históricos para cada instrumento\n",
    "series_data = fred.fetch_all_series(series_ids, api_key)\n",
    "\n",
    "# Combinar datos históricos y guardar en Excel\n",
    "hist_df = fred.combine_historical_data(series_data)\n",
    "fred.save_historical_data_to_excel(hist_df, excel_filename)"
   ]
  },
  {
   "cell_type": "code",
   "execution_count": null,
   "metadata": {},
   "outputs": [],
   "source": [
    "url = \"https://raw.githubusercontent.com/ECFIN-USACH/economia-financiera/a5b90ad8a691d6281d547053e9357a47f1174b6f/data/yield_curve_historical_usa.xlsx\"\n",
    "hist_df = pd.read_excel(url, index_col='date')\n",
    "# Extraer la curva del día más reciente y graficarla de forma estática\n",
    "latest_df, common_date = fred.get_latest_yield_curve_from_df(hist_df)"
   ]
  },
  {
   "cell_type": "code",
   "execution_count": 9,
   "metadata": {},
   "outputs": [
    {
     "data": {
      "text/html": [
       "<div>\n",
       "<style scoped>\n",
       "    .dataframe tbody tr th:only-of-type {\n",
       "        vertical-align: middle;\n",
       "    }\n",
       "\n",
       "    .dataframe tbody tr th {\n",
       "        vertical-align: top;\n",
       "    }\n",
       "\n",
       "    .dataframe thead th {\n",
       "        text-align: right;\n",
       "    }\n",
       "</style>\n",
       "<table border=\"1\" class=\"dataframe\">\n",
       "  <thead>\n",
       "    <tr style=\"text-align: right;\">\n",
       "      <th></th>\n",
       "      <th>Plazo</th>\n",
       "      <th>Rendimiento</th>\n",
       "    </tr>\n",
       "  </thead>\n",
       "  <tbody>\n",
       "    <tr>\n",
       "      <th>0</th>\n",
       "      <td>1 Mes</td>\n",
       "      <td>4.36</td>\n",
       "    </tr>\n",
       "    <tr>\n",
       "      <th>1</th>\n",
       "      <td>3 Meses</td>\n",
       "      <td>4.33</td>\n",
       "    </tr>\n",
       "    <tr>\n",
       "      <th>2</th>\n",
       "      <td>6 Meses</td>\n",
       "      <td>4.27</td>\n",
       "    </tr>\n",
       "    <tr>\n",
       "      <th>3</th>\n",
       "      <td>1 Año</td>\n",
       "      <td>4.06</td>\n",
       "    </tr>\n",
       "    <tr>\n",
       "      <th>4</th>\n",
       "      <td>2 Años</td>\n",
       "      <td>3.95</td>\n",
       "    </tr>\n",
       "    <tr>\n",
       "      <th>5</th>\n",
       "      <td>3 Años</td>\n",
       "      <td>3.93</td>\n",
       "    </tr>\n",
       "    <tr>\n",
       "      <th>6</th>\n",
       "      <td>5 Años</td>\n",
       "      <td>4.01</td>\n",
       "    </tr>\n",
       "    <tr>\n",
       "      <th>7</th>\n",
       "      <td>7 Años</td>\n",
       "      <td>4.12</td>\n",
       "    </tr>\n",
       "    <tr>\n",
       "      <th>8</th>\n",
       "      <td>10 Años</td>\n",
       "      <td>4.24</td>\n",
       "    </tr>\n",
       "    <tr>\n",
       "      <th>9</th>\n",
       "      <td>20 Años</td>\n",
       "      <td>4.57</td>\n",
       "    </tr>\n",
       "    <tr>\n",
       "      <th>10</th>\n",
       "      <td>30 Años</td>\n",
       "      <td>4.55</td>\n",
       "    </tr>\n",
       "  </tbody>\n",
       "</table>\n",
       "</div>"
      ],
      "text/plain": [
       "      Plazo  Rendimiento\n",
       "0     1 Mes         4.36\n",
       "1   3 Meses         4.33\n",
       "2   6 Meses         4.27\n",
       "3     1 Año         4.06\n",
       "4    2 Años         3.95\n",
       "5    3 Años         3.93\n",
       "6    5 Años         4.01\n",
       "7    7 Años         4.12\n",
       "8   10 Años         4.24\n",
       "9   20 Años         4.57\n",
       "10  30 Años         4.55"
      ]
     },
     "execution_count": 9,
     "metadata": {},
     "output_type": "execute_result"
    }
   ],
   "source": [
    "latest_df"
   ]
  },
  {
   "cell_type": "code",
   "execution_count": 11,
   "metadata": {},
   "outputs": [
    {
     "name": "stdout",
     "output_type": "stream",
     "text": [
      "Tasas Forward:\n",
      "1Y-2Y: 0.0384 (3.84%)\n",
      "2Y-3Y: 0.0389 (3.89%)\n",
      "3Y-5Y: 0.0413 (4.13%)\n",
      "5Y-10Y: 0.0447 (4.47%)\n"
     ]
    }
   ],
   "source": [
    "import numpy as np\n",
    "import pandas as pd\n",
    "import matplotlib.pyplot as plt\n",
    "\n",
    "def calcular_tasa_forward(r1, t1, r2, t2):\n",
    "    \"\"\"\n",
    "    Calcula la tasa forward entre dos períodos.\n",
    "    \n",
    "    Args:\n",
    "        r1 (float): Tasa spot hasta t1 (anualizada)\n",
    "        t1 (float): Tiempo hasta primer período (en años)\n",
    "        r2 (float): Tasa spot hasta t2 (anualizada)\n",
    "        t2 (float): Tiempo hasta segundo período (en años)\n",
    "        \n",
    "    Returns:\n",
    "        float: Tasa forward entre t1 y t2 (anualizada)\n",
    "    \"\"\"\n",
    "    # Fórmula de la tasa forward\n",
    "    f = ((1 + r2)**t2 / (1 + r1)**t1)**(1/(t2-t1)) - 1\n",
    "    return f\n",
    "\n",
    "# Ejemplo con datos reales\n",
    "curva_spot = {\n",
    "    '1Y': 0.0406, \n",
    "    '2Y': 0.0395, \n",
    "    '3Y': 0.0393, \n",
    "    '5Y': 0.0401, \n",
    "    '10Y': 0.0424  \n",
    "}\n",
    "\n",
    "# Convertimos a años para facilitar cálculos\n",
    "plazos = {'1Y': 1, '2Y': 2, '3Y': 3, '5Y': 5, '10Y': 10}\n",
    "\n",
    "# Calculamos tasas forward para varios períodos\n",
    "forwards = {}\n",
    "forwards['1Y-2Y'] = calcular_tasa_forward(curva_spot['1Y'], plazos['1Y'], \n",
    "                                         curva_spot['2Y'], plazos['2Y'])\n",
    "forwards['2Y-3Y'] = calcular_tasa_forward(curva_spot['2Y'], plazos['2Y'], \n",
    "                                         curva_spot['3Y'], plazos['3Y'])\n",
    "forwards['3Y-5Y'] = calcular_tasa_forward(curva_spot['3Y'], plazos['3Y'], \n",
    "                                         curva_spot['5Y'], plazos['5Y'])\n",
    "forwards['5Y-10Y'] = calcular_tasa_forward(curva_spot['5Y'], plazos['5Y'], \n",
    "                                          curva_spot['10Y'], plazos['10Y'])\n",
    "\n",
    "# Resultados\n",
    "print(\"Tasas Forward:\")\n",
    "for periodo, tasa in forwards.items():\n",
    "    print(f\"{periodo}: {tasa:.4f} ({tasa*100:.2f}%)\")"
   ]
  },
  {
   "cell_type": "markdown",
   "metadata": {},
   "source": [
    "\n",
    "### Visualización de Curvas Spot y Forward\n"
   ]
  },
  {
   "cell_type": "code",
   "execution_count": null,
   "metadata": {},
   "outputs": [
    {
     "name": "stderr",
     "output_type": "stream",
     "text": [
      "\u001b[32m2025-03-22 23:40:56.295\u001b[0m | \u001b[1mINFO    \u001b[0m | \u001b[36mweb_scraping.fred_interest_rates\u001b[0m:\u001b[36mget_latest_yield_curve_from_df\u001b[0m:\u001b[36m160\u001b[0m - \u001b[1mCurva de rendimiento extraída para la fecha: 2025-03-20\u001b[0m\n"
     ]
    },
    {
     "data": {
      "application/vnd.plotly.v1+json": {
       "config": {
        "plotlyServerURL": "https://plot.ly"
       },
       "data": [
        {
         "marker": {
          "size": 8
         },
         "mode": "lines+markers",
         "type": "scatter",
         "x": [
          "1 Mes",
          "3 Meses",
          "6 Meses",
          "1 Año",
          "2 Años",
          "3 Años",
          "5 Años",
          "7 Años",
          "10 Años",
          "20 Años",
          "30 Años"
         ],
         "y": [
          4.36,
          4.33,
          4.27,
          4.06,
          3.95,
          3.93,
          4.01,
          4.12,
          4.24,
          4.57,
          4.55
         ]
        }
       ],
       "layout": {
        "hovermode": "x",
        "template": {
         "data": {
          "bar": [
           {
            "error_x": {
             "color": "#2a3f5f"
            },
            "error_y": {
             "color": "#2a3f5f"
            },
            "marker": {
             "line": {
              "color": "#E5ECF6",
              "width": 0.5
             },
             "pattern": {
              "fillmode": "overlay",
              "size": 10,
              "solidity": 0.2
             }
            },
            "type": "bar"
           }
          ],
          "barpolar": [
           {
            "marker": {
             "line": {
              "color": "#E5ECF6",
              "width": 0.5
             },
             "pattern": {
              "fillmode": "overlay",
              "size": 10,
              "solidity": 0.2
             }
            },
            "type": "barpolar"
           }
          ],
          "carpet": [
           {
            "aaxis": {
             "endlinecolor": "#2a3f5f",
             "gridcolor": "white",
             "linecolor": "white",
             "minorgridcolor": "white",
             "startlinecolor": "#2a3f5f"
            },
            "baxis": {
             "endlinecolor": "#2a3f5f",
             "gridcolor": "white",
             "linecolor": "white",
             "minorgridcolor": "white",
             "startlinecolor": "#2a3f5f"
            },
            "type": "carpet"
           }
          ],
          "choropleth": [
           {
            "colorbar": {
             "outlinewidth": 0,
             "ticks": ""
            },
            "type": "choropleth"
           }
          ],
          "contour": [
           {
            "colorbar": {
             "outlinewidth": 0,
             "ticks": ""
            },
            "colorscale": [
             [
              0,
              "#0d0887"
             ],
             [
              0.1111111111111111,
              "#46039f"
             ],
             [
              0.2222222222222222,
              "#7201a8"
             ],
             [
              0.3333333333333333,
              "#9c179e"
             ],
             [
              0.4444444444444444,
              "#bd3786"
             ],
             [
              0.5555555555555556,
              "#d8576b"
             ],
             [
              0.6666666666666666,
              "#ed7953"
             ],
             [
              0.7777777777777778,
              "#fb9f3a"
             ],
             [
              0.8888888888888888,
              "#fdca26"
             ],
             [
              1,
              "#f0f921"
             ]
            ],
            "type": "contour"
           }
          ],
          "contourcarpet": [
           {
            "colorbar": {
             "outlinewidth": 0,
             "ticks": ""
            },
            "type": "contourcarpet"
           }
          ],
          "heatmap": [
           {
            "colorbar": {
             "outlinewidth": 0,
             "ticks": ""
            },
            "colorscale": [
             [
              0,
              "#0d0887"
             ],
             [
              0.1111111111111111,
              "#46039f"
             ],
             [
              0.2222222222222222,
              "#7201a8"
             ],
             [
              0.3333333333333333,
              "#9c179e"
             ],
             [
              0.4444444444444444,
              "#bd3786"
             ],
             [
              0.5555555555555556,
              "#d8576b"
             ],
             [
              0.6666666666666666,
              "#ed7953"
             ],
             [
              0.7777777777777778,
              "#fb9f3a"
             ],
             [
              0.8888888888888888,
              "#fdca26"
             ],
             [
              1,
              "#f0f921"
             ]
            ],
            "type": "heatmap"
           }
          ],
          "heatmapgl": [
           {
            "colorbar": {
             "outlinewidth": 0,
             "ticks": ""
            },
            "colorscale": [
             [
              0,
              "#0d0887"
             ],
             [
              0.1111111111111111,
              "#46039f"
             ],
             [
              0.2222222222222222,
              "#7201a8"
             ],
             [
              0.3333333333333333,
              "#9c179e"
             ],
             [
              0.4444444444444444,
              "#bd3786"
             ],
             [
              0.5555555555555556,
              "#d8576b"
             ],
             [
              0.6666666666666666,
              "#ed7953"
             ],
             [
              0.7777777777777778,
              "#fb9f3a"
             ],
             [
              0.8888888888888888,
              "#fdca26"
             ],
             [
              1,
              "#f0f921"
             ]
            ],
            "type": "heatmapgl"
           }
          ],
          "histogram": [
           {
            "marker": {
             "pattern": {
              "fillmode": "overlay",
              "size": 10,
              "solidity": 0.2
             }
            },
            "type": "histogram"
           }
          ],
          "histogram2d": [
           {
            "colorbar": {
             "outlinewidth": 0,
             "ticks": ""
            },
            "colorscale": [
             [
              0,
              "#0d0887"
             ],
             [
              0.1111111111111111,
              "#46039f"
             ],
             [
              0.2222222222222222,
              "#7201a8"
             ],
             [
              0.3333333333333333,
              "#9c179e"
             ],
             [
              0.4444444444444444,
              "#bd3786"
             ],
             [
              0.5555555555555556,
              "#d8576b"
             ],
             [
              0.6666666666666666,
              "#ed7953"
             ],
             [
              0.7777777777777778,
              "#fb9f3a"
             ],
             [
              0.8888888888888888,
              "#fdca26"
             ],
             [
              1,
              "#f0f921"
             ]
            ],
            "type": "histogram2d"
           }
          ],
          "histogram2dcontour": [
           {
            "colorbar": {
             "outlinewidth": 0,
             "ticks": ""
            },
            "colorscale": [
             [
              0,
              "#0d0887"
             ],
             [
              0.1111111111111111,
              "#46039f"
             ],
             [
              0.2222222222222222,
              "#7201a8"
             ],
             [
              0.3333333333333333,
              "#9c179e"
             ],
             [
              0.4444444444444444,
              "#bd3786"
             ],
             [
              0.5555555555555556,
              "#d8576b"
             ],
             [
              0.6666666666666666,
              "#ed7953"
             ],
             [
              0.7777777777777778,
              "#fb9f3a"
             ],
             [
              0.8888888888888888,
              "#fdca26"
             ],
             [
              1,
              "#f0f921"
             ]
            ],
            "type": "histogram2dcontour"
           }
          ],
          "mesh3d": [
           {
            "colorbar": {
             "outlinewidth": 0,
             "ticks": ""
            },
            "type": "mesh3d"
           }
          ],
          "parcoords": [
           {
            "line": {
             "colorbar": {
              "outlinewidth": 0,
              "ticks": ""
             }
            },
            "type": "parcoords"
           }
          ],
          "pie": [
           {
            "automargin": true,
            "type": "pie"
           }
          ],
          "scatter": [
           {
            "fillpattern": {
             "fillmode": "overlay",
             "size": 10,
             "solidity": 0.2
            },
            "type": "scatter"
           }
          ],
          "scatter3d": [
           {
            "line": {
             "colorbar": {
              "outlinewidth": 0,
              "ticks": ""
             }
            },
            "marker": {
             "colorbar": {
              "outlinewidth": 0,
              "ticks": ""
             }
            },
            "type": "scatter3d"
           }
          ],
          "scattercarpet": [
           {
            "marker": {
             "colorbar": {
              "outlinewidth": 0,
              "ticks": ""
             }
            },
            "type": "scattercarpet"
           }
          ],
          "scattergeo": [
           {
            "marker": {
             "colorbar": {
              "outlinewidth": 0,
              "ticks": ""
             }
            },
            "type": "scattergeo"
           }
          ],
          "scattergl": [
           {
            "marker": {
             "colorbar": {
              "outlinewidth": 0,
              "ticks": ""
             }
            },
            "type": "scattergl"
           }
          ],
          "scattermapbox": [
           {
            "marker": {
             "colorbar": {
              "outlinewidth": 0,
              "ticks": ""
             }
            },
            "type": "scattermapbox"
           }
          ],
          "scatterpolar": [
           {
            "marker": {
             "colorbar": {
              "outlinewidth": 0,
              "ticks": ""
             }
            },
            "type": "scatterpolar"
           }
          ],
          "scatterpolargl": [
           {
            "marker": {
             "colorbar": {
              "outlinewidth": 0,
              "ticks": ""
             }
            },
            "type": "scatterpolargl"
           }
          ],
          "scatterternary": [
           {
            "marker": {
             "colorbar": {
              "outlinewidth": 0,
              "ticks": ""
             }
            },
            "type": "scatterternary"
           }
          ],
          "surface": [
           {
            "colorbar": {
             "outlinewidth": 0,
             "ticks": ""
            },
            "colorscale": [
             [
              0,
              "#0d0887"
             ],
             [
              0.1111111111111111,
              "#46039f"
             ],
             [
              0.2222222222222222,
              "#7201a8"
             ],
             [
              0.3333333333333333,
              "#9c179e"
             ],
             [
              0.4444444444444444,
              "#bd3786"
             ],
             [
              0.5555555555555556,
              "#d8576b"
             ],
             [
              0.6666666666666666,
              "#ed7953"
             ],
             [
              0.7777777777777778,
              "#fb9f3a"
             ],
             [
              0.8888888888888888,
              "#fdca26"
             ],
             [
              1,
              "#f0f921"
             ]
            ],
            "type": "surface"
           }
          ],
          "table": [
           {
            "cells": {
             "fill": {
              "color": "#EBF0F8"
             },
             "line": {
              "color": "white"
             }
            },
            "header": {
             "fill": {
              "color": "#C8D4E3"
             },
             "line": {
              "color": "white"
             }
            },
            "type": "table"
           }
          ]
         },
         "layout": {
          "annotationdefaults": {
           "arrowcolor": "#2a3f5f",
           "arrowhead": 0,
           "arrowwidth": 1
          },
          "autotypenumbers": "strict",
          "coloraxis": {
           "colorbar": {
            "outlinewidth": 0,
            "ticks": ""
           }
          },
          "colorscale": {
           "diverging": [
            [
             0,
             "#8e0152"
            ],
            [
             0.1,
             "#c51b7d"
            ],
            [
             0.2,
             "#de77ae"
            ],
            [
             0.3,
             "#f1b6da"
            ],
            [
             0.4,
             "#fde0ef"
            ],
            [
             0.5,
             "#f7f7f7"
            ],
            [
             0.6,
             "#e6f5d0"
            ],
            [
             0.7,
             "#b8e186"
            ],
            [
             0.8,
             "#7fbc41"
            ],
            [
             0.9,
             "#4d9221"
            ],
            [
             1,
             "#276419"
            ]
           ],
           "sequential": [
            [
             0,
             "#0d0887"
            ],
            [
             0.1111111111111111,
             "#46039f"
            ],
            [
             0.2222222222222222,
             "#7201a8"
            ],
            [
             0.3333333333333333,
             "#9c179e"
            ],
            [
             0.4444444444444444,
             "#bd3786"
            ],
            [
             0.5555555555555556,
             "#d8576b"
            ],
            [
             0.6666666666666666,
             "#ed7953"
            ],
            [
             0.7777777777777778,
             "#fb9f3a"
            ],
            [
             0.8888888888888888,
             "#fdca26"
            ],
            [
             1,
             "#f0f921"
            ]
           ],
           "sequentialminus": [
            [
             0,
             "#0d0887"
            ],
            [
             0.1111111111111111,
             "#46039f"
            ],
            [
             0.2222222222222222,
             "#7201a8"
            ],
            [
             0.3333333333333333,
             "#9c179e"
            ],
            [
             0.4444444444444444,
             "#bd3786"
            ],
            [
             0.5555555555555556,
             "#d8576b"
            ],
            [
             0.6666666666666666,
             "#ed7953"
            ],
            [
             0.7777777777777778,
             "#fb9f3a"
            ],
            [
             0.8888888888888888,
             "#fdca26"
            ],
            [
             1,
             "#f0f921"
            ]
           ]
          },
          "colorway": [
           "#636efa",
           "#EF553B",
           "#00cc96",
           "#ab63fa",
           "#FFA15A",
           "#19d3f3",
           "#FF6692",
           "#B6E880",
           "#FF97FF",
           "#FECB52"
          ],
          "font": {
           "color": "#2a3f5f"
          },
          "geo": {
           "bgcolor": "white",
           "lakecolor": "white",
           "landcolor": "#E5ECF6",
           "showlakes": true,
           "showland": true,
           "subunitcolor": "white"
          },
          "hoverlabel": {
           "align": "left"
          },
          "hovermode": "closest",
          "mapbox": {
           "style": "light"
          },
          "paper_bgcolor": "white",
          "plot_bgcolor": "#E5ECF6",
          "polar": {
           "angularaxis": {
            "gridcolor": "white",
            "linecolor": "white",
            "ticks": ""
           },
           "bgcolor": "#E5ECF6",
           "radialaxis": {
            "gridcolor": "white",
            "linecolor": "white",
            "ticks": ""
           }
          },
          "scene": {
           "xaxis": {
            "backgroundcolor": "#E5ECF6",
            "gridcolor": "white",
            "gridwidth": 2,
            "linecolor": "white",
            "showbackground": true,
            "ticks": "",
            "zerolinecolor": "white"
           },
           "yaxis": {
            "backgroundcolor": "#E5ECF6",
            "gridcolor": "white",
            "gridwidth": 2,
            "linecolor": "white",
            "showbackground": true,
            "ticks": "",
            "zerolinecolor": "white"
           },
           "zaxis": {
            "backgroundcolor": "#E5ECF6",
            "gridcolor": "white",
            "gridwidth": 2,
            "linecolor": "white",
            "showbackground": true,
            "ticks": "",
            "zerolinecolor": "white"
           }
          },
          "shapedefaults": {
           "line": {
            "color": "#2a3f5f"
           }
          },
          "ternary": {
           "aaxis": {
            "gridcolor": "white",
            "linecolor": "white",
            "ticks": ""
           },
           "baxis": {
            "gridcolor": "white",
            "linecolor": "white",
            "ticks": ""
           },
           "bgcolor": "#E5ECF6",
           "caxis": {
            "gridcolor": "white",
            "linecolor": "white",
            "ticks": ""
           }
          },
          "title": {
           "x": 0.05
          },
          "xaxis": {
           "automargin": true,
           "gridcolor": "white",
           "linecolor": "white",
           "ticks": "",
           "title": {
            "standoff": 15
           },
           "zerolinecolor": "white",
           "zerolinewidth": 2
          },
          "yaxis": {
           "automargin": true,
           "gridcolor": "white",
           "linecolor": "white",
           "ticks": "",
           "title": {
            "standoff": 15
           },
           "zerolinecolor": "white",
           "zerolinewidth": 2
          }
         }
        },
        "title": {
         "text": "Curva de Rendimientos del Tesoro de EE.UU. - Fecha: 2025-03-20"
        },
        "xaxis": {
         "title": {
          "text": "Plazo"
         }
        },
        "yaxis": {
         "title": {
          "text": "Rendimiento (%)"
         }
        }
       }
      }
     },
     "metadata": {},
     "output_type": "display_data"
    },
    {
     "name": "stderr",
     "output_type": "stream",
     "text": [
      "\u001b[32m2025-03-22 23:40:57.069\u001b[0m | \u001b[1mINFO    \u001b[0m | \u001b[36mweb_scraping.fred_interest_rates\u001b[0m:\u001b[36mplot_yield_curve_static\u001b[0m:\u001b[36m205\u001b[0m - \u001b[1mGráfico estático generado para la fecha 2025-03-20\u001b[0m\n"
     ]
    }
   ],
   "source": [
    "\n",
    "fred.plot_yield_curve_static(latest_df, common_date)\n"
   ]
  },
  {
   "cell_type": "code",
   "execution_count": 8,
   "metadata": {},
   "outputs": [
    {
     "data": {
      "application/vnd.plotly.v1+json": {
       "config": {
        "plotlyServerURL": "https://plot.ly"
       },
       "data": [
        {
         "marker": {
          "size": 8
         },
         "mode": "lines+markers",
         "type": "scatter",
         "x": [
          "1 Mes",
          "3 Meses",
          "6 Meses",
          "1 Año",
          "2 Años",
          "3 Años",
          "5 Años",
          "7 Años",
          "10 Años",
          "20 Años",
          "30 Años"
         ],
         "y": [
          5.55,
          5.46,
          5.24,
          4.8,
          4.33,
          4.09,
          3.93,
          3.95,
          3.95,
          4.25,
          4.08
         ]
        }
       ],
       "frames": [
        {
         "data": [
          {
           "marker": {
            "size": 8
           },
           "mode": "lines+markers",
           "type": "scatter",
           "x": [
            "1 Mes",
            "3 Meses",
            "6 Meses",
            "1 Año",
            "2 Años",
            "3 Años",
            "5 Años",
            "7 Años",
            "10 Años",
            "20 Años",
            "30 Años"
           ],
           "y": [
            5.55,
            5.46,
            5.24,
            4.8,
            4.33,
            4.09,
            3.93,
            3.95,
            3.95,
            4.25,
            4.08
           ]
          }
         ],
         "layout": {
          "title": {
           "text": "Curva de Rendimientos - 2024-01-02"
          }
         },
         "name": "2024-01-02"
        },
        {
         "data": [
          {
           "marker": {
            "size": 8
           },
           "mode": "lines+markers",
           "type": "scatter",
           "x": [
            "1 Mes",
            "3 Meses",
            "6 Meses",
            "1 Año",
            "2 Años",
            "3 Años",
            "5 Años",
            "7 Años",
            "10 Años",
            "20 Años",
            "30 Años"
           ],
           "y": [
            5.54,
            5.48,
            5.25,
            4.81,
            4.33,
            4.07,
            3.9,
            3.92,
            3.91,
            4.21,
            4.05
           ]
          }
         ],
         "layout": {
          "title": {
           "text": "Curva de Rendimientos - 2024-01-03"
          }
         },
         "name": "2024-01-03"
        },
        {
         "data": [
          {
           "marker": {
            "size": 8
           },
           "mode": "lines+markers",
           "type": "scatter",
           "x": [
            "1 Mes",
            "3 Meses",
            "6 Meses",
            "1 Año",
            "2 Años",
            "3 Años",
            "5 Años",
            "7 Años",
            "10 Años",
            "20 Años",
            "30 Años"
           ],
           "y": [
            5.56,
            5.48,
            5.25,
            4.85,
            4.38,
            4.14,
            3.97,
            3.99,
            3.99,
            4.3,
            4.13
           ]
          }
         ],
         "layout": {
          "title": {
           "text": "Curva de Rendimientos - 2024-01-04"
          }
         },
         "name": "2024-01-04"
        },
        {
         "data": [
          {
           "marker": {
            "size": 8
           },
           "mode": "lines+markers",
           "type": "scatter",
           "x": [
            "1 Mes",
            "3 Meses",
            "6 Meses",
            "1 Año",
            "2 Años",
            "3 Años",
            "5 Años",
            "7 Años",
            "10 Años",
            "20 Años",
            "30 Años"
           ],
           "y": [
            5.54,
            5.47,
            5.24,
            4.84,
            4.4,
            4.17,
            4.02,
            4.04,
            4.05,
            4.37,
            4.21
           ]
          }
         ],
         "layout": {
          "title": {
           "text": "Curva de Rendimientos - 2024-01-05"
          }
         },
         "name": "2024-01-05"
        },
        {
         "data": [
          {
           "marker": {
            "size": 8
           },
           "mode": "lines+markers",
           "type": "scatter",
           "x": [
            "1 Mes",
            "3 Meses",
            "6 Meses",
            "1 Año",
            "2 Años",
            "3 Años",
            "5 Años",
            "7 Años",
            "10 Años",
            "20 Años",
            "30 Años"
           ],
           "y": [
            5.54,
            5.49,
            5.24,
            4.82,
            4.36,
            4.11,
            3.97,
            3.99,
            4.01,
            4.33,
            4.17
           ]
          }
         ],
         "layout": {
          "title": {
           "text": "Curva de Rendimientos - 2024-01-08"
          }
         },
         "name": "2024-01-08"
        },
        {
         "data": [
          {
           "marker": {
            "size": 8
           },
           "mode": "lines+markers",
           "type": "scatter",
           "x": [
            "1 Mes",
            "3 Meses",
            "6 Meses",
            "1 Año",
            "2 Años",
            "3 Años",
            "5 Años",
            "7 Años",
            "10 Años",
            "20 Años",
            "30 Años"
           ],
           "y": [
            5.53,
            5.47,
            5.24,
            4.82,
            4.36,
            4.09,
            3.97,
            4,
            4.02,
            4.33,
            4.18
           ]
          }
         ],
         "layout": {
          "title": {
           "text": "Curva de Rendimientos - 2024-01-09"
          }
         },
         "name": "2024-01-09"
        },
        {
         "data": [
          {
           "marker": {
            "size": 8
           },
           "mode": "lines+markers",
           "type": "scatter",
           "x": [
            "1 Mes",
            "3 Meses",
            "6 Meses",
            "1 Año",
            "2 Años",
            "3 Años",
            "5 Años",
            "7 Años",
            "10 Años",
            "20 Años",
            "30 Años"
           ],
           "y": [
            5.53,
            5.46,
            5.23,
            4.82,
            4.37,
            4.1,
            3.99,
            4.01,
            4.04,
            4.35,
            4.2
           ]
          }
         ],
         "layout": {
          "title": {
           "text": "Curva de Rendimientos - 2024-01-10"
          }
         },
         "name": "2024-01-10"
        },
        {
         "data": [
          {
           "marker": {
            "size": 8
           },
           "mode": "lines+markers",
           "type": "scatter",
           "x": [
            "1 Mes",
            "3 Meses",
            "6 Meses",
            "1 Año",
            "2 Años",
            "3 Años",
            "5 Años",
            "7 Años",
            "10 Años",
            "20 Años",
            "30 Años"
           ],
           "y": [
            5.54,
            5.46,
            5.22,
            4.75,
            4.26,
            4.02,
            3.9,
            3.95,
            3.98,
            4.32,
            4.18
           ]
          }
         ],
         "layout": {
          "title": {
           "text": "Curva de Rendimientos - 2024-01-11"
          }
         },
         "name": "2024-01-11"
        },
        {
         "data": [
          {
           "marker": {
            "size": 8
           },
           "mode": "lines+markers",
           "type": "scatter",
           "x": [
            "1 Mes",
            "3 Meses",
            "6 Meses",
            "1 Año",
            "2 Años",
            "3 Años",
            "5 Años",
            "7 Años",
            "10 Años",
            "20 Años",
            "30 Años"
           ],
           "y": [
            5.55,
            5.45,
            5.16,
            4.65,
            4.14,
            3.92,
            3.84,
            3.91,
            3.96,
            4.32,
            4.2
           ]
          }
         ],
         "layout": {
          "title": {
           "text": "Curva de Rendimientos - 2024-01-12"
          }
         },
         "name": "2024-01-12"
        },
        {
         "data": [
          {
           "marker": {
            "size": 8
           },
           "mode": "lines+markers",
           "type": "scatter",
           "x": [
            "1 Mes",
            "3 Meses",
            "6 Meses",
            "1 Año",
            "2 Años",
            "3 Años",
            "5 Años",
            "7 Años",
            "10 Años",
            "20 Años",
            "30 Años"
           ],
           "y": [
            5.54,
            5.45,
            5.18,
            4.7,
            4.22,
            4.02,
            3.95,
            4.01,
            4.07,
            4.43,
            4.3
           ]
          }
         ],
         "layout": {
          "title": {
           "text": "Curva de Rendimientos - 2024-01-16"
          }
         },
         "name": "2024-01-16"
        },
        {
         "data": [
          {
           "marker": {
            "size": 8
           },
           "mode": "lines+markers",
           "type": "scatter",
           "x": [
            "1 Mes",
            "3 Meses",
            "6 Meses",
            "1 Año",
            "2 Años",
            "3 Años",
            "5 Años",
            "7 Años",
            "10 Años",
            "20 Años",
            "30 Años"
           ],
           "y": [
            5.54,
            5.47,
            5.2,
            4.8,
            4.34,
            4.12,
            4.02,
            4.07,
            4.1,
            4.42,
            4.31
           ]
          }
         ],
         "layout": {
          "title": {
           "text": "Curva de Rendimientos - 2024-01-17"
          }
         },
         "name": "2024-01-17"
        },
        {
         "data": [
          {
           "marker": {
            "size": 8
           },
           "mode": "lines+markers",
           "type": "scatter",
           "x": [
            "1 Mes",
            "3 Meses",
            "6 Meses",
            "1 Año",
            "2 Años",
            "3 Años",
            "5 Años",
            "7 Años",
            "10 Años",
            "20 Años",
            "30 Años"
           ],
           "y": [
            5.53,
            5.45,
            5.2,
            4.8,
            4.34,
            4.13,
            4.04,
            4.1,
            4.14,
            4.48,
            4.37
           ]
          }
         ],
         "layout": {
          "title": {
           "text": "Curva de Rendimientos - 2024-01-18"
          }
         },
         "name": "2024-01-18"
        },
        {
         "data": [
          {
           "marker": {
            "size": 8
           },
           "mode": "lines+markers",
           "type": "scatter",
           "x": [
            "1 Mes",
            "3 Meses",
            "6 Meses",
            "1 Año",
            "2 Años",
            "3 Años",
            "5 Años",
            "7 Años",
            "10 Años",
            "20 Años",
            "30 Años"
           ],
           "y": [
            5.54,
            5.45,
            5.21,
            4.84,
            4.39,
            4.18,
            4.08,
            4.12,
            4.15,
            4.47,
            4.36
           ]
          }
         ],
         "layout": {
          "title": {
           "text": "Curva de Rendimientos - 2024-01-19"
          }
         },
         "name": "2024-01-19"
        },
        {
         "data": [
          {
           "marker": {
            "size": 8
           },
           "mode": "lines+markers",
           "type": "scatter",
           "x": [
            "1 Mes",
            "3 Meses",
            "6 Meses",
            "1 Año",
            "2 Años",
            "3 Años",
            "5 Años",
            "7 Años",
            "10 Años",
            "20 Años",
            "30 Años"
           ],
           "y": [
            5.53,
            5.46,
            5.22,
            4.83,
            4.37,
            4.14,
            4.03,
            4.07,
            4.11,
            4.44,
            4.32
           ]
          }
         ],
         "layout": {
          "title": {
           "text": "Curva de Rendimientos - 2024-01-22"
          }
         },
         "name": "2024-01-22"
        },
        {
         "data": [
          {
           "marker": {
            "size": 8
           },
           "mode": "lines+markers",
           "type": "scatter",
           "x": [
            "1 Mes",
            "3 Meses",
            "6 Meses",
            "1 Año",
            "2 Años",
            "3 Años",
            "5 Años",
            "7 Años",
            "10 Años",
            "20 Años",
            "30 Años"
           ],
           "y": [
            5.53,
            5.45,
            5.21,
            4.81,
            4.31,
            4.16,
            4.06,
            4.11,
            4.14,
            4.48,
            4.38
           ]
          }
         ],
         "layout": {
          "title": {
           "text": "Curva de Rendimientos - 2024-01-23"
          }
         },
         "name": "2024-01-23"
        },
        {
         "data": [
          {
           "marker": {
            "size": 8
           },
           "mode": "lines+markers",
           "type": "scatter",
           "x": [
            "1 Mes",
            "3 Meses",
            "6 Meses",
            "1 Año",
            "2 Años",
            "3 Años",
            "5 Años",
            "7 Años",
            "10 Años",
            "20 Años",
            "30 Años"
           ],
           "y": [
            5.52,
            5.44,
            5.22,
            4.83,
            4.34,
            4.19,
            4.06,
            4.14,
            4.18,
            4.52,
            4.41
           ]
          }
         ],
         "layout": {
          "title": {
           "text": "Curva de Rendimientos - 2024-01-24"
          }
         },
         "name": "2024-01-24"
        },
        {
         "data": [
          {
           "marker": {
            "size": 8
           },
           "mode": "lines+markers",
           "type": "scatter",
           "x": [
            "1 Mes",
            "3 Meses",
            "6 Meses",
            "1 Año",
            "2 Años",
            "3 Años",
            "5 Años",
            "7 Años",
            "10 Años",
            "20 Años",
            "30 Años"
           ],
           "y": [
            5.54,
            5.44,
            5.19,
            4.76,
            4.28,
            4.12,
            4.01,
            4.07,
            4.14,
            4.49,
            4.38
           ]
          }
         ],
         "layout": {
          "title": {
           "text": "Curva de Rendimientos - 2024-01-25"
          }
         },
         "name": "2024-01-25"
        },
        {
         "data": [
          {
           "marker": {
            "size": 8
           },
           "mode": "lines+markers",
           "type": "scatter",
           "x": [
            "1 Mes",
            "3 Meses",
            "6 Meses",
            "1 Año",
            "2 Años",
            "3 Años",
            "5 Años",
            "7 Años",
            "10 Años",
            "20 Años",
            "30 Años"
           ],
           "y": [
            5.54,
            5.44,
            5.19,
            4.78,
            4.34,
            4.15,
            4.04,
            4.1,
            4.15,
            4.49,
            4.38
           ]
          }
         ],
         "layout": {
          "title": {
           "text": "Curva de Rendimientos - 2024-01-26"
          }
         },
         "name": "2024-01-26"
        },
        {
         "data": [
          {
           "marker": {
            "size": 8
           },
           "mode": "lines+markers",
           "type": "scatter",
           "x": [
            "1 Mes",
            "3 Meses",
            "6 Meses",
            "1 Año",
            "2 Años",
            "3 Años",
            "5 Años",
            "7 Años",
            "10 Años",
            "20 Años",
            "30 Años"
           ],
           "y": [
            5.53,
            5.42,
            5.19,
            4.76,
            4.29,
            4.1,
            3.97,
            4.02,
            4.08,
            4.42,
            4.31
           ]
          }
         ],
         "layout": {
          "title": {
           "text": "Curva de Rendimientos - 2024-01-29"
          }
         },
         "name": "2024-01-29"
        },
        {
         "data": [
          {
           "marker": {
            "size": 8
           },
           "mode": "lines+markers",
           "type": "scatter",
           "x": [
            "1 Mes",
            "3 Meses",
            "6 Meses",
            "1 Año",
            "2 Años",
            "3 Años",
            "5 Años",
            "7 Años",
            "10 Años",
            "20 Años",
            "30 Años"
           ],
           "y": [
            5.53,
            5.42,
            5.19,
            4.8,
            4.36,
            4.14,
            4,
            4.03,
            4.06,
            4.4,
            4.28
           ]
          }
         ],
         "layout": {
          "title": {
           "text": "Curva de Rendimientos - 2024-01-30"
          }
         },
         "name": "2024-01-30"
        },
        {
         "data": [
          {
           "marker": {
            "size": 8
           },
           "mode": "lines+markers",
           "type": "scatter",
           "x": [
            "1 Mes",
            "3 Meses",
            "6 Meses",
            "1 Año",
            "2 Años",
            "3 Años",
            "5 Años",
            "7 Años",
            "10 Años",
            "20 Años",
            "30 Años"
           ],
           "y": [
            5.53,
            5.42,
            5.18,
            4.73,
            4.27,
            4.05,
            3.91,
            3.95,
            3.99,
            4.34,
            4.22
           ]
          }
         ],
         "layout": {
          "title": {
           "text": "Curva de Rendimientos - 2024-01-31"
          }
         },
         "name": "2024-01-31"
        },
        {
         "data": [
          {
           "marker": {
            "size": 8
           },
           "mode": "lines+markers",
           "type": "scatter",
           "x": [
            "1 Mes",
            "3 Meses",
            "6 Meses",
            "1 Año",
            "2 Años",
            "3 Años",
            "5 Años",
            "7 Años",
            "10 Años",
            "20 Años",
            "30 Años"
           ],
           "y": [
            5.49,
            5.42,
            5.15,
            4.68,
            4.2,
            3.96,
            3.8,
            3.83,
            3.87,
            4.21,
            4.1
           ]
          }
         ],
         "layout": {
          "title": {
           "text": "Curva de Rendimientos - 2024-02-01"
          }
         },
         "name": "2024-02-01"
        },
        {
         "data": [
          {
           "marker": {
            "size": 8
           },
           "mode": "lines+markers",
           "type": "scatter",
           "x": [
            "1 Mes",
            "3 Meses",
            "6 Meses",
            "1 Año",
            "2 Años",
            "3 Años",
            "5 Años",
            "7 Años",
            "10 Años",
            "20 Años",
            "30 Años"
           ],
           "y": [
            5.49,
            5.43,
            5.22,
            4.81,
            4.36,
            4.14,
            3.99,
            4.02,
            4.03,
            4.33,
            4.22
           ]
          }
         ],
         "layout": {
          "title": {
           "text": "Curva de Rendimientos - 2024-02-02"
          }
         },
         "name": "2024-02-02"
        },
        {
         "data": [
          {
           "marker": {
            "size": 8
           },
           "mode": "lines+markers",
           "type": "scatter",
           "x": [
            "1 Mes",
            "3 Meses",
            "6 Meses",
            "1 Año",
            "2 Años",
            "3 Años",
            "5 Años",
            "7 Años",
            "10 Años",
            "20 Años",
            "30 Años"
           ],
           "y": [
            5.49,
            5.42,
            5.25,
            4.87,
            4.46,
            4.27,
            4.13,
            4.16,
            4.17,
            4.46,
            4.35
           ]
          }
         ],
         "layout": {
          "title": {
           "text": "Curva de Rendimientos - 2024-02-05"
          }
         },
         "name": "2024-02-05"
        },
        {
         "data": [
          {
           "marker": {
            "size": 8
           },
           "mode": "lines+markers",
           "type": "scatter",
           "x": [
            "1 Mes",
            "3 Meses",
            "6 Meses",
            "1 Año",
            "2 Años",
            "3 Años",
            "5 Años",
            "7 Años",
            "10 Años",
            "20 Años",
            "30 Años"
           ],
           "y": [
            5.48,
            5.44,
            5.23,
            4.82,
            4.39,
            4.14,
            4.03,
            4.07,
            4.09,
            4.39,
            4.29
           ]
          }
         ],
         "layout": {
          "title": {
           "text": "Curva de Rendimientos - 2024-02-06"
          }
         },
         "name": "2024-02-06"
        },
        {
         "data": [
          {
           "marker": {
            "size": 8
           },
           "mode": "lines+markers",
           "type": "scatter",
           "x": [
            "1 Mes",
            "3 Meses",
            "6 Meses",
            "1 Año",
            "2 Años",
            "3 Años",
            "5 Años",
            "7 Años",
            "10 Años",
            "20 Años",
            "30 Años"
           ],
           "y": [
            5.47,
            5.43,
            5.23,
            4.83,
            4.41,
            4.16,
            4.06,
            4.09,
            4.09,
            4.41,
            4.31
           ]
          }
         ],
         "layout": {
          "title": {
           "text": "Curva de Rendimientos - 2024-02-07"
          }
         },
         "name": "2024-02-07"
        },
        {
         "data": [
          {
           "marker": {
            "size": 8
           },
           "mode": "lines+markers",
           "type": "scatter",
           "x": [
            "1 Mes",
            "3 Meses",
            "6 Meses",
            "1 Año",
            "2 Años",
            "3 Años",
            "5 Años",
            "7 Años",
            "10 Años",
            "20 Años",
            "30 Años"
           ],
           "y": [
            5.49,
            5.44,
            5.24,
            4.83,
            4.46,
            4.22,
            4.12,
            4.15,
            4.15,
            4.47,
            4.36
           ]
          }
         ],
         "layout": {
          "title": {
           "text": "Curva de Rendimientos - 2024-02-08"
          }
         },
         "name": "2024-02-08"
        },
        {
         "data": [
          {
           "marker": {
            "size": 8
           },
           "mode": "lines+markers",
           "type": "scatter",
           "x": [
            "1 Mes",
            "3 Meses",
            "6 Meses",
            "1 Año",
            "2 Años",
            "3 Años",
            "5 Años",
            "7 Años",
            "10 Años",
            "20 Años",
            "30 Años"
           ],
           "y": [
            5.49,
            5.44,
            5.26,
            4.86,
            4.48,
            4.25,
            4.14,
            4.17,
            4.17,
            4.48,
            4.37
           ]
          }
         ],
         "layout": {
          "title": {
           "text": "Curva de Rendimientos - 2024-02-09"
          }
         },
         "name": "2024-02-09"
        },
        {
         "data": [
          {
           "marker": {
            "size": 8
           },
           "mode": "lines+markers",
           "type": "scatter",
           "x": [
            "1 Mes",
            "3 Meses",
            "6 Meses",
            "1 Año",
            "2 Años",
            "3 Años",
            "5 Años",
            "7 Años",
            "10 Años",
            "20 Años",
            "30 Años"
           ],
           "y": [
            5.49,
            5.43,
            5.27,
            4.87,
            4.46,
            4.25,
            4.13,
            4.16,
            4.17,
            4.48,
            4.37
           ]
          }
         ],
         "layout": {
          "title": {
           "text": "Curva de Rendimientos - 2024-02-12"
          }
         },
         "name": "2024-02-12"
        },
        {
         "data": [
          {
           "marker": {
            "size": 8
           },
           "mode": "lines+markers",
           "type": "scatter",
           "x": [
            "1 Mes",
            "3 Meses",
            "6 Meses",
            "1 Año",
            "2 Años",
            "3 Años",
            "5 Años",
            "7 Años",
            "10 Años",
            "20 Años",
            "30 Años"
           ],
           "y": [
            5.48,
            5.45,
            5.32,
            4.99,
            4.64,
            4.44,
            4.31,
            4.33,
            4.31,
            4.59,
            4.46
           ]
          }
         ],
         "layout": {
          "title": {
           "text": "Curva de Rendimientos - 2024-02-13"
          }
         },
         "name": "2024-02-13"
        },
        {
         "data": [
          {
           "marker": {
            "size": 8
           },
           "mode": "lines+markers",
           "type": "scatter",
           "x": [
            "1 Mes",
            "3 Meses",
            "6 Meses",
            "1 Año",
            "2 Años",
            "3 Años",
            "5 Años",
            "7 Años",
            "10 Años",
            "20 Años",
            "30 Años"
           ],
           "y": [
            5.48,
            5.43,
            5.31,
            4.94,
            4.56,
            4.38,
            4.25,
            4.27,
            4.27,
            4.57,
            4.45
           ]
          }
         ],
         "layout": {
          "title": {
           "text": "Curva de Rendimientos - 2024-02-14"
          }
         },
         "name": "2024-02-14"
        },
        {
         "data": [
          {
           "marker": {
            "size": 8
           },
           "mode": "lines+markers",
           "type": "scatter",
           "x": [
            "1 Mes",
            "3 Meses",
            "6 Meses",
            "1 Año",
            "2 Años",
            "3 Años",
            "5 Años",
            "7 Años",
            "10 Años",
            "20 Años",
            "30 Años"
           ],
           "y": [
            5.49,
            5.43,
            5.3,
            4.93,
            4.56,
            4.36,
            4.22,
            4.25,
            4.24,
            4.54,
            4.42
           ]
          }
         ],
         "layout": {
          "title": {
           "text": "Curva de Rendimientos - 2024-02-15"
          }
         },
         "name": "2024-02-15"
        },
        {
         "data": [
          {
           "marker": {
            "size": 8
           },
           "mode": "lines+markers",
           "type": "scatter",
           "x": [
            "1 Mes",
            "3 Meses",
            "6 Meses",
            "1 Año",
            "2 Años",
            "3 Años",
            "5 Años",
            "7 Años",
            "10 Años",
            "20 Años",
            "30 Años"
           ],
           "y": [
            5.48,
            5.44,
            5.31,
            4.98,
            4.64,
            4.43,
            4.29,
            4.31,
            4.3,
            4.58,
            4.45
           ]
          }
         ],
         "layout": {
          "title": {
           "text": "Curva de Rendimientos - 2024-02-16"
          }
         },
         "name": "2024-02-16"
        },
        {
         "data": [
          {
           "marker": {
            "size": 8
           },
           "mode": "lines+markers",
           "type": "scatter",
           "x": [
            "1 Mes",
            "3 Meses",
            "6 Meses",
            "1 Año",
            "2 Años",
            "3 Años",
            "5 Años",
            "7 Años",
            "10 Años",
            "20 Años",
            "30 Años"
           ],
           "y": [
            5.49,
            5.44,
            5.32,
            4.97,
            4.59,
            4.38,
            4.25,
            4.28,
            4.27,
            4.56,
            4.44
           ]
          }
         ],
         "layout": {
          "title": {
           "text": "Curva de Rendimientos - 2024-02-20"
          }
         },
         "name": "2024-02-20"
        },
        {
         "data": [
          {
           "marker": {
            "size": 8
           },
           "mode": "lines+markers",
           "type": "scatter",
           "x": [
            "1 Mes",
            "3 Meses",
            "6 Meses",
            "1 Año",
            "2 Años",
            "3 Años",
            "5 Años",
            "7 Años",
            "10 Años",
            "20 Años",
            "30 Años"
           ],
           "y": [
            5.5,
            5.44,
            5.32,
            4.98,
            4.64,
            4.43,
            4.3,
            4.33,
            4.32,
            4.59,
            4.49
           ]
          }
         ],
         "layout": {
          "title": {
           "text": "Curva de Rendimientos - 2024-02-21"
          }
         },
         "name": "2024-02-21"
        },
        {
         "data": [
          {
           "marker": {
            "size": 8
           },
           "mode": "lines+markers",
           "type": "scatter",
           "x": [
            "1 Mes",
            "3 Meses",
            "6 Meses",
            "1 Año",
            "2 Años",
            "3 Años",
            "5 Años",
            "7 Años",
            "10 Años",
            "20 Años",
            "30 Años"
           ],
           "y": [
            5.49,
            5.45,
            5.32,
            5.02,
            4.69,
            4.49,
            4.33,
            4.35,
            4.33,
            4.58,
            4.47
           ]
          }
         ],
         "layout": {
          "title": {
           "text": "Curva de Rendimientos - 2024-02-22"
          }
         },
         "name": "2024-02-22"
        },
        {
         "data": [
          {
           "marker": {
            "size": 8
           },
           "mode": "lines+markers",
           "type": "scatter",
           "x": [
            "1 Mes",
            "3 Meses",
            "6 Meses",
            "1 Año",
            "2 Años",
            "3 Años",
            "5 Años",
            "7 Años",
            "10 Años",
            "20 Años",
            "30 Años"
           ],
           "y": [
            5.49,
            5.46,
            5.32,
            5,
            4.67,
            4.45,
            4.28,
            4.28,
            4.26,
            4.51,
            4.37
           ]
          }
         ],
         "layout": {
          "title": {
           "text": "Curva de Rendimientos - 2024-02-23"
          }
         },
         "name": "2024-02-23"
        },
        {
         "data": [
          {
           "marker": {
            "size": 8
           },
           "mode": "lines+markers",
           "type": "scatter",
           "x": [
            "1 Mes",
            "3 Meses",
            "6 Meses",
            "1 Año",
            "2 Años",
            "3 Años",
            "5 Años",
            "7 Años",
            "10 Años",
            "20 Años",
            "30 Años"
           ],
           "y": [
            5.5,
            5.47,
            5.34,
            5.03,
            4.69,
            4.48,
            4.29,
            4.32,
            4.28,
            4.53,
            4.4
           ]
          }
         ],
         "layout": {
          "title": {
           "text": "Curva de Rendimientos - 2024-02-26"
          }
         },
         "name": "2024-02-26"
        },
        {
         "data": [
          {
           "marker": {
            "size": 8
           },
           "mode": "lines+markers",
           "type": "scatter",
           "x": [
            "1 Mes",
            "3 Meses",
            "6 Meses",
            "1 Año",
            "2 Años",
            "3 Años",
            "5 Años",
            "7 Años",
            "10 Años",
            "20 Años",
            "30 Años"
           ],
           "y": [
            5.5,
            5.45,
            5.33,
            5.03,
            4.7,
            4.5,
            4.32,
            4.34,
            4.31,
            4.57,
            4.44
           ]
          }
         ],
         "layout": {
          "title": {
           "text": "Curva de Rendimientos - 2024-02-27"
          }
         },
         "name": "2024-02-27"
        },
        {
         "data": [
          {
           "marker": {
            "size": 8
           },
           "mode": "lines+markers",
           "type": "scatter",
           "x": [
            "1 Mes",
            "3 Meses",
            "6 Meses",
            "1 Año",
            "2 Años",
            "3 Años",
            "5 Años",
            "7 Años",
            "10 Años",
            "20 Años",
            "30 Años"
           ],
           "y": [
            5.5,
            5.45,
            5.31,
            5,
            4.64,
            4.44,
            4.26,
            4.28,
            4.27,
            4.53,
            4.4
           ]
          }
         ],
         "layout": {
          "title": {
           "text": "Curva de Rendimientos - 2024-02-28"
          }
         },
         "name": "2024-02-28"
        },
        {
         "data": [
          {
           "marker": {
            "size": 8
           },
           "mode": "lines+markers",
           "type": "scatter",
           "x": [
            "1 Mes",
            "3 Meses",
            "6 Meses",
            "1 Año",
            "2 Años",
            "3 Años",
            "5 Años",
            "7 Años",
            "10 Años",
            "20 Años",
            "30 Años"
           ],
           "y": [
            5.53,
            5.45,
            5.3,
            5.01,
            4.64,
            4.43,
            4.26,
            4.28,
            4.25,
            4.51,
            4.38
           ]
          }
         ],
         "layout": {
          "title": {
           "text": "Curva de Rendimientos - 2024-02-29"
          }
         },
         "name": "2024-02-29"
        },
        {
         "data": [
          {
           "marker": {
            "size": 8
           },
           "mode": "lines+markers",
           "type": "scatter",
           "x": [
            "1 Mes",
            "3 Meses",
            "6 Meses",
            "1 Año",
            "2 Años",
            "3 Años",
            "5 Años",
            "7 Años",
            "10 Años",
            "20 Años",
            "30 Años"
           ],
           "y": [
            5.54,
            5.42,
            5.27,
            4.94,
            4.54,
            4.32,
            4.17,
            4.2,
            4.19,
            4.46,
            4.33
           ]
          }
         ],
         "layout": {
          "title": {
           "text": "Curva de Rendimientos - 2024-03-01"
          }
         },
         "name": "2024-03-01"
        },
        {
         "data": [
          {
           "marker": {
            "size": 8
           },
           "mode": "lines+markers",
           "type": "scatter",
           "x": [
            "1 Mes",
            "3 Meses",
            "6 Meses",
            "1 Año",
            "2 Años",
            "3 Años",
            "5 Años",
            "7 Años",
            "10 Años",
            "20 Años",
            "30 Años"
           ],
           "y": [
            5.51,
            5.48,
            5.37,
            4.98,
            4.61,
            4.39,
            4.21,
            4.23,
            4.22,
            4.48,
            4.36
           ]
          }
         ],
         "layout": {
          "title": {
           "text": "Curva de Rendimientos - 2024-03-04"
          }
         },
         "name": "2024-03-04"
        },
        {
         "data": [
          {
           "marker": {
            "size": 8
           },
           "mode": "lines+markers",
           "type": "scatter",
           "x": [
            "1 Mes",
            "3 Meses",
            "6 Meses",
            "1 Año",
            "2 Años",
            "3 Años",
            "5 Años",
            "7 Años",
            "10 Años",
            "20 Años",
            "30 Años"
           ],
           "y": [
            5.5,
            5.47,
            5.35,
            4.94,
            4.54,
            4.32,
            4.13,
            4.15,
            4.13,
            4.39,
            4.27
           ]
          }
         ],
         "layout": {
          "title": {
           "text": "Curva de Rendimientos - 2024-03-05"
          }
         },
         "name": "2024-03-05"
        },
        {
         "data": [
          {
           "marker": {
            "size": 8
           },
           "mode": "lines+markers",
           "type": "scatter",
           "x": [
            "1 Mes",
            "3 Meses",
            "6 Meses",
            "1 Año",
            "2 Años",
            "3 Años",
            "5 Años",
            "7 Años",
            "10 Años",
            "20 Años",
            "30 Años"
           ],
           "y": [
            5.5,
            5.47,
            5.35,
            4.95,
            4.55,
            4.32,
            4.12,
            4.12,
            4.11,
            4.36,
            4.24
           ]
          }
         ],
         "layout": {
          "title": {
           "text": "Curva de Rendimientos - 2024-03-06"
          }
         },
         "name": "2024-03-06"
        },
        {
         "data": [
          {
           "marker": {
            "size": 8
           },
           "mode": "lines+markers",
           "type": "scatter",
           "x": [
            "1 Mes",
            "3 Meses",
            "6 Meses",
            "1 Año",
            "2 Años",
            "3 Años",
            "5 Años",
            "7 Años",
            "10 Años",
            "20 Años",
            "30 Años"
           ],
           "y": [
            5.51,
            5.47,
            5.34,
            4.93,
            4.5,
            4.28,
            4.07,
            4.09,
            4.09,
            4.35,
            4.25
           ]
          }
         ],
         "layout": {
          "title": {
           "text": "Curva de Rendimientos - 2024-03-07"
          }
         },
         "name": "2024-03-07"
        },
        {
         "data": [
          {
           "marker": {
            "size": 8
           },
           "mode": "lines+markers",
           "type": "scatter",
           "x": [
            "1 Mes",
            "3 Meses",
            "6 Meses",
            "1 Año",
            "2 Años",
            "3 Años",
            "5 Años",
            "7 Años",
            "10 Años",
            "20 Años",
            "30 Años"
           ],
           "y": [
            5.51,
            5.46,
            5.34,
            4.92,
            4.48,
            4.25,
            4.06,
            4.08,
            4.09,
            4.36,
            4.26
           ]
          }
         ],
         "layout": {
          "title": {
           "text": "Curva de Rendimientos - 2024-03-08"
          }
         },
         "name": "2024-03-08"
        },
        {
         "data": [
          {
           "marker": {
            "size": 8
           },
           "mode": "lines+markers",
           "type": "scatter",
           "x": [
            "1 Mes",
            "3 Meses",
            "6 Meses",
            "1 Año",
            "2 Años",
            "3 Años",
            "5 Años",
            "7 Años",
            "10 Años",
            "20 Años",
            "30 Años"
           ],
           "y": [
            5.5,
            5.48,
            5.35,
            4.95,
            4.51,
            4.26,
            4.08,
            4.09,
            4.1,
            4.36,
            4.26
           ]
          }
         ],
         "layout": {
          "title": {
           "text": "Curva de Rendimientos - 2024-03-11"
          }
         },
         "name": "2024-03-11"
        },
        {
         "data": [
          {
           "marker": {
            "size": 8
           },
           "mode": "lines+markers",
           "type": "scatter",
           "x": [
            "1 Mes",
            "3 Meses",
            "6 Meses",
            "1 Año",
            "2 Años",
            "3 Años",
            "5 Años",
            "7 Años",
            "10 Años",
            "20 Años",
            "30 Años"
           ],
           "y": [
            5.52,
            5.48,
            5.37,
            5,
            4.58,
            4.33,
            4.15,
            4.16,
            4.16,
            4.42,
            4.31
           ]
          }
         ],
         "layout": {
          "title": {
           "text": "Curva de Rendimientos - 2024-03-12"
          }
         },
         "name": "2024-03-12"
        },
        {
         "data": [
          {
           "marker": {
            "size": 8
           },
           "mode": "lines+markers",
           "type": "scatter",
           "x": [
            "1 Mes",
            "3 Meses",
            "6 Meses",
            "1 Año",
            "2 Años",
            "3 Años",
            "5 Años",
            "7 Años",
            "10 Años",
            "20 Años",
            "30 Años"
           ],
           "y": [
            5.52,
            5.48,
            5.37,
            5.01,
            4.61,
            4.37,
            4.19,
            4.2,
            4.19,
            4.45,
            4.35
           ]
          }
         ],
         "layout": {
          "title": {
           "text": "Curva de Rendimientos - 2024-03-13"
          }
         },
         "name": "2024-03-13"
        },
        {
         "data": [
          {
           "marker": {
            "size": 8
           },
           "mode": "lines+markers",
           "type": "scatter",
           "x": [
            "1 Mes",
            "3 Meses",
            "6 Meses",
            "1 Año",
            "2 Años",
            "3 Años",
            "5 Años",
            "7 Años",
            "10 Años",
            "20 Años",
            "30 Años"
           ],
           "y": [
            5.52,
            5.48,
            5.38,
            5.04,
            4.68,
            4.46,
            4.29,
            4.3,
            4.29,
            4.54,
            4.44
           ]
          }
         ],
         "layout": {
          "title": {
           "text": "Curva de Rendimientos - 2024-03-14"
          }
         },
         "name": "2024-03-14"
        },
        {
         "data": [
          {
           "marker": {
            "size": 8
           },
           "mode": "lines+markers",
           "type": "scatter",
           "x": [
            "1 Mes",
            "3 Meses",
            "6 Meses",
            "1 Año",
            "2 Años",
            "3 Años",
            "5 Años",
            "7 Años",
            "10 Años",
            "20 Años",
            "30 Años"
           ],
           "y": [
            5.52,
            5.48,
            5.38,
            5.05,
            4.72,
            4.51,
            4.33,
            4.33,
            4.31,
            4.55,
            4.43
           ]
          }
         ],
         "layout": {
          "title": {
           "text": "Curva de Rendimientos - 2024-03-15"
          }
         },
         "name": "2024-03-15"
        },
        {
         "data": [
          {
           "marker": {
            "size": 8
           },
           "mode": "lines+markers",
           "type": "scatter",
           "x": [
            "1 Mes",
            "3 Meses",
            "6 Meses",
            "1 Año",
            "2 Años",
            "3 Años",
            "5 Años",
            "7 Años",
            "10 Años",
            "20 Años",
            "30 Años"
           ],
           "y": [
            5.52,
            5.48,
            5.39,
            5.06,
            4.73,
            4.52,
            4.36,
            4.35,
            4.34,
            4.57,
            4.46
           ]
          }
         ],
         "layout": {
          "title": {
           "text": "Curva de Rendimientos - 2024-03-18"
          }
         },
         "name": "2024-03-18"
        },
        {
         "data": [
          {
           "marker": {
            "size": 8
           },
           "mode": "lines+markers",
           "type": "scatter",
           "x": [
            "1 Mes",
            "3 Meses",
            "6 Meses",
            "1 Año",
            "2 Años",
            "3 Años",
            "5 Años",
            "7 Años",
            "10 Años",
            "20 Años",
            "30 Años"
           ],
           "y": [
            5.52,
            5.48,
            5.39,
            5.06,
            4.68,
            4.47,
            4.31,
            4.31,
            4.3,
            4.54,
            4.44
           ]
          }
         ],
         "layout": {
          "title": {
           "text": "Curva de Rendimientos - 2024-03-19"
          }
         },
         "name": "2024-03-19"
        },
        {
         "data": [
          {
           "marker": {
            "size": 8
           },
           "mode": "lines+markers",
           "type": "scatter",
           "x": [
            "1 Mes",
            "3 Meses",
            "6 Meses",
            "1 Año",
            "2 Años",
            "3 Años",
            "5 Años",
            "7 Años",
            "10 Años",
            "20 Años",
            "30 Años"
           ],
           "y": [
            5.5,
            5.47,
            5.36,
            5.01,
            4.59,
            4.41,
            4.25,
            4.28,
            4.27,
            4.53,
            4.45
           ]
          }
         ],
         "layout": {
          "title": {
           "text": "Curva de Rendimientos - 2024-03-20"
          }
         },
         "name": "2024-03-20"
        },
        {
         "data": [
          {
           "marker": {
            "size": 8
           },
           "mode": "lines+markers",
           "type": "scatter",
           "x": [
            "1 Mes",
            "3 Meses",
            "6 Meses",
            "1 Año",
            "2 Años",
            "3 Años",
            "5 Años",
            "7 Años",
            "10 Años",
            "20 Años",
            "30 Años"
           ],
           "y": [
            5.51,
            5.48,
            5.36,
            5.01,
            4.62,
            4.42,
            4.26,
            4.28,
            4.27,
            4.53,
            4.44
           ]
          }
         ],
         "layout": {
          "title": {
           "text": "Curva de Rendimientos - 2024-03-21"
          }
         },
         "name": "2024-03-21"
        },
        {
         "data": [
          {
           "marker": {
            "size": 8
           },
           "mode": "lines+markers",
           "type": "scatter",
           "x": [
            "1 Mes",
            "3 Meses",
            "6 Meses",
            "1 Año",
            "2 Años",
            "3 Años",
            "5 Años",
            "7 Años",
            "10 Años",
            "20 Años",
            "30 Años"
           ],
           "y": [
            5.51,
            5.46,
            5.34,
            4.98,
            4.59,
            4.36,
            4.2,
            4.22,
            4.22,
            4.47,
            4.39
           ]
          }
         ],
         "layout": {
          "title": {
           "text": "Curva de Rendimientos - 2024-03-22"
          }
         },
         "name": "2024-03-22"
        },
        {
         "data": [
          {
           "marker": {
            "size": 8
           },
           "mode": "lines+markers",
           "type": "scatter",
           "x": [
            "1 Mes",
            "3 Meses",
            "6 Meses",
            "1 Año",
            "2 Años",
            "3 Años",
            "5 Años",
            "7 Años",
            "10 Años",
            "20 Años",
            "30 Años"
           ],
           "y": [
            5.51,
            5.46,
            5.36,
            5,
            4.54,
            4.39,
            4.23,
            4.25,
            4.25,
            4.51,
            4.42
           ]
          }
         ],
         "layout": {
          "title": {
           "text": "Curva de Rendimientos - 2024-03-25"
          }
         },
         "name": "2024-03-25"
        },
        {
         "data": [
          {
           "marker": {
            "size": 8
           },
           "mode": "lines+markers",
           "type": "scatter",
           "x": [
            "1 Mes",
            "3 Meses",
            "6 Meses",
            "1 Año",
            "2 Años",
            "3 Años",
            "5 Años",
            "7 Años",
            "10 Años",
            "20 Años",
            "30 Años"
           ],
           "y": [
            5.5,
            5.46,
            5.36,
            5,
            4.56,
            4.38,
            4.22,
            4.23,
            4.24,
            4.49,
            4.4
           ]
          }
         ],
         "layout": {
          "title": {
           "text": "Curva de Rendimientos - 2024-03-26"
          }
         },
         "name": "2024-03-26"
        },
        {
         "data": [
          {
           "marker": {
            "size": 8
           },
           "mode": "lines+markers",
           "type": "scatter",
           "x": [
            "1 Mes",
            "3 Meses",
            "6 Meses",
            "1 Año",
            "2 Años",
            "3 Años",
            "5 Años",
            "7 Años",
            "10 Años",
            "20 Años",
            "30 Años"
           ],
           "y": [
            5.5,
            5.45,
            5.36,
            4.99,
            4.54,
            4.36,
            4.18,
            4.18,
            4.2,
            4.45,
            4.36
           ]
          }
         ],
         "layout": {
          "title": {
           "text": "Curva de Rendimientos - 2024-03-27"
          }
         },
         "name": "2024-03-27"
        },
        {
         "data": [
          {
           "marker": {
            "size": 8
           },
           "mode": "lines+markers",
           "type": "scatter",
           "x": [
            "1 Mes",
            "3 Meses",
            "6 Meses",
            "1 Año",
            "2 Años",
            "3 Años",
            "5 Años",
            "7 Años",
            "10 Años",
            "20 Años",
            "30 Años"
           ],
           "y": [
            5.49,
            5.46,
            5.38,
            5.03,
            4.59,
            4.4,
            4.21,
            4.2,
            4.2,
            4.45,
            4.34
           ]
          }
         ],
         "layout": {
          "title": {
           "text": "Curva de Rendimientos - 2024-03-28"
          }
         },
         "name": "2024-03-28"
        },
        {
         "data": [
          {
           "marker": {
            "size": 8
           },
           "mode": "lines+markers",
           "type": "scatter",
           "x": [
            "1 Mes",
            "3 Meses",
            "6 Meses",
            "1 Año",
            "2 Años",
            "3 Años",
            "5 Años",
            "7 Años",
            "10 Años",
            "20 Años",
            "30 Años"
           ],
           "y": [
            5.49,
            5.44,
            5.36,
            5.06,
            4.72,
            4.51,
            4.34,
            4.33,
            4.33,
            4.58,
            4.47
           ]
          }
         ],
         "layout": {
          "title": {
           "text": "Curva de Rendimientos - 2024-04-01"
          }
         },
         "name": "2024-04-01"
        },
        {
         "data": [
          {
           "marker": {
            "size": 8
           },
           "mode": "lines+markers",
           "type": "scatter",
           "x": [
            "1 Mes",
            "3 Meses",
            "6 Meses",
            "1 Año",
            "2 Años",
            "3 Años",
            "5 Años",
            "7 Años",
            "10 Años",
            "20 Años",
            "30 Años"
           ],
           "y": [
            5.49,
            5.42,
            5.34,
            5.05,
            4.7,
            4.51,
            4.35,
            4.37,
            4.36,
            4.61,
            4.51
           ]
          }
         ],
         "layout": {
          "title": {
           "text": "Curva de Rendimientos - 2024-04-02"
          }
         },
         "name": "2024-04-02"
        },
        {
         "data": [
          {
           "marker": {
            "size": 8
           },
           "mode": "lines+markers",
           "type": "scatter",
           "x": [
            "1 Mes",
            "3 Meses",
            "6 Meses",
            "1 Año",
            "2 Años",
            "3 Años",
            "5 Años",
            "7 Años",
            "10 Años",
            "20 Años",
            "30 Años"
           ],
           "y": [
            5.47,
            5.42,
            5.33,
            5.03,
            4.68,
            4.48,
            4.34,
            4.36,
            4.36,
            4.61,
            4.51
           ]
          }
         ],
         "layout": {
          "title": {
           "text": "Curva de Rendimientos - 2024-04-03"
          }
         },
         "name": "2024-04-03"
        },
        {
         "data": [
          {
           "marker": {
            "size": 8
           },
           "mode": "lines+markers",
           "type": "scatter",
           "x": [
            "1 Mes",
            "3 Meses",
            "6 Meses",
            "1 Año",
            "2 Años",
            "3 Años",
            "5 Años",
            "7 Años",
            "10 Años",
            "20 Años",
            "30 Años"
           ],
           "y": [
            5.47,
            5.41,
            5.32,
            5,
            4.65,
            4.46,
            4.3,
            4.31,
            4.31,
            4.57,
            4.47
           ]
          }
         ],
         "layout": {
          "title": {
           "text": "Curva de Rendimientos - 2024-04-04"
          }
         },
         "name": "2024-04-04"
        },
        {
         "data": [
          {
           "marker": {
            "size": 8
           },
           "mode": "lines+markers",
           "type": "scatter",
           "x": [
            "1 Mes",
            "3 Meses",
            "6 Meses",
            "1 Año",
            "2 Años",
            "3 Años",
            "5 Años",
            "7 Años",
            "10 Años",
            "20 Años",
            "30 Años"
           ],
           "y": [
            5.47,
            5.43,
            5.34,
            5.05,
            4.73,
            4.54,
            4.38,
            4.39,
            4.39,
            4.65,
            4.54
           ]
          }
         ],
         "layout": {
          "title": {
           "text": "Curva de Rendimientos - 2024-04-05"
          }
         },
         "name": "2024-04-05"
        },
        {
         "data": [
          {
           "marker": {
            "size": 8
           },
           "mode": "lines+markers",
           "type": "scatter",
           "x": [
            "1 Mes",
            "3 Meses",
            "6 Meses",
            "1 Año",
            "2 Años",
            "3 Años",
            "5 Años",
            "7 Años",
            "10 Años",
            "20 Años",
            "30 Años"
           ],
           "y": [
            5.48,
            5.43,
            5.35,
            5.07,
            4.78,
            4.6,
            4.43,
            4.43,
            4.42,
            4.65,
            4.55
           ]
          }
         ],
         "layout": {
          "title": {
           "text": "Curva de Rendimientos - 2024-04-08"
          }
         },
         "name": "2024-04-08"
        },
        {
         "data": [
          {
           "marker": {
            "size": 8
           },
           "mode": "lines+markers",
           "type": "scatter",
           "x": [
            "1 Mes",
            "3 Meses",
            "6 Meses",
            "1 Año",
            "2 Años",
            "3 Años",
            "5 Años",
            "7 Años",
            "10 Años",
            "20 Años",
            "30 Años"
           ],
           "y": [
            5.48,
            5.43,
            5.34,
            5.03,
            4.74,
            4.52,
            4.37,
            4.38,
            4.36,
            4.6,
            4.5
           ]
          }
         ],
         "layout": {
          "title": {
           "text": "Curva de Rendimientos - 2024-04-09"
          }
         },
         "name": "2024-04-09"
        },
        {
         "data": [
          {
           "marker": {
            "size": 8
           },
           "mode": "lines+markers",
           "type": "scatter",
           "x": [
            "1 Mes",
            "3 Meses",
            "6 Meses",
            "1 Año",
            "2 Años",
            "3 Años",
            "5 Años",
            "7 Años",
            "10 Años",
            "20 Años",
            "30 Años"
           ],
           "y": [
            5.49,
            5.45,
            5.4,
            5.19,
            4.97,
            4.77,
            4.61,
            4.59,
            4.55,
            4.76,
            4.64
           ]
          }
         ],
         "layout": {
          "title": {
           "text": "Curva de Rendimientos - 2024-04-10"
          }
         },
         "name": "2024-04-10"
        },
        {
         "data": [
          {
           "marker": {
            "size": 8
           },
           "mode": "lines+markers",
           "type": "scatter",
           "x": [
            "1 Mes",
            "3 Meses",
            "6 Meses",
            "1 Año",
            "2 Años",
            "3 Años",
            "5 Años",
            "7 Años",
            "10 Años",
            "20 Años",
            "30 Años"
           ],
           "y": [
            5.48,
            5.45,
            5.38,
            5.17,
            4.93,
            4.77,
            4.61,
            4.6,
            4.56,
            4.77,
            4.65
           ]
          }
         ],
         "layout": {
          "title": {
           "text": "Curva de Rendimientos - 2024-04-11"
          }
         },
         "name": "2024-04-11"
        },
        {
         "data": [
          {
           "marker": {
            "size": 8
           },
           "mode": "lines+markers",
           "type": "scatter",
           "x": [
            "1 Mes",
            "3 Meses",
            "6 Meses",
            "1 Año",
            "2 Años",
            "3 Años",
            "5 Años",
            "7 Años",
            "10 Años",
            "20 Años",
            "30 Años"
           ],
           "y": [
            5.48,
            5.45,
            5.36,
            5.13,
            4.88,
            4.7,
            4.54,
            4.53,
            4.5,
            4.73,
            4.61
           ]
          }
         ],
         "layout": {
          "title": {
           "text": "Curva de Rendimientos - 2024-04-12"
          }
         },
         "name": "2024-04-12"
        },
        {
         "data": [
          {
           "marker": {
            "size": 8
           },
           "mode": "lines+markers",
           "type": "scatter",
           "x": [
            "1 Mes",
            "3 Meses",
            "6 Meses",
            "1 Año",
            "2 Años",
            "3 Años",
            "5 Años",
            "7 Años",
            "10 Años",
            "20 Años",
            "30 Años"
           ],
           "y": [
            5.49,
            5.45,
            5.38,
            5.16,
            4.93,
            4.78,
            4.65,
            4.65,
            4.63,
            4.85,
            4.74
           ]
          }
         ],
         "layout": {
          "title": {
           "text": "Curva de Rendimientos - 2024-04-15"
          }
         },
         "name": "2024-04-15"
        },
        {
         "data": [
          {
           "marker": {
            "size": 8
           },
           "mode": "lines+markers",
           "type": "scatter",
           "x": [
            "1 Mes",
            "3 Meses",
            "6 Meses",
            "1 Año",
            "2 Años",
            "3 Años",
            "5 Años",
            "7 Años",
            "10 Años",
            "20 Años",
            "30 Años"
           ],
           "y": [
            5.49,
            5.45,
            5.39,
            5.18,
            4.97,
            4.83,
            4.69,
            4.69,
            4.67,
            4.88,
            4.77
           ]
          }
         ],
         "layout": {
          "title": {
           "text": "Curva de Rendimientos - 2024-04-16"
          }
         },
         "name": "2024-04-16"
        },
        {
         "data": [
          {
           "marker": {
            "size": 8
           },
           "mode": "lines+markers",
           "type": "scatter",
           "x": [
            "1 Mes",
            "3 Meses",
            "6 Meses",
            "1 Año",
            "2 Años",
            "3 Años",
            "5 Años",
            "7 Años",
            "10 Años",
            "20 Años",
            "30 Años"
           ],
           "y": [
            5.49,
            5.45,
            5.38,
            5.16,
            4.93,
            4.77,
            4.62,
            4.61,
            4.59,
            4.81,
            4.71
           ]
          }
         ],
         "layout": {
          "title": {
           "text": "Curva de Rendimientos - 2024-04-17"
          }
         },
         "name": "2024-04-17"
        },
        {
         "data": [
          {
           "marker": {
            "size": 8
           },
           "mode": "lines+markers",
           "type": "scatter",
           "x": [
            "1 Mes",
            "3 Meses",
            "6 Meses",
            "1 Año",
            "2 Años",
            "3 Años",
            "5 Años",
            "7 Años",
            "10 Años",
            "20 Años",
            "30 Años"
           ],
           "y": [
            5.49,
            5.46,
            5.39,
            5.18,
            4.98,
            4.83,
            4.68,
            4.67,
            4.64,
            4.85,
            4.74
           ]
          }
         ],
         "layout": {
          "title": {
           "text": "Curva de Rendimientos - 2024-04-18"
          }
         },
         "name": "2024-04-18"
        },
        {
         "data": [
          {
           "marker": {
            "size": 8
           },
           "mode": "lines+markers",
           "type": "scatter",
           "x": [
            "1 Mes",
            "3 Meses",
            "6 Meses",
            "1 Año",
            "2 Años",
            "3 Años",
            "5 Años",
            "7 Años",
            "10 Años",
            "20 Años",
            "30 Años"
           ],
           "y": [
            5.49,
            5.45,
            5.39,
            5.17,
            4.97,
            4.81,
            4.66,
            4.65,
            4.62,
            4.83,
            4.72
           ]
          }
         ],
         "layout": {
          "title": {
           "text": "Curva de Rendimientos - 2024-04-19"
          }
         },
         "name": "2024-04-19"
        },
        {
         "data": [
          {
           "marker": {
            "size": 8
           },
           "mode": "lines+markers",
           "type": "scatter",
           "x": [
            "1 Mes",
            "3 Meses",
            "6 Meses",
            "1 Año",
            "2 Años",
            "3 Años",
            "5 Años",
            "7 Años",
            "10 Años",
            "20 Años",
            "30 Años"
           ],
           "y": [
            5.49,
            5.42,
            5.39,
            5.16,
            4.97,
            4.81,
            4.66,
            4.65,
            4.62,
            4.84,
            4.72
           ]
          }
         ],
         "layout": {
          "title": {
           "text": "Curva de Rendimientos - 2024-04-22"
          }
         },
         "name": "2024-04-22"
        },
        {
         "data": [
          {
           "marker": {
            "size": 8
           },
           "mode": "lines+markers",
           "type": "scatter",
           "x": [
            "1 Mes",
            "3 Meses",
            "6 Meses",
            "1 Año",
            "2 Años",
            "3 Años",
            "5 Años",
            "7 Años",
            "10 Años",
            "20 Años",
            "30 Años"
           ],
           "y": [
            5.49,
            5.45,
            5.39,
            5.14,
            4.86,
            4.76,
            4.63,
            4.62,
            4.61,
            4.84,
            4.73
           ]
          }
         ],
         "layout": {
          "title": {
           "text": "Curva de Rendimientos - 2024-04-23"
          }
         },
         "name": "2024-04-23"
        },
        {
         "data": [
          {
           "marker": {
            "size": 8
           },
           "mode": "lines+markers",
           "type": "scatter",
           "x": [
            "1 Mes",
            "3 Meses",
            "6 Meses",
            "1 Año",
            "2 Años",
            "3 Años",
            "5 Años",
            "7 Años",
            "10 Años",
            "20 Años",
            "30 Años"
           ],
           "y": [
            5.49,
            5.46,
            5.4,
            5.17,
            4.89,
            4.78,
            4.64,
            4.66,
            4.65,
            4.88,
            4.78
           ]
          }
         ],
         "layout": {
          "title": {
           "text": "Curva de Rendimientos - 2024-04-24"
          }
         },
         "name": "2024-04-24"
        },
        {
         "data": [
          {
           "marker": {
            "size": 8
           },
           "mode": "lines+markers",
           "type": "scatter",
           "x": [
            "1 Mes",
            "3 Meses",
            "6 Meses",
            "1 Año",
            "2 Años",
            "3 Años",
            "5 Años",
            "7 Años",
            "10 Años",
            "20 Años",
            "30 Años"
           ],
           "y": [
            5.48,
            5.47,
            5.41,
            5.21,
            4.96,
            4.85,
            4.7,
            4.71,
            4.7,
            4.93,
            4.82
           ]
          }
         ],
         "layout": {
          "title": {
           "text": "Curva de Rendimientos - 2024-04-25"
          }
         },
         "name": "2024-04-25"
        },
        {
         "data": [
          {
           "marker": {
            "size": 8
           },
           "mode": "lines+markers",
           "type": "scatter",
           "x": [
            "1 Mes",
            "3 Meses",
            "6 Meses",
            "1 Año",
            "2 Años",
            "3 Años",
            "5 Años",
            "7 Años",
            "10 Años",
            "20 Años",
            "30 Años"
           ],
           "y": [
            5.48,
            5.46,
            5.4,
            5.21,
            4.96,
            4.84,
            4.68,
            4.68,
            4.67,
            4.89,
            4.78
           ]
          }
         ],
         "layout": {
          "title": {
           "text": "Curva de Rendimientos - 2024-04-26"
          }
         },
         "name": "2024-04-26"
        },
        {
         "data": [
          {
           "marker": {
            "size": 8
           },
           "mode": "lines+markers",
           "type": "scatter",
           "x": [
            "1 Mes",
            "3 Meses",
            "6 Meses",
            "1 Año",
            "2 Años",
            "3 Años",
            "5 Años",
            "7 Años",
            "10 Años",
            "20 Años",
            "30 Años"
           ],
           "y": [
            5.48,
            5.45,
            5.43,
            5.2,
            4.97,
            4.8,
            4.65,
            4.64,
            4.63,
            4.86,
            4.75
           ]
          }
         ],
         "layout": {
          "title": {
           "text": "Curva de Rendimientos - 2024-04-29"
          }
         },
         "name": "2024-04-29"
        },
        {
         "data": [
          {
           "marker": {
            "size": 8
           },
           "mode": "lines+markers",
           "type": "scatter",
           "x": [
            "1 Mes",
            "3 Meses",
            "6 Meses",
            "1 Año",
            "2 Años",
            "3 Años",
            "5 Años",
            "7 Años",
            "10 Años",
            "20 Años",
            "30 Años"
           ],
           "y": [
            5.48,
            5.46,
            5.44,
            5.25,
            5.04,
            4.87,
            4.72,
            4.71,
            4.69,
            4.9,
            4.79
           ]
          }
         ],
         "layout": {
          "title": {
           "text": "Curva de Rendimientos - 2024-04-30"
          }
         },
         "name": "2024-04-30"
        },
        {
         "data": [
          {
           "marker": {
            "size": 8
           },
           "mode": "lines+markers",
           "type": "scatter",
           "x": [
            "1 Mes",
            "3 Meses",
            "6 Meses",
            "1 Año",
            "2 Años",
            "3 Años",
            "5 Años",
            "7 Años",
            "10 Años",
            "20 Años",
            "30 Años"
           ],
           "y": [
            5.47,
            5.46,
            5.43,
            5.21,
            4.96,
            4.79,
            4.64,
            4.64,
            4.63,
            4.85,
            4.74
           ]
          }
         ],
         "layout": {
          "title": {
           "text": "Curva de Rendimientos - 2024-05-01"
          }
         },
         "name": "2024-05-01"
        },
        {
         "data": [
          {
           "marker": {
            "size": 8
           },
           "mode": "lines+markers",
           "type": "scatter",
           "x": [
            "1 Mes",
            "3 Meses",
            "6 Meses",
            "1 Año",
            "2 Años",
            "3 Años",
            "5 Años",
            "7 Años",
            "10 Años",
            "20 Años",
            "30 Años"
           ],
           "y": [
            5.51,
            5.46,
            5.42,
            5.16,
            4.87,
            4.71,
            4.57,
            4.57,
            4.58,
            4.82,
            4.72
           ]
          }
         ],
         "layout": {
          "title": {
           "text": "Curva de Rendimientos - 2024-05-02"
          }
         },
         "name": "2024-05-02"
        },
        {
         "data": [
          {
           "marker": {
            "size": 8
           },
           "mode": "lines+markers",
           "type": "scatter",
           "x": [
            "1 Mes",
            "3 Meses",
            "6 Meses",
            "1 Año",
            "2 Años",
            "3 Años",
            "5 Años",
            "7 Años",
            "10 Años",
            "20 Años",
            "30 Años"
           ],
           "y": [
            5.51,
            5.45,
            5.41,
            5.12,
            4.81,
            4.63,
            4.48,
            4.49,
            4.5,
            4.75,
            4.66
           ]
          }
         ],
         "layout": {
          "title": {
           "text": "Curva de Rendimientos - 2024-05-03"
          }
         },
         "name": "2024-05-03"
        },
        {
         "data": [
          {
           "marker": {
            "size": 8
           },
           "mode": "lines+markers",
           "type": "scatter",
           "x": [
            "1 Mes",
            "3 Meses",
            "6 Meses",
            "1 Año",
            "2 Años",
            "3 Años",
            "5 Años",
            "7 Años",
            "10 Años",
            "20 Años",
            "30 Años"
           ],
           "y": [
            5.51,
            5.45,
            5.42,
            5.12,
            4.82,
            4.64,
            4.48,
            4.48,
            4.49,
            4.73,
            4.64
           ]
          }
         ],
         "layout": {
          "title": {
           "text": "Curva de Rendimientos - 2024-05-06"
          }
         },
         "name": "2024-05-06"
        },
        {
         "data": [
          {
           "marker": {
            "size": 8
           },
           "mode": "lines+markers",
           "type": "scatter",
           "x": [
            "1 Mes",
            "3 Meses",
            "6 Meses",
            "1 Año",
            "2 Años",
            "3 Años",
            "5 Años",
            "7 Años",
            "10 Años",
            "20 Años",
            "30 Años"
           ],
           "y": [
            5.51,
            5.45,
            5.41,
            5.13,
            4.82,
            4.6,
            4.48,
            4.47,
            4.47,
            4.7,
            4.61
           ]
          }
         ],
         "layout": {
          "title": {
           "text": "Curva de Rendimientos - 2024-05-07"
          }
         },
         "name": "2024-05-07"
        },
        {
         "data": [
          {
           "marker": {
            "size": 8
           },
           "mode": "lines+markers",
           "type": "scatter",
           "x": [
            "1 Mes",
            "3 Meses",
            "6 Meses",
            "1 Año",
            "2 Años",
            "3 Años",
            "5 Años",
            "7 Años",
            "10 Años",
            "20 Años",
            "30 Años"
           ],
           "y": [
            5.51,
            5.45,
            5.41,
            5.13,
            4.84,
            4.63,
            4.5,
            4.49,
            4.48,
            4.73,
            4.64
           ]
          }
         ],
         "layout": {
          "title": {
           "text": "Curva de Rendimientos - 2024-05-08"
          }
         },
         "name": "2024-05-08"
        },
        {
         "data": [
          {
           "marker": {
            "size": 8
           },
           "mode": "lines+markers",
           "type": "scatter",
           "x": [
            "1 Mes",
            "3 Meses",
            "6 Meses",
            "1 Año",
            "2 Años",
            "3 Años",
            "5 Años",
            "7 Años",
            "10 Años",
            "20 Años",
            "30 Años"
           ],
           "y": [
            5.51,
            5.46,
            5.41,
            5.12,
            4.8,
            4.6,
            4.47,
            4.46,
            4.45,
            4.7,
            4.6
           ]
          }
         ],
         "layout": {
          "title": {
           "text": "Curva de Rendimientos - 2024-05-09"
          }
         },
         "name": "2024-05-09"
        },
        {
         "data": [
          {
           "marker": {
            "size": 8
           },
           "mode": "lines+markers",
           "type": "scatter",
           "x": [
            "1 Mes",
            "3 Meses",
            "6 Meses",
            "1 Año",
            "2 Años",
            "3 Años",
            "5 Años",
            "7 Años",
            "10 Años",
            "20 Años",
            "30 Años"
           ],
           "y": [
            5.51,
            5.47,
            5.43,
            5.17,
            4.87,
            4.65,
            4.52,
            4.51,
            4.5,
            4.74,
            4.64
           ]
          }
         ],
         "layout": {
          "title": {
           "text": "Curva de Rendimientos - 2024-05-10"
          }
         },
         "name": "2024-05-10"
        },
        {
         "data": [
          {
           "marker": {
            "size": 8
           },
           "mode": "lines+markers",
           "type": "scatter",
           "x": [
            "1 Mes",
            "3 Meses",
            "6 Meses",
            "1 Año",
            "2 Años",
            "3 Años",
            "5 Años",
            "7 Años",
            "10 Años",
            "20 Años",
            "30 Años"
           ],
           "y": [
            5.5,
            5.45,
            5.43,
            5.16,
            4.85,
            4.66,
            4.5,
            4.49,
            4.48,
            4.72,
            4.63
           ]
          }
         ],
         "layout": {
          "title": {
           "text": "Curva de Rendimientos - 2024-05-13"
          }
         },
         "name": "2024-05-13"
        },
        {
         "data": [
          {
           "marker": {
            "size": 8
           },
           "mode": "lines+markers",
           "type": "scatter",
           "x": [
            "1 Mes",
            "3 Meses",
            "6 Meses",
            "1 Año",
            "2 Años",
            "3 Años",
            "5 Años",
            "7 Años",
            "10 Años",
            "20 Años",
            "30 Años"
           ],
           "y": [
            5.5,
            5.44,
            5.43,
            5.16,
            4.81,
            4.62,
            4.46,
            4.45,
            4.45,
            4.69,
            4.59
           ]
          }
         ],
         "layout": {
          "title": {
           "text": "Curva de Rendimientos - 2024-05-14"
          }
         },
         "name": "2024-05-14"
        },
        {
         "data": [
          {
           "marker": {
            "size": 8
           },
           "mode": "lines+markers",
           "type": "scatter",
           "x": [
            "1 Mes",
            "3 Meses",
            "6 Meses",
            "1 Año",
            "2 Años",
            "3 Años",
            "5 Años",
            "7 Años",
            "10 Años",
            "20 Años",
            "30 Años"
           ],
           "y": [
            5.49,
            5.45,
            5.4,
            5.1,
            4.73,
            4.51,
            4.35,
            4.35,
            4.36,
            4.61,
            4.52
           ]
          }
         ],
         "layout": {
          "title": {
           "text": "Curva de Rendimientos - 2024-05-15"
          }
         },
         "name": "2024-05-15"
        },
        {
         "data": [
          {
           "marker": {
            "size": 8
           },
           "mode": "lines+markers",
           "type": "scatter",
           "x": [
            "1 Mes",
            "3 Meses",
            "6 Meses",
            "1 Año",
            "2 Años",
            "3 Años",
            "5 Años",
            "7 Años",
            "10 Años",
            "20 Años",
            "30 Años"
           ],
           "y": [
            5.51,
            5.45,
            5.41,
            5.13,
            4.78,
            4.58,
            4.4,
            4.39,
            4.38,
            4.62,
            4.52
           ]
          }
         ],
         "layout": {
          "title": {
           "text": "Curva de Rendimientos - 2024-05-16"
          }
         },
         "name": "2024-05-16"
        },
        {
         "data": [
          {
           "marker": {
            "size": 8
           },
           "mode": "lines+markers",
           "type": "scatter",
           "x": [
            "1 Mes",
            "3 Meses",
            "6 Meses",
            "1 Año",
            "2 Años",
            "3 Años",
            "5 Años",
            "7 Años",
            "10 Años",
            "20 Años",
            "30 Años"
           ],
           "y": [
            5.5,
            5.46,
            5.41,
            5.14,
            4.83,
            4.6,
            4.44,
            4.43,
            4.42,
            4.66,
            4.56
           ]
          }
         ],
         "layout": {
          "title": {
           "text": "Curva de Rendimientos - 2024-05-17"
          }
         },
         "name": "2024-05-17"
        },
        {
         "data": [
          {
           "marker": {
            "size": 8
           },
           "mode": "lines+markers",
           "type": "scatter",
           "x": [
            "1 Mes",
            "3 Meses",
            "6 Meses",
            "1 Año",
            "2 Años",
            "3 Años",
            "5 Años",
            "7 Años",
            "10 Años",
            "20 Años",
            "30 Años"
           ],
           "y": [
            5.5,
            5.45,
            5.43,
            5.15,
            4.82,
            4.62,
            4.46,
            4.44,
            4.44,
            4.68,
            4.58
           ]
          }
         ],
         "layout": {
          "title": {
           "text": "Curva de Rendimientos - 2024-05-20"
          }
         },
         "name": "2024-05-20"
        },
        {
         "data": [
          {
           "marker": {
            "size": 8
           },
           "mode": "lines+markers",
           "type": "scatter",
           "x": [
            "1 Mes",
            "3 Meses",
            "6 Meses",
            "1 Año",
            "2 Años",
            "3 Años",
            "5 Años",
            "7 Años",
            "10 Años",
            "20 Años",
            "30 Años"
           ],
           "y": [
            5.5,
            5.45,
            5.42,
            5.14,
            4.82,
            4.61,
            4.43,
            4.42,
            4.41,
            4.65,
            4.55
           ]
          }
         ],
         "layout": {
          "title": {
           "text": "Curva de Rendimientos - 2024-05-21"
          }
         },
         "name": "2024-05-21"
        },
        {
         "data": [
          {
           "marker": {
            "size": 8
           },
           "mode": "lines+markers",
           "type": "scatter",
           "x": [
            "1 Mes",
            "3 Meses",
            "6 Meses",
            "1 Año",
            "2 Años",
            "3 Años",
            "5 Años",
            "7 Años",
            "10 Años",
            "20 Años",
            "30 Años"
           ],
           "y": [
            5.49,
            5.45,
            5.43,
            5.16,
            4.86,
            4.64,
            4.47,
            4.44,
            4.43,
            4.63,
            4.55
           ]
          }
         ],
         "layout": {
          "title": {
           "text": "Curva de Rendimientos - 2024-05-22"
          }
         },
         "name": "2024-05-22"
        },
        {
         "data": [
          {
           "marker": {
            "size": 8
           },
           "mode": "lines+markers",
           "type": "scatter",
           "x": [
            "1 Mes",
            "3 Meses",
            "6 Meses",
            "1 Año",
            "2 Años",
            "3 Años",
            "5 Años",
            "7 Años",
            "10 Años",
            "20 Años",
            "30 Años"
           ],
           "y": [
            5.51,
            5.46,
            5.44,
            5.2,
            4.91,
            4.71,
            4.52,
            4.5,
            4.47,
            4.67,
            4.58
           ]
          }
         ],
         "layout": {
          "title": {
           "text": "Curva de Rendimientos - 2024-05-23"
          }
         },
         "name": "2024-05-23"
        },
        {
         "data": [
          {
           "marker": {
            "size": 8
           },
           "mode": "lines+markers",
           "type": "scatter",
           "x": [
            "1 Mes",
            "3 Meses",
            "6 Meses",
            "1 Año",
            "2 Años",
            "3 Años",
            "5 Años",
            "7 Años",
            "10 Años",
            "20 Años",
            "30 Años"
           ],
           "y": [
            5.56,
            5.46,
            5.44,
            5.21,
            4.93,
            4.71,
            4.53,
            4.49,
            4.46,
            4.65,
            4.57
           ]
          }
         ],
         "layout": {
          "title": {
           "text": "Curva de Rendimientos - 2024-05-24"
          }
         },
         "name": "2024-05-24"
        },
        {
         "data": [
          {
           "marker": {
            "size": 8
           },
           "mode": "lines+markers",
           "type": "scatter",
           "x": [
            "1 Mes",
            "3 Meses",
            "6 Meses",
            "1 Año",
            "2 Años",
            "3 Años",
            "5 Años",
            "7 Años",
            "10 Años",
            "20 Años",
            "30 Años"
           ],
           "y": [
            5.5,
            5.46,
            5.43,
            5.21,
            4.94,
            4.75,
            4.56,
            4.56,
            4.54,
            4.74,
            4.66
           ]
          }
         ],
         "layout": {
          "title": {
           "text": "Curva de Rendimientos - 2024-05-28"
          }
         },
         "name": "2024-05-28"
        },
        {
         "data": [
          {
           "marker": {
            "size": 8
           },
           "mode": "lines+markers",
           "type": "scatter",
           "x": [
            "1 Mes",
            "3 Meses",
            "6 Meses",
            "1 Año",
            "2 Años",
            "3 Años",
            "5 Años",
            "7 Años",
            "10 Años",
            "20 Años",
            "30 Años"
           ],
           "y": [
            5.5,
            5.46,
            5.43,
            5.22,
            4.96,
            4.79,
            4.63,
            4.63,
            4.61,
            4.82,
            4.74
           ]
          }
         ],
         "layout": {
          "title": {
           "text": "Curva de Rendimientos - 2024-05-29"
          }
         },
         "name": "2024-05-29"
        },
        {
         "data": [
          {
           "marker": {
            "size": 8
           },
           "mode": "lines+markers",
           "type": "scatter",
           "x": [
            "1 Mes",
            "3 Meses",
            "6 Meses",
            "1 Año",
            "2 Años",
            "3 Años",
            "5 Años",
            "7 Años",
            "10 Años",
            "20 Años",
            "30 Años"
           ],
           "y": [
            5.48,
            5.46,
            5.42,
            5.19,
            4.92,
            4.74,
            4.57,
            4.57,
            4.55,
            4.76,
            4.69
           ]
          }
         ],
         "layout": {
          "title": {
           "text": "Curva de Rendimientos - 2024-05-30"
          }
         },
         "name": "2024-05-30"
        },
        {
         "data": [
          {
           "marker": {
            "size": 8
           },
           "mode": "lines+markers",
           "type": "scatter",
           "x": [
            "1 Mes",
            "3 Meses",
            "6 Meses",
            "1 Año",
            "2 Años",
            "3 Años",
            "5 Años",
            "7 Años",
            "10 Años",
            "20 Años",
            "30 Años"
           ],
           "y": [
            5.48,
            5.46,
            5.42,
            5.18,
            4.89,
            4.69,
            4.52,
            4.52,
            4.51,
            4.73,
            4.65
           ]
          }
         ],
         "layout": {
          "title": {
           "text": "Curva de Rendimientos - 2024-05-31"
          }
         },
         "name": "2024-05-31"
        },
        {
         "data": [
          {
           "marker": {
            "size": 8
           },
           "mode": "lines+markers",
           "type": "scatter",
           "x": [
            "1 Mes",
            "3 Meses",
            "6 Meses",
            "1 Año",
            "2 Años",
            "3 Años",
            "5 Años",
            "7 Años",
            "10 Años",
            "20 Años",
            "30 Años"
           ],
           "y": [
            5.49,
            5.52,
            5.39,
            5.14,
            4.82,
            4.62,
            4.42,
            4.41,
            4.41,
            4.63,
            4.55
           ]
          }
         ],
         "layout": {
          "title": {
           "text": "Curva de Rendimientos - 2024-06-03"
          }
         },
         "name": "2024-06-03"
        },
        {
         "data": [
          {
           "marker": {
            "size": 8
           },
           "mode": "lines+markers",
           "type": "scatter",
           "x": [
            "1 Mes",
            "3 Meses",
            "6 Meses",
            "1 Año",
            "2 Años",
            "3 Años",
            "5 Años",
            "7 Años",
            "10 Años",
            "20 Años",
            "30 Años"
           ],
           "y": [
            5.48,
            5.52,
            5.38,
            5.11,
            4.77,
            4.55,
            4.35,
            4.33,
            4.33,
            4.56,
            4.48
           ]
          }
         ],
         "layout": {
          "title": {
           "text": "Curva de Rendimientos - 2024-06-04"
          }
         },
         "name": "2024-06-04"
        },
        {
         "data": [
          {
           "marker": {
            "size": 8
           },
           "mode": "lines+markers",
           "type": "scatter",
           "x": [
            "1 Mes",
            "3 Meses",
            "6 Meses",
            "1 Año",
            "2 Años",
            "3 Años",
            "5 Años",
            "7 Años",
            "10 Años",
            "20 Años",
            "30 Años"
           ],
           "y": [
            5.48,
            5.51,
            5.37,
            5.08,
            4.72,
            4.5,
            4.31,
            4.29,
            4.29,
            4.52,
            4.44
           ]
          }
         ],
         "layout": {
          "title": {
           "text": "Curva de Rendimientos - 2024-06-05"
          }
         },
         "name": "2024-06-05"
        },
        {
         "data": [
          {
           "marker": {
            "size": 8
           },
           "mode": "lines+markers",
           "type": "scatter",
           "x": [
            "1 Mes",
            "3 Meses",
            "6 Meses",
            "1 Año",
            "2 Años",
            "3 Años",
            "5 Años",
            "7 Años",
            "10 Años",
            "20 Años",
            "30 Años"
           ],
           "y": [
            5.48,
            5.51,
            5.36,
            5.08,
            4.72,
            4.49,
            4.29,
            4.28,
            4.28,
            4.51,
            4.43
           ]
          }
         ],
         "layout": {
          "title": {
           "text": "Curva de Rendimientos - 2024-06-06"
          }
         },
         "name": "2024-06-06"
        },
        {
         "data": [
          {
           "marker": {
            "size": 8
           },
           "mode": "lines+markers",
           "type": "scatter",
           "x": [
            "1 Mes",
            "3 Meses",
            "6 Meses",
            "1 Año",
            "2 Años",
            "3 Años",
            "5 Años",
            "7 Años",
            "10 Años",
            "20 Años",
            "30 Años"
           ],
           "y": [
            5.47,
            5.52,
            5.4,
            5.17,
            4.87,
            4.65,
            4.46,
            4.45,
            4.43,
            4.64,
            4.55
           ]
          }
         ],
         "layout": {
          "title": {
           "text": "Curva de Rendimientos - 2024-06-07"
          }
         },
         "name": "2024-06-07"
        },
        {
         "data": [
          {
           "marker": {
            "size": 8
           },
           "mode": "lines+markers",
           "type": "scatter",
           "x": [
            "1 Mes",
            "3 Meses",
            "6 Meses",
            "1 Año",
            "2 Años",
            "3 Años",
            "5 Años",
            "7 Años",
            "10 Años",
            "20 Años",
            "30 Años"
           ],
           "y": [
            5.47,
            5.52,
            5.4,
            5.16,
            4.87,
            4.62,
            4.48,
            4.47,
            4.47,
            4.68,
            4.59
           ]
          }
         ],
         "layout": {
          "title": {
           "text": "Curva de Rendimientos - 2024-06-10"
          }
         },
         "name": "2024-06-10"
        },
        {
         "data": [
          {
           "marker": {
            "size": 8
           },
           "mode": "lines+markers",
           "type": "scatter",
           "x": [
            "1 Mes",
            "3 Meses",
            "6 Meses",
            "1 Año",
            "2 Años",
            "3 Años",
            "5 Años",
            "7 Años",
            "10 Años",
            "20 Años",
            "30 Años"
           ],
           "y": [
            5.46,
            5.52,
            5.39,
            5.17,
            4.81,
            4.57,
            4.41,
            4.4,
            4.39,
            4.62,
            4.53
           ]
          }
         ],
         "layout": {
          "title": {
           "text": "Curva de Rendimientos - 2024-06-11"
          }
         },
         "name": "2024-06-11"
        },
        {
         "data": [
          {
           "marker": {
            "size": 8
           },
           "mode": "lines+markers",
           "type": "scatter",
           "x": [
            "1 Mes",
            "3 Meses",
            "6 Meses",
            "1 Año",
            "2 Años",
            "3 Años",
            "5 Años",
            "7 Años",
            "10 Años",
            "20 Años",
            "30 Años"
           ],
           "y": [
            5.47,
            5.51,
            5.38,
            5.13,
            4.75,
            4.48,
            4.32,
            4.31,
            4.31,
            4.56,
            4.47
           ]
          }
         ],
         "layout": {
          "title": {
           "text": "Curva de Rendimientos - 2024-06-12"
          }
         },
         "name": "2024-06-12"
        },
        {
         "data": [
          {
           "marker": {
            "size": 8
           },
           "mode": "lines+markers",
           "type": "scatter",
           "x": [
            "1 Mes",
            "3 Meses",
            "6 Meses",
            "1 Año",
            "2 Años",
            "3 Años",
            "5 Años",
            "7 Años",
            "10 Años",
            "20 Años",
            "30 Años"
           ],
           "y": [
            5.47,
            5.51,
            5.36,
            5.07,
            4.68,
            4.42,
            4.24,
            4.23,
            4.24,
            4.5,
            4.4
           ]
          }
         ],
         "layout": {
          "title": {
           "text": "Curva de Rendimientos - 2024-06-13"
          }
         },
         "name": "2024-06-13"
        },
        {
         "data": [
          {
           "marker": {
            "size": 8
           },
           "mode": "lines+markers",
           "type": "scatter",
           "x": [
            "1 Mes",
            "3 Meses",
            "6 Meses",
            "1 Año",
            "2 Años",
            "3 Años",
            "5 Años",
            "7 Años",
            "10 Años",
            "20 Años",
            "30 Años"
           ],
           "y": [
            5.47,
            5.51,
            5.36,
            5.07,
            4.67,
            4.41,
            4.22,
            4.2,
            4.2,
            4.46,
            4.34
           ]
          }
         ],
         "layout": {
          "title": {
           "text": "Curva de Rendimientos - 2024-06-14"
          }
         },
         "name": "2024-06-14"
        },
        {
         "data": [
          {
           "marker": {
            "size": 8
           },
           "mode": "lines+markers",
           "type": "scatter",
           "x": [
            "1 Mes",
            "3 Meses",
            "6 Meses",
            "1 Año",
            "2 Años",
            "3 Años",
            "5 Años",
            "7 Años",
            "10 Años",
            "20 Años",
            "30 Años"
           ],
           "y": [
            5.45,
            5.52,
            5.39,
            5.11,
            4.75,
            4.5,
            4.3,
            4.28,
            4.28,
            4.52,
            4.4
           ]
          }
         ],
         "layout": {
          "title": {
           "text": "Curva de Rendimientos - 2024-06-17"
          }
         },
         "name": "2024-06-17"
        },
        {
         "data": [
          {
           "marker": {
            "size": 8
           },
           "mode": "lines+markers",
           "type": "scatter",
           "x": [
            "1 Mes",
            "3 Meses",
            "6 Meses",
            "1 Año",
            "2 Años",
            "3 Años",
            "5 Años",
            "7 Años",
            "10 Años",
            "20 Años",
            "30 Años"
           ],
           "y": [
            5.4,
            5.5,
            5.37,
            5.09,
            4.69,
            4.43,
            4.24,
            4.22,
            4.22,
            4.47,
            4.36
           ]
          }
         ],
         "layout": {
          "title": {
           "text": "Curva de Rendimientos - 2024-06-18"
          }
         },
         "name": "2024-06-18"
        },
        {
         "data": [
          {
           "marker": {
            "size": 8
           },
           "mode": "lines+markers",
           "type": "scatter",
           "x": [
            "1 Mes",
            "3 Meses",
            "6 Meses",
            "1 Año",
            "2 Años",
            "3 Años",
            "5 Años",
            "7 Años",
            "10 Años",
            "20 Años",
            "30 Años"
           ],
           "y": [
            5.42,
            5.5,
            5.37,
            5.1,
            4.7,
            4.45,
            4.26,
            4.25,
            4.25,
            4.49,
            4.39
           ]
          }
         ],
         "layout": {
          "title": {
           "text": "Curva de Rendimientos - 2024-06-20"
          }
         },
         "name": "2024-06-20"
        },
        {
         "data": [
          {
           "marker": {
            "size": 8
           },
           "mode": "lines+markers",
           "type": "scatter",
           "x": [
            "1 Mes",
            "3 Meses",
            "6 Meses",
            "1 Año",
            "2 Años",
            "3 Años",
            "5 Años",
            "7 Años",
            "10 Años",
            "20 Años",
            "30 Años"
           ],
           "y": [
            5.42,
            5.49,
            5.36,
            5.1,
            4.7,
            4.45,
            4.26,
            4.25,
            4.25,
            4.49,
            4.39
           ]
          }
         ],
         "layout": {
          "title": {
           "text": "Curva de Rendimientos - 2024-06-21"
          }
         },
         "name": "2024-06-21"
        },
        {
         "data": [
          {
           "marker": {
            "size": 8
           },
           "mode": "lines+markers",
           "type": "scatter",
           "x": [
            "1 Mes",
            "3 Meses",
            "6 Meses",
            "1 Año",
            "2 Años",
            "3 Años",
            "5 Años",
            "7 Años",
            "10 Años",
            "20 Años",
            "30 Años"
           ],
           "y": [
            5.42,
            5.5,
            5.37,
            5.1,
            4.71,
            4.46,
            4.27,
            4.25,
            4.25,
            4.48,
            4.38
           ]
          }
         ],
         "layout": {
          "title": {
           "text": "Curva de Rendimientos - 2024-06-24"
          }
         },
         "name": "2024-06-24"
        },
        {
         "data": [
          {
           "marker": {
            "size": 8
           },
           "mode": "lines+markers",
           "type": "scatter",
           "x": [
            "1 Mes",
            "3 Meses",
            "6 Meses",
            "1 Año",
            "2 Años",
            "3 Años",
            "5 Años",
            "7 Años",
            "10 Años",
            "20 Años",
            "30 Años"
           ],
           "y": [
            5.43,
            5.49,
            5.37,
            5.1,
            4.65,
            4.45,
            4.25,
            4.23,
            4.23,
            4.46,
            4.36
           ]
          }
         ],
         "layout": {
          "title": {
           "text": "Curva de Rendimientos - 2024-06-25"
          }
         },
         "name": "2024-06-25"
        },
        {
         "data": [
          {
           "marker": {
            "size": 8
           },
           "mode": "lines+markers",
           "type": "scatter",
           "x": [
            "1 Mes",
            "3 Meses",
            "6 Meses",
            "1 Año",
            "2 Años",
            "3 Años",
            "5 Años",
            "7 Años",
            "10 Años",
            "20 Años",
            "30 Años"
           ],
           "y": [
            5.44,
            5.5,
            5.36,
            5.13,
            4.71,
            4.53,
            4.32,
            4.32,
            4.32,
            4.55,
            4.45
           ]
          }
         ],
         "layout": {
          "title": {
           "text": "Curva de Rendimientos - 2024-06-26"
          }
         },
         "name": "2024-06-26"
        },
        {
         "data": [
          {
           "marker": {
            "size": 8
           },
           "mode": "lines+markers",
           "type": "scatter",
           "x": [
            "1 Mes",
            "3 Meses",
            "6 Meses",
            "1 Año",
            "2 Años",
            "3 Años",
            "5 Años",
            "7 Años",
            "10 Años",
            "20 Años",
            "30 Años"
           ],
           "y": [
            5.48,
            5.49,
            5.35,
            5.1,
            4.7,
            4.49,
            4.29,
            4.27,
            4.29,
            4.53,
            4.43
           ]
          }
         ],
         "layout": {
          "title": {
           "text": "Curva de Rendimientos - 2024-06-27"
          }
         },
         "name": "2024-06-27"
        },
        {
         "data": [
          {
           "marker": {
            "size": 8
           },
           "mode": "lines+markers",
           "type": "scatter",
           "x": [
            "1 Mes",
            "3 Meses",
            "6 Meses",
            "1 Año",
            "2 Años",
            "3 Años",
            "5 Años",
            "7 Años",
            "10 Años",
            "20 Años",
            "30 Años"
           ],
           "y": [
            5.47,
            5.48,
            5.33,
            5.09,
            4.71,
            4.52,
            4.33,
            4.33,
            4.36,
            4.61,
            4.51
           ]
          }
         ],
         "layout": {
          "title": {
           "text": "Curva de Rendimientos - 2024-06-28"
          }
         },
         "name": "2024-06-28"
        },
        {
         "data": [
          {
           "marker": {
            "size": 8
           },
           "mode": "lines+markers",
           "type": "scatter",
           "x": [
            "1 Mes",
            "3 Meses",
            "6 Meses",
            "1 Año",
            "2 Años",
            "3 Años",
            "5 Años",
            "7 Años",
            "10 Años",
            "20 Años",
            "30 Años"
           ],
           "y": [
            5.48,
            5.47,
            5.37,
            5.1,
            4.77,
            4.58,
            4.44,
            4.45,
            4.48,
            4.76,
            4.64
           ]
          }
         ],
         "layout": {
          "title": {
           "text": "Curva de Rendimientos - 2024-07-01"
          }
         },
         "name": "2024-07-01"
        },
        {
         "data": [
          {
           "marker": {
            "size": 8
           },
           "mode": "lines+markers",
           "type": "scatter",
           "x": [
            "1 Mes",
            "3 Meses",
            "6 Meses",
            "1 Año",
            "2 Años",
            "3 Años",
            "5 Años",
            "7 Años",
            "10 Años",
            "20 Años",
            "30 Años"
           ],
           "y": [
            5.48,
            5.47,
            5.36,
            5.07,
            4.74,
            4.54,
            4.39,
            4.4,
            4.43,
            4.71,
            4.6
           ]
          }
         ],
         "layout": {
          "title": {
           "text": "Curva de Rendimientos - 2024-07-02"
          }
         },
         "name": "2024-07-02"
        },
        {
         "data": [
          {
           "marker": {
            "size": 8
           },
           "mode": "lines+markers",
           "type": "scatter",
           "x": [
            "1 Mes",
            "3 Meses",
            "6 Meses",
            "1 Año",
            "2 Años",
            "3 Años",
            "5 Años",
            "7 Años",
            "10 Años",
            "20 Años",
            "30 Años"
           ],
           "y": [
            5.49,
            5.47,
            5.36,
            5.04,
            4.71,
            4.48,
            4.33,
            4.33,
            4.36,
            4.64,
            4.53
           ]
          }
         ],
         "layout": {
          "title": {
           "text": "Curva de Rendimientos - 2024-07-03"
          }
         },
         "name": "2024-07-03"
        },
        {
         "data": [
          {
           "marker": {
            "size": 8
           },
           "mode": "lines+markers",
           "type": "scatter",
           "x": [
            "1 Mes",
            "3 Meses",
            "6 Meses",
            "1 Año",
            "2 Años",
            "3 Años",
            "5 Años",
            "7 Años",
            "10 Años",
            "20 Años",
            "30 Años"
           ],
           "y": [
            5.48,
            5.46,
            5.34,
            4.98,
            4.6,
            4.39,
            4.22,
            4.23,
            4.28,
            4.57,
            4.47
           ]
          }
         ],
         "layout": {
          "title": {
           "text": "Curva de Rendimientos - 2024-07-05"
          }
         },
         "name": "2024-07-05"
        },
        {
         "data": [
          {
           "marker": {
            "size": 8
           },
           "mode": "lines+markers",
           "type": "scatter",
           "x": [
            "1 Mes",
            "3 Meses",
            "6 Meses",
            "1 Año",
            "2 Años",
            "3 Años",
            "5 Años",
            "7 Años",
            "10 Años",
            "20 Años",
            "30 Años"
           ],
           "y": [
            5.48,
            5.46,
            5.33,
            4.99,
            4.62,
            4.4,
            4.23,
            4.23,
            4.28,
            4.57,
            4.46
           ]
          }
         ],
         "layout": {
          "title": {
           "text": "Curva de Rendimientos - 2024-07-08"
          }
         },
         "name": "2024-07-08"
        },
        {
         "data": [
          {
           "marker": {
            "size": 8
           },
           "mode": "lines+markers",
           "type": "scatter",
           "x": [
            "1 Mes",
            "3 Meses",
            "6 Meses",
            "1 Año",
            "2 Años",
            "3 Años",
            "5 Años",
            "7 Años",
            "10 Años",
            "20 Años",
            "30 Años"
           ],
           "y": [
            5.45,
            5.46,
            5.34,
            5.02,
            4.62,
            4.37,
            4.24,
            4.25,
            4.3,
            4.59,
            4.49
           ]
          }
         ],
         "layout": {
          "title": {
           "text": "Curva de Rendimientos - 2024-07-09"
          }
         },
         "name": "2024-07-09"
        },
        {
         "data": [
          {
           "marker": {
            "size": 8
           },
           "mode": "lines+markers",
           "type": "scatter",
           "x": [
            "1 Mes",
            "3 Meses",
            "6 Meses",
            "1 Año",
            "2 Años",
            "3 Años",
            "5 Años",
            "7 Años",
            "10 Años",
            "20 Años",
            "30 Años"
           ],
           "y": [
            5.46,
            5.46,
            5.33,
            5.01,
            4.62,
            4.38,
            4.24,
            4.24,
            4.28,
            4.58,
            4.47
           ]
          }
         ],
         "layout": {
          "title": {
           "text": "Curva de Rendimientos - 2024-07-10"
          }
         },
         "name": "2024-07-10"
        },
        {
         "data": [
          {
           "marker": {
            "size": 8
           },
           "mode": "lines+markers",
           "type": "scatter",
           "x": [
            "1 Mes",
            "3 Meses",
            "6 Meses",
            "1 Año",
            "2 Años",
            "3 Años",
            "5 Años",
            "7 Años",
            "10 Años",
            "20 Años",
            "30 Años"
           ],
           "y": [
            5.48,
            5.44,
            5.25,
            4.91,
            4.5,
            4.26,
            4.13,
            4.15,
            4.2,
            4.51,
            4.41
           ]
          }
         ],
         "layout": {
          "title": {
           "text": "Curva de Rendimientos - 2024-07-11"
          }
         },
         "name": "2024-07-11"
        },
        {
         "data": [
          {
           "marker": {
            "size": 8
           },
           "mode": "lines+markers",
           "type": "scatter",
           "x": [
            "1 Mes",
            "3 Meses",
            "6 Meses",
            "1 Año",
            "2 Años",
            "3 Años",
            "5 Años",
            "7 Años",
            "10 Años",
            "20 Años",
            "30 Años"
           ],
           "y": [
            5.47,
            5.43,
            5.23,
            4.87,
            4.45,
            4.22,
            4.1,
            4.13,
            4.18,
            4.5,
            4.39
           ]
          }
         ],
         "layout": {
          "title": {
           "text": "Curva de Rendimientos - 2024-07-12"
          }
         },
         "name": "2024-07-12"
        },
        {
         "data": [
          {
           "marker": {
            "size": 8
           },
           "mode": "lines+markers",
           "type": "scatter",
           "x": [
            "1 Mes",
            "3 Meses",
            "6 Meses",
            "1 Año",
            "2 Años",
            "3 Años",
            "5 Años",
            "7 Años",
            "10 Años",
            "20 Años",
            "30 Años"
           ],
           "y": [
            5.48,
            5.43,
            5.23,
            4.85,
            4.44,
            4.23,
            4.13,
            4.16,
            4.23,
            4.56,
            4.46
           ]
          }
         ],
         "layout": {
          "title": {
           "text": "Curva de Rendimientos - 2024-07-15"
          }
         },
         "name": "2024-07-15"
        },
        {
         "data": [
          {
           "marker": {
            "size": 8
           },
           "mode": "lines+markers",
           "type": "scatter",
           "x": [
            "1 Mes",
            "3 Meses",
            "6 Meses",
            "1 Año",
            "2 Años",
            "3 Años",
            "5 Años",
            "7 Años",
            "10 Años",
            "20 Años",
            "30 Años"
           ],
           "y": [
            5.48,
            5.43,
            5.23,
            4.85,
            4.43,
            4.21,
            4.09,
            4.11,
            4.17,
            4.48,
            4.38
           ]
          }
         ],
         "layout": {
          "title": {
           "text": "Curva de Rendimientos - 2024-07-16"
          }
         },
         "name": "2024-07-16"
        },
        {
         "data": [
          {
           "marker": {
            "size": 8
           },
           "mode": "lines+markers",
           "type": "scatter",
           "x": [
            "1 Mes",
            "3 Meses",
            "6 Meses",
            "1 Año",
            "2 Años",
            "3 Años",
            "5 Años",
            "7 Años",
            "10 Años",
            "20 Años",
            "30 Años"
           ],
           "y": [
            5.47,
            5.43,
            5.23,
            4.85,
            4.42,
            4.19,
            4.07,
            4.09,
            4.16,
            4.46,
            4.37
           ]
          }
         ],
         "layout": {
          "title": {
           "text": "Curva de Rendimientos - 2024-07-17"
          }
         },
         "name": "2024-07-17"
        },
        {
         "data": [
          {
           "marker": {
            "size": 8
           },
           "mode": "lines+markers",
           "type": "scatter",
           "x": [
            "1 Mes",
            "3 Meses",
            "6 Meses",
            "1 Año",
            "2 Años",
            "3 Años",
            "5 Años",
            "7 Años",
            "10 Años",
            "20 Años",
            "30 Años"
           ],
           "y": [
            5.48,
            5.43,
            5.23,
            4.86,
            4.46,
            4.24,
            4.11,
            4.14,
            4.2,
            4.51,
            4.41
           ]
          }
         ],
         "layout": {
          "title": {
           "text": "Curva de Rendimientos - 2024-07-18"
          }
         },
         "name": "2024-07-18"
        },
        {
         "data": [
          {
           "marker": {
            "size": 8
           },
           "mode": "lines+markers",
           "type": "scatter",
           "x": [
            "1 Mes",
            "3 Meses",
            "6 Meses",
            "1 Año",
            "2 Años",
            "3 Años",
            "5 Años",
            "7 Años",
            "10 Años",
            "20 Años",
            "30 Años"
           ],
           "y": [
            5.48,
            5.43,
            5.24,
            4.87,
            4.49,
            4.28,
            4.16,
            4.18,
            4.25,
            4.55,
            4.45
           ]
          }
         ],
         "layout": {
          "title": {
           "text": "Curva de Rendimientos - 2024-07-19"
          }
         },
         "name": "2024-07-19"
        },
        {
         "data": [
          {
           "marker": {
            "size": 8
           },
           "mode": "lines+markers",
           "type": "scatter",
           "x": [
            "1 Mes",
            "3 Meses",
            "6 Meses",
            "1 Año",
            "2 Años",
            "3 Años",
            "5 Años",
            "7 Años",
            "10 Años",
            "20 Años",
            "30 Años"
           ],
           "y": [
            5.49,
            5.43,
            5.24,
            4.88,
            4.5,
            4.29,
            4.17,
            4.2,
            4.26,
            4.57,
            4.48
           ]
          }
         ],
         "layout": {
          "title": {
           "text": "Curva de Rendimientos - 2024-07-22"
          }
         },
         "name": "2024-07-22"
        },
        {
         "data": [
          {
           "marker": {
            "size": 8
           },
           "mode": "lines+markers",
           "type": "scatter",
           "x": [
            "1 Mes",
            "3 Meses",
            "6 Meses",
            "1 Año",
            "2 Años",
            "3 Años",
            "5 Años",
            "7 Años",
            "10 Años",
            "20 Años",
            "30 Años"
           ],
           "y": [
            5.49,
            5.41,
            5.22,
            4.85,
            4.4,
            4.26,
            4.15,
            4.18,
            4.25,
            4.56,
            4.48
           ]
          }
         ],
         "layout": {
          "title": {
           "text": "Curva de Rendimientos - 2024-07-23"
          }
         },
         "name": "2024-07-23"
        },
        {
         "data": [
          {
           "marker": {
            "size": 8
           },
           "mode": "lines+markers",
           "type": "scatter",
           "x": [
            "1 Mes",
            "3 Meses",
            "6 Meses",
            "1 Año",
            "2 Años",
            "3 Años",
            "5 Años",
            "7 Años",
            "10 Años",
            "20 Años",
            "30 Años"
           ],
           "y": [
            5.5,
            5.4,
            5.19,
            4.82,
            4.37,
            4.24,
            4.12,
            4.2,
            4.28,
            4.62,
            4.54
           ]
          }
         ],
         "layout": {
          "title": {
           "text": "Curva de Rendimientos - 2024-07-24"
          }
         },
         "name": "2024-07-24"
        },
        {
         "data": [
          {
           "marker": {
            "size": 8
           },
           "mode": "lines+markers",
           "type": "scatter",
           "x": [
            "1 Mes",
            "3 Meses",
            "6 Meses",
            "1 Año",
            "2 Años",
            "3 Años",
            "5 Años",
            "7 Años",
            "10 Años",
            "20 Años",
            "30 Años"
           ],
           "y": [
            5.49,
            5.39,
            5.19,
            4.83,
            4.41,
            4.26,
            4.13,
            4.18,
            4.27,
            4.59,
            4.5
           ]
          }
         ],
         "layout": {
          "title": {
           "text": "Curva de Rendimientos - 2024-07-25"
          }
         },
         "name": "2024-07-25"
        },
        {
         "data": [
          {
           "marker": {
            "size": 8
           },
           "mode": "lines+markers",
           "type": "scatter",
           "x": [
            "1 Mes",
            "3 Meses",
            "6 Meses",
            "1 Año",
            "2 Años",
            "3 Años",
            "5 Años",
            "7 Años",
            "10 Años",
            "20 Años",
            "30 Años"
           ],
           "y": [
            5.49,
            5.38,
            5.18,
            4.79,
            4.36,
            4.2,
            4.06,
            4.1,
            4.2,
            4.53,
            4.45
           ]
          }
         ],
         "layout": {
          "title": {
           "text": "Curva de Rendimientos - 2024-07-26"
          }
         },
         "name": "2024-07-26"
        },
        {
         "data": [
          {
           "marker": {
            "size": 8
           },
           "mode": "lines+markers",
           "type": "scatter",
           "x": [
            "1 Mes",
            "3 Meses",
            "6 Meses",
            "1 Año",
            "2 Años",
            "3 Años",
            "5 Años",
            "7 Años",
            "10 Años",
            "20 Años",
            "30 Años"
           ],
           "y": [
            5.5,
            5.41,
            5.18,
            4.79,
            4.36,
            4.19,
            4.05,
            4.08,
            4.17,
            4.51,
            4.42
           ]
          }
         ],
         "layout": {
          "title": {
           "text": "Curva de Rendimientos - 2024-07-29"
          }
         },
         "name": "2024-07-29"
        },
        {
         "data": [
          {
           "marker": {
            "size": 8
           },
           "mode": "lines+markers",
           "type": "scatter",
           "x": [
            "1 Mes",
            "3 Meses",
            "6 Meses",
            "1 Año",
            "2 Años",
            "3 Años",
            "5 Años",
            "7 Años",
            "10 Años",
            "20 Años",
            "30 Años"
           ],
           "y": [
            5.5,
            5.4,
            5.16,
            4.78,
            4.35,
            4.16,
            4.03,
            4.06,
            4.15,
            4.5,
            4.4
           ]
          }
         ],
         "layout": {
          "title": {
           "text": "Curva de Rendimientos - 2024-07-30"
          }
         },
         "name": "2024-07-30"
        },
        {
         "data": [
          {
           "marker": {
            "size": 8
           },
           "mode": "lines+markers",
           "type": "scatter",
           "x": [
            "1 Mes",
            "3 Meses",
            "6 Meses",
            "1 Año",
            "2 Años",
            "3 Años",
            "5 Años",
            "7 Años",
            "10 Años",
            "20 Años",
            "30 Años"
           ],
           "y": [
            5.49,
            5.41,
            5.14,
            4.73,
            4.29,
            4.1,
            3.97,
            4,
            4.09,
            4.44,
            4.35
           ]
          }
         ],
         "layout": {
          "title": {
           "text": "Curva de Rendimientos - 2024-07-31"
          }
         },
         "name": "2024-07-31"
        },
        {
         "data": [
          {
           "marker": {
            "size": 8
           },
           "mode": "lines+markers",
           "type": "scatter",
           "x": [
            "1 Mes",
            "3 Meses",
            "6 Meses",
            "1 Año",
            "2 Años",
            "3 Años",
            "5 Años",
            "7 Años",
            "10 Años",
            "20 Años",
            "30 Años"
           ],
           "y": [
            5.55,
            5.37,
            5.08,
            4.62,
            4.16,
            3.96,
            3.84,
            3.89,
            3.99,
            4.35,
            4.27
           ]
          }
         ],
         "layout": {
          "title": {
           "text": "Curva de Rendimientos - 2024-08-01"
          }
         },
         "name": "2024-08-01"
        },
        {
         "data": [
          {
           "marker": {
            "size": 8
           },
           "mode": "lines+markers",
           "type": "scatter",
           "x": [
            "1 Mes",
            "3 Meses",
            "6 Meses",
            "1 Año",
            "2 Años",
            "3 Años",
            "5 Años",
            "7 Años",
            "10 Años",
            "20 Años",
            "30 Años"
           ],
           "y": [
            5.54,
            5.29,
            4.88,
            4.33,
            3.88,
            3.7,
            3.62,
            3.68,
            3.8,
            4.19,
            4.11
           ]
          }
         ],
         "layout": {
          "title": {
           "text": "Curva de Rendimientos - 2024-08-02"
          }
         },
         "name": "2024-08-02"
        },
        {
         "data": [
          {
           "marker": {
            "size": 8
           },
           "mode": "lines+markers",
           "type": "scatter",
           "x": [
            "1 Mes",
            "3 Meses",
            "6 Meses",
            "1 Año",
            "2 Años",
            "3 Años",
            "5 Años",
            "7 Años",
            "10 Años",
            "20 Años",
            "30 Años"
           ],
           "y": [
            5.52,
            5.35,
            4.91,
            4.34,
            3.89,
            3.71,
            3.62,
            3.66,
            3.78,
            4.16,
            4.06
           ]
          }
         ],
         "layout": {
          "title": {
           "text": "Curva de Rendimientos - 2024-08-05"
          }
         },
         "name": "2024-08-05"
        },
        {
         "data": [
          {
           "marker": {
            "size": 8
           },
           "mode": "lines+markers",
           "type": "scatter",
           "x": [
            "1 Mes",
            "3 Meses",
            "6 Meses",
            "1 Año",
            "2 Años",
            "3 Años",
            "5 Años",
            "7 Años",
            "10 Años",
            "20 Años",
            "30 Años"
           ],
           "y": [
            5.5,
            5.34,
            5,
            4.46,
            3.99,
            3.76,
            3.73,
            3.79,
            3.9,
            4.28,
            4.18
           ]
          }
         ],
         "layout": {
          "title": {
           "text": "Curva de Rendimientos - 2024-08-06"
          }
         },
         "name": "2024-08-06"
        },
        {
         "data": [
          {
           "marker": {
            "size": 8
           },
           "mode": "lines+markers",
           "type": "scatter",
           "x": [
            "1 Mes",
            "3 Meses",
            "6 Meses",
            "1 Año",
            "2 Años",
            "3 Años",
            "5 Años",
            "7 Años",
            "10 Años",
            "20 Años",
            "30 Años"
           ],
           "y": [
            5.5,
            5.34,
            4.99,
            4.45,
            4,
            3.81,
            3.79,
            3.85,
            3.96,
            4.35,
            4.26
           ]
          }
         ],
         "layout": {
          "title": {
           "text": "Curva de Rendimientos - 2024-08-07"
          }
         },
         "name": "2024-08-07"
        },
        {
         "data": [
          {
           "marker": {
            "size": 8
           },
           "mode": "lines+markers",
           "type": "scatter",
           "x": [
            "1 Mes",
            "3 Meses",
            "6 Meses",
            "1 Año",
            "2 Años",
            "3 Años",
            "5 Años",
            "7 Años",
            "10 Años",
            "20 Años",
            "30 Años"
           ],
           "y": [
            5.55,
            5.34,
            5.01,
            4.48,
            4.04,
            3.86,
            3.83,
            3.89,
            3.99,
            4.38,
            4.28
           ]
          }
         ],
         "layout": {
          "title": {
           "text": "Curva de Rendimientos - 2024-08-08"
          }
         },
         "name": "2024-08-08"
        },
        {
         "data": [
          {
           "marker": {
            "size": 8
           },
           "mode": "lines+markers",
           "type": "scatter",
           "x": [
            "1 Mes",
            "3 Meses",
            "6 Meses",
            "1 Año",
            "2 Años",
            "3 Años",
            "5 Años",
            "7 Años",
            "10 Años",
            "20 Años",
            "30 Años"
           ],
           "y": [
            5.54,
            5.33,
            5.02,
            4.5,
            4.05,
            3.86,
            3.8,
            3.85,
            3.94,
            4.33,
            4.23
           ]
          }
         ],
         "layout": {
          "title": {
           "text": "Curva de Rendimientos - 2024-08-09"
          }
         },
         "name": "2024-08-09"
        },
        {
         "data": [
          {
           "marker": {
            "size": 8
           },
           "mode": "lines+markers",
           "type": "scatter",
           "x": [
            "1 Mes",
            "3 Meses",
            "6 Meses",
            "1 Año",
            "2 Años",
            "3 Años",
            "5 Años",
            "7 Años",
            "10 Años",
            "20 Años",
            "30 Años"
           ],
           "y": [
            5.53,
            5.33,
            5.02,
            4.47,
            4.01,
            3.82,
            3.75,
            3.8,
            3.9,
            4.3,
            4.19
           ]
          }
         ],
         "layout": {
          "title": {
           "text": "Curva de Rendimientos - 2024-08-12"
          }
         },
         "name": "2024-08-12"
        },
        {
         "data": [
          {
           "marker": {
            "size": 8
           },
           "mode": "lines+markers",
           "type": "scatter",
           "x": [
            "1 Mes",
            "3 Meses",
            "6 Meses",
            "1 Año",
            "2 Años",
            "3 Años",
            "5 Años",
            "7 Años",
            "10 Años",
            "20 Años",
            "30 Años"
           ],
           "y": [
            5.48,
            5.32,
            4.97,
            4.4,
            3.93,
            3.75,
            3.68,
            3.74,
            3.85,
            4.25,
            4.16
           ]
          }
         ],
         "layout": {
          "title": {
           "text": "Curva de Rendimientos - 2024-08-13"
          }
         },
         "name": "2024-08-13"
        },
        {
         "data": [
          {
           "marker": {
            "size": 8
           },
           "mode": "lines+markers",
           "type": "scatter",
           "x": [
            "1 Mes",
            "3 Meses",
            "6 Meses",
            "1 Año",
            "2 Años",
            "3 Años",
            "5 Años",
            "7 Años",
            "10 Años",
            "20 Años",
            "30 Años"
           ],
           "y": [
            5.49,
            5.32,
            5,
            4.42,
            3.94,
            3.76,
            3.67,
            3.72,
            3.83,
            4.22,
            4.12
           ]
          }
         ],
         "layout": {
          "title": {
           "text": "Curva de Rendimientos - 2024-08-14"
          }
         },
         "name": "2024-08-14"
        },
        {
         "data": [
          {
           "marker": {
            "size": 8
           },
           "mode": "lines+markers",
           "type": "scatter",
           "x": [
            "1 Mes",
            "3 Meses",
            "6 Meses",
            "1 Año",
            "2 Años",
            "3 Años",
            "5 Años",
            "7 Años",
            "10 Años",
            "20 Años",
            "30 Años"
           ],
           "y": [
            5.53,
            5.34,
            5.04,
            4.52,
            4.08,
            3.9,
            3.79,
            3.83,
            3.92,
            4.28,
            4.18
           ]
          }
         ],
         "layout": {
          "title": {
           "text": "Curva de Rendimientos - 2024-08-15"
          }
         },
         "name": "2024-08-15"
        },
        {
         "data": [
          {
           "marker": {
            "size": 8
           },
           "mode": "lines+markers",
           "type": "scatter",
           "x": [
            "1 Mes",
            "3 Meses",
            "6 Meses",
            "1 Año",
            "2 Años",
            "3 Años",
            "5 Años",
            "7 Años",
            "10 Años",
            "20 Años",
            "30 Años"
           ],
           "y": [
            5.53,
            5.33,
            5.02,
            4.49,
            4.06,
            3.87,
            3.77,
            3.81,
            3.89,
            4.26,
            4.15
           ]
          }
         ],
         "layout": {
          "title": {
           "text": "Curva de Rendimientos - 2024-08-16"
          }
         },
         "name": "2024-08-16"
        },
        {
         "data": [
          {
           "marker": {
            "size": 8
           },
           "mode": "lines+markers",
           "type": "scatter",
           "x": [
            "1 Mes",
            "3 Meses",
            "6 Meses",
            "1 Año",
            "2 Años",
            "3 Años",
            "5 Años",
            "7 Años",
            "10 Años",
            "20 Años",
            "30 Años"
           ],
           "y": [
            5.51,
            5.31,
            5,
            4.48,
            4.06,
            3.86,
            3.75,
            3.78,
            3.86,
            4.23,
            4.11
           ]
          }
         ],
         "layout": {
          "title": {
           "text": "Curva de Rendimientos - 2024-08-19"
          }
         },
         "name": "2024-08-19"
        },
        {
         "data": [
          {
           "marker": {
            "size": 8
           },
           "mode": "lines+markers",
           "type": "scatter",
           "x": [
            "1 Mes",
            "3 Meses",
            "6 Meses",
            "1 Año",
            "2 Años",
            "3 Años",
            "5 Años",
            "7 Años",
            "10 Años",
            "20 Años",
            "30 Años"
           ],
           "y": [
            5.48,
            5.29,
            4.97,
            4.43,
            3.99,
            3.8,
            3.7,
            3.73,
            3.82,
            4.19,
            4.07
           ]
          }
         ],
         "layout": {
          "title": {
           "text": "Curva de Rendimientos - 2024-08-20"
          }
         },
         "name": "2024-08-20"
        },
        {
         "data": [
          {
           "marker": {
            "size": 8
           },
           "mode": "lines+markers",
           "type": "scatter",
           "x": [
            "1 Mes",
            "3 Meses",
            "6 Meses",
            "1 Año",
            "2 Años",
            "3 Años",
            "5 Años",
            "7 Años",
            "10 Años",
            "20 Años",
            "30 Años"
           ],
           "y": [
            5.45,
            5.26,
            4.92,
            4.36,
            3.92,
            3.74,
            3.64,
            3.69,
            3.79,
            4.15,
            4.06
           ]
          }
         ],
         "layout": {
          "title": {
           "text": "Curva de Rendimientos - 2024-08-21"
          }
         },
         "name": "2024-08-21"
        },
        {
         "data": [
          {
           "marker": {
            "size": 8
           },
           "mode": "lines+markers",
           "type": "scatter",
           "x": [
            "1 Mes",
            "3 Meses",
            "6 Meses",
            "1 Año",
            "2 Años",
            "3 Años",
            "5 Años",
            "7 Años",
            "10 Años",
            "20 Años",
            "30 Años"
           ],
           "y": [
            5.51,
            5.28,
            4.96,
            4.43,
            3.99,
            3.82,
            3.72,
            3.77,
            3.86,
            4.21,
            4.13
           ]
          }
         ],
         "layout": {
          "title": {
           "text": "Curva de Rendimientos - 2024-08-22"
          }
         },
         "name": "2024-08-22"
        },
        {
         "data": [
          {
           "marker": {
            "size": 8
           },
           "mode": "lines+markers",
           "type": "scatter",
           "x": [
            "1 Mes",
            "3 Meses",
            "6 Meses",
            "1 Año",
            "2 Años",
            "3 Años",
            "5 Años",
            "7 Años",
            "10 Años",
            "20 Años",
            "30 Años"
           ],
           "y": [
            5.51,
            5.25,
            4.92,
            4.36,
            3.9,
            3.73,
            3.65,
            3.71,
            3.81,
            4.18,
            4.1
           ]
          }
         ],
         "layout": {
          "title": {
           "text": "Curva de Rendimientos - 2024-08-23"
          }
         },
         "name": "2024-08-23"
        },
        {
         "data": [
          {
           "marker": {
            "size": 8
           },
           "mode": "lines+markers",
           "type": "scatter",
           "x": [
            "1 Mes",
            "3 Meses",
            "6 Meses",
            "1 Año",
            "2 Años",
            "3 Años",
            "5 Años",
            "7 Años",
            "10 Años",
            "20 Años",
            "30 Años"
           ],
           "y": [
            5.49,
            5.24,
            4.91,
            4.38,
            3.91,
            3.74,
            3.66,
            3.72,
            3.82,
            4.19,
            4.11
           ]
          }
         ],
         "layout": {
          "title": {
           "text": "Curva de Rendimientos - 2024-08-26"
          }
         },
         "name": "2024-08-26"
        },
        {
         "data": [
          {
           "marker": {
            "size": 8
           },
           "mode": "lines+markers",
           "type": "scatter",
           "x": [
            "1 Mes",
            "3 Meses",
            "6 Meses",
            "1 Año",
            "2 Años",
            "3 Años",
            "5 Años",
            "7 Años",
            "10 Años",
            "20 Años",
            "30 Años"
           ],
           "y": [
            5.49,
            5.23,
            4.89,
            4.34,
            3.83,
            3.72,
            3.66,
            3.73,
            3.83,
            4.21,
            4.13
           ]
          }
         ],
         "layout": {
          "title": {
           "text": "Curva de Rendimientos - 2024-08-27"
          }
         },
         "name": "2024-08-27"
        },
        {
         "data": [
          {
           "marker": {
            "size": 8
           },
           "mode": "lines+markers",
           "type": "scatter",
           "x": [
            "1 Mes",
            "3 Meses",
            "6 Meses",
            "1 Año",
            "2 Años",
            "3 Años",
            "5 Años",
            "7 Años",
            "10 Años",
            "20 Años",
            "30 Años"
           ],
           "y": [
            5.47,
            5.21,
            4.87,
            4.36,
            3.83,
            3.72,
            3.63,
            3.74,
            3.84,
            4.22,
            4.13
           ]
          }
         ],
         "layout": {
          "title": {
           "text": "Curva de Rendimientos - 2024-08-28"
          }
         },
         "name": "2024-08-28"
        },
        {
         "data": [
          {
           "marker": {
            "size": 8
           },
           "mode": "lines+markers",
           "type": "scatter",
           "x": [
            "1 Mes",
            "3 Meses",
            "6 Meses",
            "1 Año",
            "2 Años",
            "3 Años",
            "5 Años",
            "7 Años",
            "10 Años",
            "20 Años",
            "30 Años"
           ],
           "y": [
            5.4,
            5.22,
            4.89,
            4.38,
            3.87,
            3.76,
            3.66,
            3.76,
            3.87,
            4.24,
            4.15
           ]
          }
         ],
         "layout": {
          "title": {
           "text": "Curva de Rendimientos - 2024-08-29"
          }
         },
         "name": "2024-08-29"
        },
        {
         "data": [
          {
           "marker": {
            "size": 8
           },
           "mode": "lines+markers",
           "type": "scatter",
           "x": [
            "1 Mes",
            "3 Meses",
            "6 Meses",
            "1 Año",
            "2 Años",
            "3 Años",
            "5 Años",
            "7 Años",
            "10 Años",
            "20 Años",
            "30 Años"
           ],
           "y": [
            5.41,
            5.21,
            4.89,
            4.38,
            3.91,
            3.79,
            3.71,
            3.8,
            3.91,
            4.28,
            4.2
           ]
          }
         ],
         "layout": {
          "title": {
           "text": "Curva de Rendimientos - 2024-08-30"
          }
         },
         "name": "2024-08-30"
        },
        {
         "data": [
          {
           "marker": {
            "size": 8
           },
           "mode": "lines+markers",
           "type": "scatter",
           "x": [
            "1 Mes",
            "3 Meses",
            "6 Meses",
            "1 Año",
            "2 Años",
            "3 Años",
            "5 Años",
            "7 Años",
            "10 Años",
            "20 Años",
            "30 Años"
           ],
           "y": [
            5.38,
            5.19,
            4.8,
            4.35,
            3.88,
            3.73,
            3.65,
            3.73,
            3.84,
            4.21,
            4.13
           ]
          }
         ],
         "layout": {
          "title": {
           "text": "Curva de Rendimientos - 2024-09-03"
          }
         },
         "name": "2024-09-03"
        },
        {
         "data": [
          {
           "marker": {
            "size": 8
           },
           "mode": "lines+markers",
           "type": "scatter",
           "x": [
            "1 Mes",
            "3 Meses",
            "6 Meses",
            "1 Año",
            "2 Años",
            "3 Años",
            "5 Años",
            "7 Años",
            "10 Años",
            "20 Años",
            "30 Años"
           ],
           "y": [
            5.33,
            5.18,
            4.74,
            4.23,
            3.76,
            3.63,
            3.56,
            3.65,
            3.77,
            4.14,
            4.06
           ]
          }
         ],
         "layout": {
          "title": {
           "text": "Curva de Rendimientos - 2024-09-04"
          }
         },
         "name": "2024-09-04"
        },
        {
         "data": [
          {
           "marker": {
            "size": 8
           },
           "mode": "lines+markers",
           "type": "scatter",
           "x": [
            "1 Mes",
            "3 Meses",
            "6 Meses",
            "1 Año",
            "2 Años",
            "3 Años",
            "5 Años",
            "7 Años",
            "10 Años",
            "20 Años",
            "30 Años"
           ],
           "y": [
            5.3,
            5.15,
            4.73,
            4.21,
            3.75,
            3.61,
            3.54,
            3.63,
            3.73,
            4.11,
            4.02
           ]
          }
         ],
         "layout": {
          "title": {
           "text": "Curva de Rendimientos - 2024-09-05"
          }
         },
         "name": "2024-09-05"
        },
        {
         "data": [
          {
           "marker": {
            "size": 8
           },
           "mode": "lines+markers",
           "type": "scatter",
           "x": [
            "1 Mes",
            "3 Meses",
            "6 Meses",
            "1 Año",
            "2 Años",
            "3 Años",
            "5 Años",
            "7 Años",
            "10 Años",
            "20 Años",
            "30 Años"
           ],
           "y": [
            5.28,
            5.13,
            4.69,
            4.1,
            3.66,
            3.54,
            3.5,
            3.6,
            3.72,
            4.1,
            4.03
           ]
          }
         ],
         "layout": {
          "title": {
           "text": "Curva de Rendimientos - 2024-09-06"
          }
         },
         "name": "2024-09-06"
        },
        {
         "data": [
          {
           "marker": {
            "size": 8
           },
           "mode": "lines+markers",
           "type": "scatter",
           "x": [
            "1 Mes",
            "3 Meses",
            "6 Meses",
            "1 Año",
            "2 Años",
            "3 Años",
            "5 Años",
            "7 Años",
            "10 Años",
            "20 Años",
            "30 Años"
           ],
           "y": [
            5.25,
            5.11,
            4.68,
            4.12,
            3.68,
            3.54,
            3.49,
            3.58,
            3.7,
            4.08,
            4
           ]
          }
         ],
         "layout": {
          "title": {
           "text": "Curva de Rendimientos - 2024-09-09"
          }
         },
         "name": "2024-09-09"
        },
        {
         "data": [
          {
           "marker": {
            "size": 8
           },
           "mode": "lines+markers",
           "type": "scatter",
           "x": [
            "1 Mes",
            "3 Meses",
            "6 Meses",
            "1 Año",
            "2 Años",
            "3 Años",
            "5 Años",
            "7 Años",
            "10 Años",
            "20 Años",
            "30 Años"
           ],
           "y": [
            5.18,
            5.06,
            4.65,
            4.07,
            3.59,
            3.42,
            3.43,
            3.53,
            3.65,
            4.04,
            3.97
           ]
          }
         ],
         "layout": {
          "title": {
           "text": "Curva de Rendimientos - 2024-09-10"
          }
         },
         "name": "2024-09-10"
        },
        {
         "data": [
          {
           "marker": {
            "size": 8
           },
           "mode": "lines+markers",
           "type": "scatter",
           "x": [
            "1 Mes",
            "3 Meses",
            "6 Meses",
            "1 Año",
            "2 Años",
            "3 Años",
            "5 Años",
            "7 Años",
            "10 Años",
            "20 Años",
            "30 Años"
           ],
           "y": [
            5.21,
            5.1,
            4.72,
            4.12,
            3.62,
            3.45,
            3.45,
            3.54,
            3.65,
            4.03,
            3.96
           ]
          }
         ],
         "layout": {
          "title": {
           "text": "Curva de Rendimientos - 2024-09-11"
          }
         },
         "name": "2024-09-11"
        },
        {
         "data": [
          {
           "marker": {
            "size": 8
           },
           "mode": "lines+markers",
           "type": "scatter",
           "x": [
            "1 Mes",
            "3 Meses",
            "6 Meses",
            "1 Año",
            "2 Años",
            "3 Años",
            "5 Años",
            "7 Años",
            "10 Años",
            "20 Años",
            "30 Años"
           ],
           "y": [
            5.18,
            5.06,
            4.68,
            4.09,
            3.64,
            3.47,
            3.47,
            3.57,
            3.68,
            4.07,
            4
           ]
          }
         ],
         "layout": {
          "title": {
           "text": "Curva de Rendimientos - 2024-09-12"
          }
         },
         "name": "2024-09-12"
        },
        {
         "data": [
          {
           "marker": {
            "size": 8
           },
           "mode": "lines+markers",
           "type": "scatter",
           "x": [
            "1 Mes",
            "3 Meses",
            "6 Meses",
            "1 Año",
            "2 Años",
            "3 Años",
            "5 Años",
            "7 Años",
            "10 Años",
            "20 Años",
            "30 Años"
           ],
           "y": [
            5.15,
            4.97,
            4.6,
            4,
            3.57,
            3.42,
            3.43,
            3.53,
            3.66,
            4.05,
            3.98
           ]
          }
         ],
         "layout": {
          "title": {
           "text": "Curva de Rendimientos - 2024-09-13"
          }
         },
         "name": "2024-09-13"
        },
        {
         "data": [
          {
           "marker": {
            "size": 8
           },
           "mode": "lines+markers",
           "type": "scatter",
           "x": [
            "1 Mes",
            "3 Meses",
            "6 Meses",
            "1 Año",
            "2 Años",
            "3 Años",
            "5 Años",
            "7 Años",
            "10 Años",
            "20 Años",
            "30 Años"
           ],
           "y": [
            5.11,
            4.96,
            4.55,
            3.96,
            3.56,
            3.42,
            3.41,
            3.51,
            3.63,
            4.01,
            3.94
           ]
          }
         ],
         "layout": {
          "title": {
           "text": "Curva de Rendimientos - 2024-09-16"
          }
         },
         "name": "2024-09-16"
        },
        {
         "data": [
          {
           "marker": {
            "size": 8
           },
           "mode": "lines+markers",
           "type": "scatter",
           "x": [
            "1 Mes",
            "3 Meses",
            "6 Meses",
            "1 Año",
            "2 Años",
            "3 Años",
            "5 Años",
            "7 Años",
            "10 Años",
            "20 Años",
            "30 Años"
           ],
           "y": [
            5.05,
            4.95,
            4.55,
            3.99,
            3.59,
            3.45,
            3.44,
            3.53,
            3.65,
            4.02,
            3.96
           ]
          }
         ],
         "layout": {
          "title": {
           "text": "Curva de Rendimientos - 2024-09-17"
          }
         },
         "name": "2024-09-17"
        },
        {
         "data": [
          {
           "marker": {
            "size": 8
           },
           "mode": "lines+markers",
           "type": "scatter",
           "x": [
            "1 Mes",
            "3 Meses",
            "6 Meses",
            "1 Año",
            "2 Años",
            "3 Años",
            "5 Años",
            "7 Años",
            "10 Años",
            "20 Años",
            "30 Años"
           ],
           "y": [
            4.91,
            4.84,
            4.5,
            3.95,
            3.61,
            3.49,
            3.47,
            3.58,
            3.7,
            4.08,
            4.03
           ]
          }
         ],
         "layout": {
          "title": {
           "text": "Curva de Rendimientos - 2024-09-18"
          }
         },
         "name": "2024-09-18"
        },
        {
         "data": [
          {
           "marker": {
            "size": 8
           },
           "mode": "lines+markers",
           "type": "scatter",
           "x": [
            "1 Mes",
            "3 Meses",
            "6 Meses",
            "1 Año",
            "2 Años",
            "3 Años",
            "5 Años",
            "7 Años",
            "10 Años",
            "20 Años",
            "30 Años"
           ],
           "y": [
            4.89,
            4.8,
            4.46,
            3.93,
            3.59,
            3.47,
            3.49,
            3.6,
            3.73,
            4.11,
            4.06
           ]
          }
         ],
         "layout": {
          "title": {
           "text": "Curva de Rendimientos - 2024-09-19"
          }
         },
         "name": "2024-09-19"
        },
        {
         "data": [
          {
           "marker": {
            "size": 8
           },
           "mode": "lines+markers",
           "type": "scatter",
           "x": [
            "1 Mes",
            "3 Meses",
            "6 Meses",
            "1 Año",
            "2 Años",
            "3 Años",
            "5 Años",
            "7 Años",
            "10 Años",
            "20 Años",
            "30 Años"
           ],
           "y": [
            4.87,
            4.75,
            4.43,
            3.92,
            3.55,
            3.46,
            3.48,
            3.59,
            3.73,
            4.1,
            4.07
           ]
          }
         ],
         "layout": {
          "title": {
           "text": "Curva de Rendimientos - 2024-09-20"
          }
         },
         "name": "2024-09-20"
        },
        {
         "data": [
          {
           "marker": {
            "size": 8
           },
           "mode": "lines+markers",
           "type": "scatter",
           "x": [
            "1 Mes",
            "3 Meses",
            "6 Meses",
            "1 Año",
            "2 Años",
            "3 Años",
            "5 Años",
            "7 Años",
            "10 Años",
            "20 Años",
            "30 Años"
           ],
           "y": [
            4.85,
            4.72,
            4.4,
            3.91,
            3.57,
            3.47,
            3.51,
            3.62,
            3.75,
            4.12,
            4.09
           ]
          }
         ],
         "layout": {
          "title": {
           "text": "Curva de Rendimientos - 2024-09-23"
          }
         },
         "name": "2024-09-23"
        },
        {
         "data": [
          {
           "marker": {
            "size": 8
           },
           "mode": "lines+markers",
           "type": "scatter",
           "x": [
            "1 Mes",
            "3 Meses",
            "6 Meses",
            "1 Año",
            "2 Años",
            "3 Años",
            "5 Años",
            "7 Años",
            "10 Años",
            "20 Años",
            "30 Años"
           ],
           "y": [
            4.78,
            4.69,
            4.36,
            3.88,
            3.49,
            3.44,
            3.47,
            3.6,
            3.74,
            4.13,
            4.09
           ]
          }
         ],
         "layout": {
          "title": {
           "text": "Curva de Rendimientos - 2024-09-24"
          }
         },
         "name": "2024-09-24"
        },
        {
         "data": [
          {
           "marker": {
            "size": 8
           },
           "mode": "lines+markers",
           "type": "scatter",
           "x": [
            "1 Mes",
            "3 Meses",
            "6 Meses",
            "1 Año",
            "2 Años",
            "3 Años",
            "5 Años",
            "7 Años",
            "10 Años",
            "20 Años",
            "30 Años"
           ],
           "y": [
            4.79,
            4.69,
            4.36,
            3.89,
            3.53,
            3.49,
            3.52,
            3.65,
            3.79,
            4.18,
            4.14
           ]
          }
         ],
         "layout": {
          "title": {
           "text": "Curva de Rendimientos - 2024-09-25"
          }
         },
         "name": "2024-09-25"
        },
        {
         "data": [
          {
           "marker": {
            "size": 8
           },
           "mode": "lines+markers",
           "type": "scatter",
           "x": [
            "1 Mes",
            "3 Meses",
            "6 Meses",
            "1 Año",
            "2 Años",
            "3 Años",
            "5 Años",
            "7 Años",
            "10 Años",
            "20 Años",
            "30 Años"
           ],
           "y": [
            4.9,
            4.68,
            4.38,
            3.96,
            3.6,
            3.54,
            3.55,
            3.65,
            3.79,
            4.17,
            4.12
           ]
          }
         ],
         "layout": {
          "title": {
           "text": "Curva de Rendimientos - 2024-09-26"
          }
         },
         "name": "2024-09-26"
        },
        {
         "data": [
          {
           "marker": {
            "size": 8
           },
           "mode": "lines+markers",
           "type": "scatter",
           "x": [
            "1 Mes",
            "3 Meses",
            "6 Meses",
            "1 Año",
            "2 Años",
            "3 Años",
            "5 Años",
            "7 Años",
            "10 Años",
            "20 Años",
            "30 Años"
           ],
           "y": [
            4.9,
            4.68,
            4.35,
            3.9,
            3.55,
            3.49,
            3.5,
            3.6,
            3.75,
            4.15,
            4.1
           ]
          }
         ],
         "layout": {
          "title": {
           "text": "Curva de Rendimientos - 2024-09-27"
          }
         },
         "name": "2024-09-27"
        },
        {
         "data": [
          {
           "marker": {
            "size": 8
           },
           "mode": "lines+markers",
           "type": "scatter",
           "x": [
            "1 Mes",
            "3 Meses",
            "6 Meses",
            "1 Año",
            "2 Años",
            "3 Años",
            "5 Años",
            "7 Años",
            "10 Años",
            "20 Años",
            "30 Años"
           ],
           "y": [
            4.93,
            4.73,
            4.38,
            3.98,
            3.66,
            3.58,
            3.58,
            3.67,
            3.81,
            4.19,
            4.14
           ]
          }
         ],
         "layout": {
          "title": {
           "text": "Curva de Rendimientos - 2024-09-30"
          }
         },
         "name": "2024-09-30"
        },
        {
         "data": [
          {
           "marker": {
            "size": 8
           },
           "mode": "lines+markers",
           "type": "scatter",
           "x": [
            "1 Mes",
            "3 Meses",
            "6 Meses",
            "1 Año",
            "2 Años",
            "3 Años",
            "5 Años",
            "7 Años",
            "10 Años",
            "20 Años",
            "30 Años"
           ],
           "y": [
            4.96,
            4.71,
            4.36,
            3.96,
            3.61,
            3.52,
            3.51,
            3.6,
            3.74,
            4.14,
            4.08
           ]
          }
         ],
         "layout": {
          "title": {
           "text": "Curva de Rendimientos - 2024-10-01"
          }
         },
         "name": "2024-10-01"
        },
        {
         "data": [
          {
           "marker": {
            "size": 8
           },
           "mode": "lines+markers",
           "type": "scatter",
           "x": [
            "1 Mes",
            "3 Meses",
            "6 Meses",
            "1 Año",
            "2 Años",
            "3 Años",
            "5 Años",
            "7 Años",
            "10 Años",
            "20 Años",
            "30 Años"
           ],
           "y": [
            4.92,
            4.69,
            4.36,
            3.97,
            3.63,
            3.54,
            3.55,
            3.65,
            3.79,
            4.19,
            4.14
           ]
          }
         ],
         "layout": {
          "title": {
           "text": "Curva de Rendimientos - 2024-10-02"
          }
         },
         "name": "2024-10-02"
        },
        {
         "data": [
          {
           "marker": {
            "size": 8
           },
           "mode": "lines+markers",
           "type": "scatter",
           "x": [
            "1 Mes",
            "3 Meses",
            "6 Meses",
            "1 Año",
            "2 Años",
            "3 Años",
            "5 Años",
            "7 Años",
            "10 Años",
            "20 Años",
            "30 Años"
           ],
           "y": [
            4.99,
            4.68,
            4.37,
            4.02,
            3.7,
            3.62,
            3.62,
            3.71,
            3.85,
            4.24,
            4.18
           ]
          }
         ],
         "layout": {
          "title": {
           "text": "Curva de Rendimientos - 2024-10-03"
          }
         },
         "name": "2024-10-03"
        },
        {
         "data": [
          {
           "marker": {
            "size": 8
           },
           "mode": "lines+markers",
           "type": "scatter",
           "x": [
            "1 Mes",
            "3 Meses",
            "6 Meses",
            "1 Año",
            "2 Años",
            "3 Años",
            "5 Años",
            "7 Años",
            "10 Años",
            "20 Años",
            "30 Años"
           ],
           "y": [
            5.01,
            4.73,
            4.45,
            4.2,
            3.93,
            3.84,
            3.81,
            3.88,
            3.98,
            4.33,
            4.26
           ]
          }
         ],
         "layout": {
          "title": {
           "text": "Curva de Rendimientos - 2024-10-04"
          }
         },
         "name": "2024-10-04"
        },
        {
         "data": [
          {
           "marker": {
            "size": 8
           },
           "mode": "lines+markers",
           "type": "scatter",
           "x": [
            "1 Mes",
            "3 Meses",
            "6 Meses",
            "1 Año",
            "2 Años",
            "3 Años",
            "5 Años",
            "7 Años",
            "10 Años",
            "20 Años",
            "30 Años"
           ],
           "y": [
            5,
            4.77,
            4.45,
            4.24,
            3.99,
            3.89,
            3.86,
            3.92,
            4.03,
            4.37,
            4.3
           ]
          }
         ],
         "layout": {
          "title": {
           "text": "Curva de Rendimientos - 2024-10-07"
          }
         },
         "name": "2024-10-07"
        },
        {
         "data": [
          {
           "marker": {
            "size": 8
           },
           "mode": "lines+markers",
           "type": "scatter",
           "x": [
            "1 Mes",
            "3 Meses",
            "6 Meses",
            "1 Año",
            "2 Años",
            "3 Años",
            "5 Años",
            "7 Años",
            "10 Años",
            "20 Años",
            "30 Años"
           ],
           "y": [
            4.96,
            4.75,
            4.44,
            4.21,
            3.98,
            3.86,
            3.86,
            3.94,
            4.04,
            4.38,
            4.32
           ]
          }
         ],
         "layout": {
          "title": {
           "text": "Curva de Rendimientos - 2024-10-08"
          }
         },
         "name": "2024-10-08"
        },
        {
         "data": [
          {
           "marker": {
            "size": 8
           },
           "mode": "lines+markers",
           "type": "scatter",
           "x": [
            "1 Mes",
            "3 Meses",
            "6 Meses",
            "1 Año",
            "2 Años",
            "3 Años",
            "5 Años",
            "7 Años",
            "10 Años",
            "20 Años",
            "30 Años"
           ],
           "y": [
            4.93,
            4.75,
            4.46,
            4.24,
            3.99,
            3.89,
            3.91,
            3.97,
            4.06,
            4.41,
            4.34
           ]
          }
         ],
         "layout": {
          "title": {
           "text": "Curva de Rendimientos - 2024-10-09"
          }
         },
         "name": "2024-10-09"
        },
        {
         "data": [
          {
           "marker": {
            "size": 8
           },
           "mode": "lines+markers",
           "type": "scatter",
           "x": [
            "1 Mes",
            "3 Meses",
            "6 Meses",
            "1 Año",
            "2 Años",
            "3 Años",
            "5 Años",
            "7 Años",
            "10 Años",
            "20 Años",
            "30 Años"
           ],
           "y": [
            4.98,
            4.75,
            4.45,
            4.22,
            3.98,
            3.88,
            3.91,
            3.99,
            4.09,
            4.44,
            4.38
           ]
          }
         ],
         "layout": {
          "title": {
           "text": "Curva de Rendimientos - 2024-10-10"
          }
         },
         "name": "2024-10-10"
        },
        {
         "data": [
          {
           "marker": {
            "size": 8
           },
           "mode": "lines+markers",
           "type": "scatter",
           "x": [
            "1 Mes",
            "3 Meses",
            "6 Meses",
            "1 Año",
            "2 Años",
            "3 Años",
            "5 Años",
            "7 Años",
            "10 Años",
            "20 Años",
            "30 Años"
           ],
           "y": [
            4.97,
            4.73,
            4.44,
            4.18,
            3.95,
            3.85,
            3.88,
            3.97,
            4.08,
            4.44,
            4.39
           ]
          }
         ],
         "layout": {
          "title": {
           "text": "Curva de Rendimientos - 2024-10-11"
          }
         },
         "name": "2024-10-11"
        },
        {
         "data": [
          {
           "marker": {
            "size": 8
           },
           "mode": "lines+markers",
           "type": "scatter",
           "x": [
            "1 Mes",
            "3 Meses",
            "6 Meses",
            "1 Año",
            "2 Años",
            "3 Años",
            "5 Años",
            "7 Años",
            "10 Años",
            "20 Años",
            "30 Años"
           ],
           "y": [
            4.93,
            4.73,
            4.42,
            4.18,
            3.95,
            3.86,
            3.86,
            3.93,
            4.03,
            4.37,
            4.32
           ]
          }
         ],
         "layout": {
          "title": {
           "text": "Curva de Rendimientos - 2024-10-15"
          }
         },
         "name": "2024-10-15"
        },
        {
         "data": [
          {
           "marker": {
            "size": 8
           },
           "mode": "lines+markers",
           "type": "scatter",
           "x": [
            "1 Mes",
            "3 Meses",
            "6 Meses",
            "1 Año",
            "2 Años",
            "3 Años",
            "5 Años",
            "7 Años",
            "10 Años",
            "20 Años",
            "30 Años"
           ],
           "y": [
            4.91,
            4.72,
            4.42,
            4.17,
            3.93,
            3.84,
            3.84,
            3.92,
            4.02,
            4.36,
            4.3
           ]
          }
         ],
         "layout": {
          "title": {
           "text": "Curva de Rendimientos - 2024-10-16"
          }
         },
         "name": "2024-10-16"
        },
        {
         "data": [
          {
           "marker": {
            "size": 8
           },
           "mode": "lines+markers",
           "type": "scatter",
           "x": [
            "1 Mes",
            "3 Meses",
            "6 Meses",
            "1 Año",
            "2 Años",
            "3 Años",
            "5 Años",
            "7 Años",
            "10 Años",
            "20 Años",
            "30 Años"
           ],
           "y": [
            4.93,
            4.74,
            4.45,
            4.21,
            3.96,
            3.89,
            3.9,
            3.99,
            4.09,
            4.44,
            4.39
           ]
          }
         ],
         "layout": {
          "title": {
           "text": "Curva de Rendimientos - 2024-10-17"
          }
         },
         "name": "2024-10-17"
        },
        {
         "data": [
          {
           "marker": {
            "size": 8
           },
           "mode": "lines+markers",
           "type": "scatter",
           "x": [
            "1 Mes",
            "3 Meses",
            "6 Meses",
            "1 Año",
            "2 Años",
            "3 Años",
            "5 Años",
            "7 Años",
            "10 Años",
            "20 Años",
            "30 Años"
           ],
           "y": [
            4.92,
            4.73,
            4.45,
            4.19,
            3.95,
            3.86,
            3.88,
            3.97,
            4.08,
            4.44,
            4.38
           ]
          }
         ],
         "layout": {
          "title": {
           "text": "Curva de Rendimientos - 2024-10-18"
          }
         },
         "name": "2024-10-18"
        },
        {
         "data": [
          {
           "marker": {
            "size": 8
           },
           "mode": "lines+markers",
           "type": "scatter",
           "x": [
            "1 Mes",
            "3 Meses",
            "6 Meses",
            "1 Año",
            "2 Años",
            "3 Años",
            "5 Años",
            "7 Años",
            "10 Años",
            "20 Años",
            "30 Años"
           ],
           "y": [
            4.92,
            4.73,
            4.47,
            4.24,
            4.02,
            3.95,
            3.98,
            4.07,
            4.19,
            4.54,
            4.49
           ]
          }
         ],
         "layout": {
          "title": {
           "text": "Curva de Rendimientos - 2024-10-21"
          }
         },
         "name": "2024-10-21"
        },
        {
         "data": [
          {
           "marker": {
            "size": 8
           },
           "mode": "lines+markers",
           "type": "scatter",
           "x": [
            "1 Mes",
            "3 Meses",
            "6 Meses",
            "1 Año",
            "2 Años",
            "3 Años",
            "5 Años",
            "7 Años",
            "10 Años",
            "20 Años",
            "30 Años"
           ],
           "y": [
            4.89,
            4.72,
            4.47,
            4.24,
            4.03,
            3.98,
            4,
            4.1,
            4.2,
            4.55,
            4.49
           ]
          }
         ],
         "layout": {
          "title": {
           "text": "Curva de Rendimientos - 2024-10-22"
          }
         },
         "name": "2024-10-22"
        },
        {
         "data": [
          {
           "marker": {
            "size": 8
           },
           "mode": "lines+markers",
           "type": "scatter",
           "x": [
            "1 Mes",
            "3 Meses",
            "6 Meses",
            "1 Año",
            "2 Años",
            "3 Años",
            "5 Años",
            "7 Años",
            "10 Años",
            "20 Años",
            "30 Años"
           ],
           "y": [
            4.88,
            4.73,
            4.48,
            4.27,
            4.07,
            4.03,
            4.05,
            4.14,
            4.24,
            4.58,
            4.51
           ]
          }
         ],
         "layout": {
          "title": {
           "text": "Curva de Rendimientos - 2024-10-23"
          }
         },
         "name": "2024-10-23"
        },
        {
         "data": [
          {
           "marker": {
            "size": 8
           },
           "mode": "lines+markers",
           "type": "scatter",
           "x": [
            "1 Mes",
            "3 Meses",
            "6 Meses",
            "1 Año",
            "2 Años",
            "3 Años",
            "5 Años",
            "7 Años",
            "10 Años",
            "20 Años",
            "30 Años"
           ],
           "y": [
            4.87,
            4.7,
            4.48,
            4.25,
            4.07,
            4.02,
            4.03,
            4.12,
            4.21,
            4.54,
            4.47
           ]
          }
         ],
         "layout": {
          "title": {
           "text": "Curva de Rendimientos - 2024-10-24"
          }
         },
         "name": "2024-10-24"
        },
        {
         "data": [
          {
           "marker": {
            "size": 8
           },
           "mode": "lines+markers",
           "type": "scatter",
           "x": [
            "1 Mes",
            "3 Meses",
            "6 Meses",
            "1 Año",
            "2 Años",
            "3 Años",
            "5 Años",
            "7 Años",
            "10 Años",
            "20 Años",
            "30 Años"
           ],
           "y": [
            4.89,
            4.73,
            4.51,
            4.29,
            4.11,
            4.05,
            4.07,
            4.15,
            4.25,
            4.58,
            4.51
           ]
          }
         ],
         "layout": {
          "title": {
           "text": "Curva de Rendimientos - 2024-10-25"
          }
         },
         "name": "2024-10-25"
        },
        {
         "data": [
          {
           "marker": {
            "size": 8
           },
           "mode": "lines+markers",
           "type": "scatter",
           "x": [
            "1 Mes",
            "3 Meses",
            "6 Meses",
            "1 Año",
            "2 Años",
            "3 Años",
            "5 Años",
            "7 Años",
            "10 Años",
            "20 Años",
            "30 Años"
           ],
           "y": [
            4.88,
            4.7,
            4.46,
            4.28,
            4.12,
            4.09,
            4.11,
            4.19,
            4.28,
            4.61,
            4.53
           ]
          }
         ],
         "layout": {
          "title": {
           "text": "Curva de Rendimientos - 2024-10-28"
          }
         },
         "name": "2024-10-28"
        },
        {
         "data": [
          {
           "marker": {
            "size": 8
           },
           "mode": "lines+markers",
           "type": "scatter",
           "x": [
            "1 Mes",
            "3 Meses",
            "6 Meses",
            "1 Año",
            "2 Años",
            "3 Años",
            "5 Años",
            "7 Años",
            "10 Años",
            "20 Años",
            "30 Años"
           ],
           "y": [
            4.88,
            4.7,
            4.45,
            4.29,
            4.11,
            4.08,
            4.11,
            4.18,
            4.28,
            4.61,
            4.52
           ]
          }
         ],
         "layout": {
          "title": {
           "text": "Curva de Rendimientos - 2024-10-29"
          }
         },
         "name": "2024-10-29"
        },
        {
         "data": [
          {
           "marker": {
            "size": 8
           },
           "mode": "lines+markers",
           "type": "scatter",
           "x": [
            "1 Mes",
            "3 Meses",
            "6 Meses",
            "1 Año",
            "2 Años",
            "3 Años",
            "5 Años",
            "7 Años",
            "10 Años",
            "20 Años",
            "30 Años"
           ],
           "y": [
            4.87,
            4.67,
            4.44,
            4.28,
            4.15,
            4.14,
            4.14,
            4.2,
            4.29,
            4.6,
            4.49
           ]
          }
         ],
         "layout": {
          "title": {
           "text": "Curva de Rendimientos - 2024-10-30"
          }
         },
         "name": "2024-10-30"
        },
        {
         "data": [
          {
           "marker": {
            "size": 8
           },
           "mode": "lines+markers",
           "type": "scatter",
           "x": [
            "1 Mes",
            "3 Meses",
            "6 Meses",
            "1 Año",
            "2 Años",
            "3 Años",
            "5 Años",
            "7 Años",
            "10 Años",
            "20 Años",
            "30 Años"
           ],
           "y": [
            4.76,
            4.64,
            4.43,
            4.27,
            4.16,
            4.12,
            4.15,
            4.21,
            4.28,
            4.58,
            4.47
           ]
          }
         ],
         "layout": {
          "title": {
           "text": "Curva de Rendimientos - 2024-10-31"
          }
         },
         "name": "2024-10-31"
        },
        {
         "data": [
          {
           "marker": {
            "size": 8
           },
           "mode": "lines+markers",
           "type": "scatter",
           "x": [
            "1 Mes",
            "3 Meses",
            "6 Meses",
            "1 Año",
            "2 Años",
            "3 Años",
            "5 Años",
            "7 Años",
            "10 Años",
            "20 Años",
            "30 Años"
           ],
           "y": [
            4.75,
            4.61,
            4.42,
            4.28,
            4.21,
            4.18,
            4.22,
            4.3,
            4.37,
            4.68,
            4.57
           ]
          }
         ],
         "layout": {
          "title": {
           "text": "Curva de Rendimientos - 2024-11-01"
          }
         },
         "name": "2024-11-01"
        },
        {
         "data": [
          {
           "marker": {
            "size": 8
           },
           "mode": "lines+markers",
           "type": "scatter",
           "x": [
            "1 Mes",
            "3 Meses",
            "6 Meses",
            "1 Año",
            "2 Años",
            "3 Años",
            "5 Años",
            "7 Años",
            "10 Años",
            "20 Años",
            "30 Años"
           ],
           "y": [
            4.75,
            4.65,
            4.39,
            4.25,
            4.17,
            4.1,
            4.17,
            4.24,
            4.31,
            4.6,
            4.5
           ]
          }
         ],
         "layout": {
          "title": {
           "text": "Curva de Rendimientos - 2024-11-04"
          }
         },
         "name": "2024-11-04"
        },
        {
         "data": [
          {
           "marker": {
            "size": 8
           },
           "mode": "lines+markers",
           "type": "scatter",
           "x": [
            "1 Mes",
            "3 Meses",
            "6 Meses",
            "1 Año",
            "2 Años",
            "3 Años",
            "5 Años",
            "7 Años",
            "10 Años",
            "20 Años",
            "30 Años"
           ],
           "y": [
            4.72,
            4.64,
            4.39,
            4.27,
            4.19,
            4.11,
            4.16,
            4.22,
            4.26,
            4.55,
            4.44
           ]
          }
         ],
         "layout": {
          "title": {
           "text": "Curva de Rendimientos - 2024-11-05"
          }
         },
         "name": "2024-11-05"
        },
        {
         "data": [
          {
           "marker": {
            "size": 8
           },
           "mode": "lines+markers",
           "type": "scatter",
           "x": [
            "1 Mes",
            "3 Meses",
            "6 Meses",
            "1 Año",
            "2 Años",
            "3 Años",
            "5 Años",
            "7 Años",
            "10 Años",
            "20 Años",
            "30 Años"
           ],
           "y": [
            4.68,
            4.64,
            4.41,
            4.31,
            4.27,
            4.2,
            4.27,
            4.37,
            4.42,
            4.71,
            4.6
           ]
          }
         ],
         "layout": {
          "title": {
           "text": "Curva de Rendimientos - 2024-11-06"
          }
         },
         "name": "2024-11-06"
        },
        {
         "data": [
          {
           "marker": {
            "size": 8
           },
           "mode": "lines+markers",
           "type": "scatter",
           "x": [
            "1 Mes",
            "3 Meses",
            "6 Meses",
            "1 Año",
            "2 Años",
            "3 Años",
            "5 Años",
            "7 Años",
            "10 Años",
            "20 Años",
            "30 Años"
           ],
           "y": [
            4.69,
            4.63,
            4.4,
            4.28,
            4.21,
            4.13,
            4.17,
            4.25,
            4.31,
            4.62,
            4.52
           ]
          }
         ],
         "layout": {
          "title": {
           "text": "Curva de Rendimientos - 2024-11-07"
          }
         },
         "name": "2024-11-07"
        },
        {
         "data": [
          {
           "marker": {
            "size": 8
           },
           "mode": "lines+markers",
           "type": "scatter",
           "x": [
            "1 Mes",
            "3 Meses",
            "6 Meses",
            "1 Año",
            "2 Años",
            "3 Años",
            "5 Años",
            "7 Años",
            "10 Años",
            "20 Años",
            "30 Años"
           ],
           "y": [
            4.7,
            4.63,
            4.42,
            4.32,
            4.26,
            4.18,
            4.2,
            4.25,
            4.3,
            4.58,
            4.47
           ]
          }
         ],
         "layout": {
          "title": {
           "text": "Curva de Rendimientos - 2024-11-08"
          }
         },
         "name": "2024-11-08"
        },
        {
         "data": [
          {
           "marker": {
            "size": 8
           },
           "mode": "lines+markers",
           "type": "scatter",
           "x": [
            "1 Mes",
            "3 Meses",
            "6 Meses",
            "1 Año",
            "2 Años",
            "3 Años",
            "5 Años",
            "7 Años",
            "10 Años",
            "20 Años",
            "30 Años"
           ],
           "y": [
            4.7,
            4.63,
            4.45,
            4.38,
            4.34,
            4.29,
            4.32,
            4.38,
            4.43,
            4.7,
            4.58
           ]
          }
         ],
         "layout": {
          "title": {
           "text": "Curva de Rendimientos - 2024-11-12"
          }
         },
         "name": "2024-11-12"
        },
        {
         "data": [
          {
           "marker": {
            "size": 8
           },
           "mode": "lines+markers",
           "type": "scatter",
           "x": [
            "1 Mes",
            "3 Meses",
            "6 Meses",
            "1 Año",
            "2 Años",
            "3 Años",
            "5 Años",
            "7 Años",
            "10 Años",
            "20 Años",
            "30 Años"
           ],
           "y": [
            4.69,
            4.6,
            4.4,
            4.31,
            4.27,
            4.25,
            4.3,
            4.38,
            4.44,
            4.73,
            4.63
           ]
          }
         ],
         "layout": {
          "title": {
           "text": "Curva de Rendimientos - 2024-11-13"
          }
         },
         "name": "2024-11-13"
        },
        {
         "data": [
          {
           "marker": {
            "size": 8
           },
           "mode": "lines+markers",
           "type": "scatter",
           "x": [
            "1 Mes",
            "3 Meses",
            "6 Meses",
            "1 Año",
            "2 Años",
            "3 Años",
            "5 Años",
            "7 Años",
            "10 Años",
            "20 Años",
            "30 Años"
           ],
           "y": [
            4.7,
            4.61,
            4.43,
            4.36,
            4.34,
            4.3,
            4.32,
            4.38,
            4.43,
            4.69,
            4.58
           ]
          }
         ],
         "layout": {
          "title": {
           "text": "Curva de Rendimientos - 2024-11-14"
          }
         },
         "name": "2024-11-14"
        },
        {
         "data": [
          {
           "marker": {
            "size": 8
           },
           "mode": "lines+markers",
           "type": "scatter",
           "x": [
            "1 Mes",
            "3 Meses",
            "6 Meses",
            "1 Año",
            "2 Años",
            "3 Años",
            "5 Años",
            "7 Años",
            "10 Años",
            "20 Años",
            "30 Años"
           ],
           "y": [
            4.7,
            4.6,
            4.44,
            4.34,
            4.31,
            4.27,
            4.3,
            4.36,
            4.43,
            4.7,
            4.6
           ]
          }
         ],
         "layout": {
          "title": {
           "text": "Curva de Rendimientos - 2024-11-15"
          }
         },
         "name": "2024-11-15"
        },
        {
         "data": [
          {
           "marker": {
            "size": 8
           },
           "mode": "lines+markers",
           "type": "scatter",
           "x": [
            "1 Mes",
            "3 Meses",
            "6 Meses",
            "1 Año",
            "2 Años",
            "3 Años",
            "5 Años",
            "7 Años",
            "10 Años",
            "20 Años",
            "30 Años"
           ],
           "y": [
            4.7,
            4.63,
            4.44,
            4.33,
            4.29,
            4.25,
            4.28,
            4.35,
            4.42,
            4.7,
            4.61
           ]
          }
         ],
         "layout": {
          "title": {
           "text": "Curva de Rendimientos - 2024-11-18"
          }
         },
         "name": "2024-11-18"
        },
        {
         "data": [
          {
           "marker": {
            "size": 8
           },
           "mode": "lines+markers",
           "type": "scatter",
           "x": [
            "1 Mes",
            "3 Meses",
            "6 Meses",
            "1 Año",
            "2 Años",
            "3 Años",
            "5 Años",
            "7 Años",
            "10 Años",
            "20 Años",
            "30 Años"
           ],
           "y": [
            4.67,
            4.62,
            4.44,
            4.34,
            4.27,
            4.24,
            4.25,
            4.32,
            4.39,
            4.66,
            4.57
           ]
          }
         ],
         "layout": {
          "title": {
           "text": "Curva de Rendimientos - 2024-11-19"
          }
         },
         "name": "2024-11-19"
        },
        {
         "data": [
          {
           "marker": {
            "size": 8
           },
           "mode": "lines+markers",
           "type": "scatter",
           "x": [
            "1 Mes",
            "3 Meses",
            "6 Meses",
            "1 Año",
            "2 Años",
            "3 Años",
            "5 Años",
            "7 Años",
            "10 Años",
            "20 Años",
            "30 Años"
           ],
           "y": [
            4.68,
            4.62,
            4.44,
            4.37,
            4.31,
            4.26,
            4.28,
            4.34,
            4.41,
            4.66,
            4.59
           ]
          }
         ],
         "layout": {
          "title": {
           "text": "Curva de Rendimientos - 2024-11-20"
          }
         },
         "name": "2024-11-20"
        },
        {
         "data": [
          {
           "marker": {
            "size": 8
           },
           "mode": "lines+markers",
           "type": "scatter",
           "x": [
            "1 Mes",
            "3 Meses",
            "6 Meses",
            "1 Año",
            "2 Años",
            "3 Años",
            "5 Años",
            "7 Años",
            "10 Años",
            "20 Años",
            "30 Años"
           ],
           "y": [
            4.72,
            4.63,
            4.45,
            4.39,
            4.34,
            4.3,
            4.3,
            4.36,
            4.43,
            4.68,
            4.61
           ]
          }
         ],
         "layout": {
          "title": {
           "text": "Curva de Rendimientos - 2024-11-21"
          }
         },
         "name": "2024-11-21"
        },
        {
         "data": [
          {
           "marker": {
            "size": 8
           },
           "mode": "lines+markers",
           "type": "scatter",
           "x": [
            "1 Mes",
            "3 Meses",
            "6 Meses",
            "1 Año",
            "2 Años",
            "3 Años",
            "5 Años",
            "7 Años",
            "10 Años",
            "20 Años",
            "30 Años"
           ],
           "y": [
            4.72,
            4.63,
            4.46,
            4.42,
            4.37,
            4.32,
            4.3,
            4.35,
            4.41,
            4.67,
            4.6
           ]
          }
         ],
         "layout": {
          "title": {
           "text": "Curva de Rendimientos - 2024-11-22"
          }
         },
         "name": "2024-11-22"
        },
        {
         "data": [
          {
           "marker": {
            "size": 8
           },
           "mode": "lines+markers",
           "type": "scatter",
           "x": [
            "1 Mes",
            "3 Meses",
            "6 Meses",
            "1 Año",
            "2 Años",
            "3 Años",
            "5 Años",
            "7 Años",
            "10 Años",
            "20 Años",
            "30 Años"
           ],
           "y": [
            4.74,
            4.62,
            4.46,
            4.37,
            4.21,
            4.21,
            4.17,
            4.21,
            4.27,
            4.53,
            4.45
           ]
          }
         ],
         "layout": {
          "title": {
           "text": "Curva de Rendimientos - 2024-11-25"
          }
         },
         "name": "2024-11-25"
        },
        {
         "data": [
          {
           "marker": {
            "size": 8
           },
           "mode": "lines+markers",
           "type": "scatter",
           "x": [
            "1 Mes",
            "3 Meses",
            "6 Meses",
            "1 Año",
            "2 Años",
            "3 Años",
            "5 Años",
            "7 Años",
            "10 Años",
            "20 Años",
            "30 Años"
           ],
           "y": [
            4.74,
            4.61,
            4.45,
            4.37,
            4.21,
            4.21,
            4.17,
            4.24,
            4.3,
            4.56,
            4.48
           ]
          }
         ],
         "layout": {
          "title": {
           "text": "Curva de Rendimientos - 2024-11-26"
          }
         },
         "name": "2024-11-26"
        },
        {
         "data": [
          {
           "marker": {
            "size": 8
           },
           "mode": "lines+markers",
           "type": "scatter",
           "x": [
            "1 Mes",
            "3 Meses",
            "6 Meses",
            "1 Año",
            "2 Años",
            "3 Años",
            "5 Años",
            "7 Años",
            "10 Años",
            "20 Años",
            "30 Años"
           ],
           "y": [
            4.76,
            4.6,
            4.43,
            4.34,
            4.19,
            4.17,
            4.11,
            4.17,
            4.25,
            4.52,
            4.44
           ]
          }
         ],
         "layout": {
          "title": {
           "text": "Curva de Rendimientos - 2024-11-27"
          }
         },
         "name": "2024-11-27"
        },
        {
         "data": [
          {
           "marker": {
            "size": 8
           },
           "mode": "lines+markers",
           "type": "scatter",
           "x": [
            "1 Mes",
            "3 Meses",
            "6 Meses",
            "1 Año",
            "2 Años",
            "3 Años",
            "5 Años",
            "7 Años",
            "10 Años",
            "20 Años",
            "30 Años"
           ],
           "y": [
            4.76,
            4.58,
            4.42,
            4.3,
            4.13,
            4.1,
            4.05,
            4.1,
            4.18,
            4.45,
            4.36
           ]
          }
         ],
         "layout": {
          "title": {
           "text": "Curva de Rendimientos - 2024-11-29"
          }
         },
         "name": "2024-11-29"
        },
        {
         "data": [
          {
           "marker": {
            "size": 8
           },
           "mode": "lines+markers",
           "type": "scatter",
           "x": [
            "1 Mes",
            "3 Meses",
            "6 Meses",
            "1 Año",
            "2 Años",
            "3 Años",
            "5 Años",
            "7 Años",
            "10 Años",
            "20 Años",
            "30 Años"
           ],
           "y": [
            4.75,
            4.51,
            4.43,
            4.3,
            4.17,
            4.11,
            4.08,
            4.13,
            4.19,
            4.46,
            4.36
           ]
          }
         ],
         "layout": {
          "title": {
           "text": "Curva de Rendimientos - 2024-12-02"
          }
         },
         "name": "2024-12-02"
        },
        {
         "data": [
          {
           "marker": {
            "size": 8
           },
           "mode": "lines+markers",
           "type": "scatter",
           "x": [
            "1 Mes",
            "3 Meses",
            "6 Meses",
            "1 Año",
            "2 Años",
            "3 Años",
            "5 Años",
            "7 Años",
            "10 Años",
            "20 Años",
            "30 Años"
           ],
           "y": [
            4.66,
            4.49,
            4.4,
            4.27,
            4.17,
            4.13,
            4.11,
            4.17,
            4.23,
            4.5,
            4.4
           ]
          }
         ],
         "layout": {
          "title": {
           "text": "Curva de Rendimientos - 2024-12-03"
          }
         },
         "name": "2024-12-03"
        },
        {
         "data": [
          {
           "marker": {
            "size": 8
           },
           "mode": "lines+markers",
           "type": "scatter",
           "x": [
            "1 Mes",
            "3 Meses",
            "6 Meses",
            "1 Año",
            "2 Años",
            "3 Años",
            "5 Años",
            "7 Años",
            "10 Años",
            "20 Años",
            "30 Años"
           ],
           "y": [
            4.65,
            4.47,
            4.38,
            4.23,
            4.13,
            4.09,
            4.07,
            4.13,
            4.19,
            4.45,
            4.35
           ]
          }
         ],
         "layout": {
          "title": {
           "text": "Curva de Rendimientos - 2024-12-04"
          }
         },
         "name": "2024-12-04"
        },
        {
         "data": [
          {
           "marker": {
            "size": 8
           },
           "mode": "lines+markers",
           "type": "scatter",
           "x": [
            "1 Mes",
            "3 Meses",
            "6 Meses",
            "1 Año",
            "2 Años",
            "3 Años",
            "5 Años",
            "7 Años",
            "10 Años",
            "20 Años",
            "30 Años"
           ],
           "y": [
            4.59,
            4.46,
            4.38,
            4.23,
            4.15,
            4.1,
            4.07,
            4.12,
            4.17,
            4.43,
            4.33
           ]
          }
         ],
         "layout": {
          "title": {
           "text": "Curva de Rendimientos - 2024-12-05"
          }
         },
         "name": "2024-12-05"
        },
        {
         "data": [
          {
           "marker": {
            "size": 8
           },
           "mode": "lines+markers",
           "type": "scatter",
           "x": [
            "1 Mes",
            "3 Meses",
            "6 Meses",
            "1 Año",
            "2 Años",
            "3 Años",
            "5 Años",
            "7 Años",
            "10 Años",
            "20 Años",
            "30 Años"
           ],
           "y": [
            4.57,
            4.42,
            4.34,
            4.19,
            4.1,
            4.05,
            4.03,
            4.09,
            4.15,
            4.42,
            4.34
           ]
          }
         ],
         "layout": {
          "title": {
           "text": "Curva de Rendimientos - 2024-12-06"
          }
         },
         "name": "2024-12-06"
        },
        {
         "data": [
          {
           "marker": {
            "size": 8
           },
           "mode": "lines+markers",
           "type": "scatter",
           "x": [
            "1 Mes",
            "3 Meses",
            "6 Meses",
            "1 Año",
            "2 Años",
            "3 Años",
            "5 Años",
            "7 Años",
            "10 Años",
            "20 Años",
            "30 Años"
           ],
           "y": [
            4.56,
            4.42,
            4.34,
            4.2,
            4.13,
            4.09,
            4.07,
            4.13,
            4.2,
            4.47,
            4.39
           ]
          }
         ],
         "layout": {
          "title": {
           "text": "Curva de Rendimientos - 2024-12-09"
          }
         },
         "name": "2024-12-09"
        },
        {
         "data": [
          {
           "marker": {
            "size": 8
           },
           "mode": "lines+markers",
           "type": "scatter",
           "x": [
            "1 Mes",
            "3 Meses",
            "6 Meses",
            "1 Año",
            "2 Años",
            "3 Años",
            "5 Años",
            "7 Años",
            "10 Años",
            "20 Años",
            "30 Años"
           ],
           "y": [
            4.53,
            4.41,
            4.35,
            4.22,
            4.15,
            4.08,
            4.09,
            4.15,
            4.22,
            4.49,
            4.41
           ]
          }
         ],
         "layout": {
          "title": {
           "text": "Curva de Rendimientos - 2024-12-10"
          }
         },
         "name": "2024-12-10"
        },
        {
         "data": [
          {
           "marker": {
            "size": 8
           },
           "mode": "lines+markers",
           "type": "scatter",
           "x": [
            "1 Mes",
            "3 Meses",
            "6 Meses",
            "1 Año",
            "2 Años",
            "3 Años",
            "5 Años",
            "7 Años",
            "10 Años",
            "20 Años",
            "30 Años"
           ],
           "y": [
            4.49,
            4.38,
            4.32,
            4.21,
            4.15,
            4.09,
            4.13,
            4.2,
            4.26,
            4.55,
            4.48
           ]
          }
         ],
         "layout": {
          "title": {
           "text": "Curva de Rendimientos - 2024-12-11"
          }
         },
         "name": "2024-12-11"
        },
        {
         "data": [
          {
           "marker": {
            "size": 8
           },
           "mode": "lines+markers",
           "type": "scatter",
           "x": [
            "1 Mes",
            "3 Meses",
            "6 Meses",
            "1 Año",
            "2 Años",
            "3 Años",
            "5 Años",
            "7 Años",
            "10 Años",
            "20 Años",
            "30 Años"
           ],
           "y": [
            4.43,
            4.35,
            4.31,
            4.22,
            4.18,
            4.14,
            4.18,
            4.25,
            4.32,
            4.62,
            4.55
           ]
          }
         ],
         "layout": {
          "title": {
           "text": "Curva de Rendimientos - 2024-12-12"
          }
         },
         "name": "2024-12-12"
        },
        {
         "data": [
          {
           "marker": {
            "size": 8
           },
           "mode": "lines+markers",
           "type": "scatter",
           "x": [
            "1 Mes",
            "3 Meses",
            "6 Meses",
            "1 Año",
            "2 Años",
            "3 Años",
            "5 Años",
            "7 Años",
            "10 Años",
            "20 Años",
            "30 Años"
           ],
           "y": [
            4.43,
            4.34,
            4.32,
            4.24,
            4.25,
            4.21,
            4.25,
            4.33,
            4.4,
            4.69,
            4.61
           ]
          }
         ],
         "layout": {
          "title": {
           "text": "Curva de Rendimientos - 2024-12-13"
          }
         },
         "name": "2024-12-13"
        },
        {
         "data": [
          {
           "marker": {
            "size": 8
           },
           "mode": "lines+markers",
           "type": "scatter",
           "x": [
            "1 Mes",
            "3 Meses",
            "6 Meses",
            "1 Año",
            "2 Años",
            "3 Años",
            "5 Años",
            "7 Años",
            "10 Años",
            "20 Años",
            "30 Años"
           ],
           "y": [
            4.43,
            4.37,
            4.3,
            4.24,
            4.25,
            4.22,
            4.25,
            4.32,
            4.39,
            4.68,
            4.6
           ]
          }
         ],
         "layout": {
          "title": {
           "text": "Curva de Rendimientos - 2024-12-16"
          }
         },
         "name": "2024-12-16"
        },
        {
         "data": [
          {
           "marker": {
            "size": 8
           },
           "mode": "lines+markers",
           "type": "scatter",
           "x": [
            "1 Mes",
            "3 Meses",
            "6 Meses",
            "1 Año",
            "2 Años",
            "3 Años",
            "5 Años",
            "7 Años",
            "10 Años",
            "20 Años",
            "30 Años"
           ],
           "y": [
            4.46,
            4.38,
            4.3,
            4.25,
            4.25,
            4.22,
            4.26,
            4.33,
            4.4,
            4.68,
            4.59
           ]
          }
         ],
         "layout": {
          "title": {
           "text": "Curva de Rendimientos - 2024-12-17"
          }
         },
         "name": "2024-12-17"
        },
        {
         "data": [
          {
           "marker": {
            "size": 8
           },
           "mode": "lines+markers",
           "type": "scatter",
           "x": [
            "1 Mes",
            "3 Meses",
            "6 Meses",
            "1 Año",
            "2 Años",
            "3 Años",
            "5 Años",
            "7 Años",
            "10 Años",
            "20 Años",
            "30 Años"
           ],
           "y": [
            4.44,
            4.36,
            4.3,
            4.3,
            4.35,
            4.35,
            4.4,
            4.45,
            4.5,
            4.74,
            4.65
           ]
          }
         ],
         "layout": {
          "title": {
           "text": "Curva de Rendimientos - 2024-12-18"
          }
         },
         "name": "2024-12-18"
        },
        {
         "data": [
          {
           "marker": {
            "size": 8
           },
           "mode": "lines+markers",
           "type": "scatter",
           "x": [
            "1 Mes",
            "3 Meses",
            "6 Meses",
            "1 Año",
            "2 Años",
            "3 Años",
            "5 Años",
            "7 Años",
            "10 Años",
            "20 Años",
            "30 Años"
           ],
           "y": [
            4.42,
            4.35,
            4.29,
            4.28,
            4.32,
            4.35,
            4.43,
            4.51,
            4.57,
            4.82,
            4.74
           ]
          }
         ],
         "layout": {
          "title": {
           "text": "Curva de Rendimientos - 2024-12-19"
          }
         },
         "name": "2024-12-19"
        },
        {
         "data": [
          {
           "marker": {
            "size": 8
           },
           "mode": "lines+markers",
           "type": "scatter",
           "x": [
            "1 Mes",
            "3 Meses",
            "6 Meses",
            "1 Año",
            "2 Años",
            "3 Años",
            "5 Años",
            "7 Años",
            "10 Años",
            "20 Años",
            "30 Años"
           ],
           "y": [
            4.43,
            4.34,
            4.29,
            4.27,
            4.3,
            4.32,
            4.37,
            4.45,
            4.52,
            4.79,
            4.72
           ]
          }
         ],
         "layout": {
          "title": {
           "text": "Curva de Rendimientos - 2024-12-20"
          }
         },
         "name": "2024-12-20"
        },
        {
         "data": [
          {
           "marker": {
            "size": 8
           },
           "mode": "lines+markers",
           "type": "scatter",
           "x": [
            "1 Mes",
            "3 Meses",
            "6 Meses",
            "1 Año",
            "2 Años",
            "3 Años",
            "5 Años",
            "7 Años",
            "10 Años",
            "20 Años",
            "30 Años"
           ],
           "y": [
            4.44,
            4.36,
            4.3,
            4.26,
            4.3,
            4.36,
            4.44,
            4.52,
            4.59,
            4.85,
            4.78
           ]
          }
         ],
         "layout": {
          "title": {
           "text": "Curva de Rendimientos - 2024-12-23"
          }
         },
         "name": "2024-12-23"
        },
        {
         "data": [
          {
           "marker": {
            "size": 8
           },
           "mode": "lines+markers",
           "type": "scatter",
           "x": [
            "1 Mes",
            "3 Meses",
            "6 Meses",
            "1 Año",
            "2 Años",
            "3 Años",
            "5 Años",
            "7 Años",
            "10 Años",
            "20 Años",
            "30 Años"
           ],
           "y": [
            4.44,
            4.4,
            4.3,
            4.24,
            4.29,
            4.36,
            4.43,
            4.52,
            4.59,
            4.84,
            4.76
           ]
          }
         ],
         "layout": {
          "title": {
           "text": "Curva de Rendimientos - 2024-12-24"
          }
         },
         "name": "2024-12-24"
        },
        {
         "data": [
          {
           "marker": {
            "size": 8
           },
           "mode": "lines+markers",
           "type": "scatter",
           "x": [
            "1 Mes",
            "3 Meses",
            "6 Meses",
            "1 Año",
            "2 Años",
            "3 Años",
            "5 Años",
            "7 Años",
            "10 Años",
            "20 Años",
            "30 Años"
           ],
           "y": [
            4.45,
            4.35,
            4.31,
            4.23,
            4.3,
            4.35,
            4.42,
            4.49,
            4.58,
            4.83,
            4.76
           ]
          }
         ],
         "layout": {
          "title": {
           "text": "Curva de Rendimientos - 2024-12-26"
          }
         },
         "name": "2024-12-26"
        },
        {
         "data": [
          {
           "marker": {
            "size": 8
           },
           "mode": "lines+markers",
           "type": "scatter",
           "x": [
            "1 Mes",
            "3 Meses",
            "6 Meses",
            "1 Año",
            "2 Años",
            "3 Años",
            "5 Años",
            "7 Años",
            "10 Años",
            "20 Años",
            "30 Años"
           ],
           "y": [
            4.44,
            4.31,
            4.29,
            4.2,
            4.31,
            4.36,
            4.45,
            4.53,
            4.62,
            4.89,
            4.82
           ]
          }
         ],
         "layout": {
          "title": {
           "text": "Curva de Rendimientos - 2024-12-27"
          }
         },
         "name": "2024-12-27"
        },
        {
         "data": [
          {
           "marker": {
            "size": 8
           },
           "mode": "lines+markers",
           "type": "scatter",
           "x": [
            "1 Mes",
            "3 Meses",
            "6 Meses",
            "1 Año",
            "2 Años",
            "3 Años",
            "5 Años",
            "7 Años",
            "10 Años",
            "20 Años",
            "30 Años"
           ],
           "y": [
            4.43,
            4.37,
            4.25,
            4.17,
            4.24,
            4.29,
            4.37,
            4.46,
            4.55,
            4.84,
            4.77
           ]
          }
         ],
         "layout": {
          "title": {
           "text": "Curva de Rendimientos - 2024-12-30"
          }
         },
         "name": "2024-12-30"
        },
        {
         "data": [
          {
           "marker": {
            "size": 8
           },
           "mode": "lines+markers",
           "type": "scatter",
           "x": [
            "1 Mes",
            "3 Meses",
            "6 Meses",
            "1 Año",
            "2 Años",
            "3 Años",
            "5 Años",
            "7 Años",
            "10 Años",
            "20 Años",
            "30 Años"
           ],
           "y": [
            4.4,
            4.37,
            4.24,
            4.16,
            4.25,
            4.27,
            4.38,
            4.48,
            4.58,
            4.86,
            4.78
           ]
          }
         ],
         "layout": {
          "title": {
           "text": "Curva de Rendimientos - 2024-12-31"
          }
         },
         "name": "2024-12-31"
        },
        {
         "data": [
          {
           "marker": {
            "size": 8
           },
           "mode": "lines+markers",
           "type": "scatter",
           "x": [
            "1 Mes",
            "3 Meses",
            "6 Meses",
            "1 Año",
            "2 Años",
            "3 Años",
            "5 Años",
            "7 Años",
            "10 Años",
            "20 Años",
            "30 Años"
           ],
           "y": [
            4.45,
            4.36,
            4.25,
            4.17,
            4.25,
            4.29,
            4.38,
            4.47,
            4.57,
            4.86,
            4.79
           ]
          }
         ],
         "layout": {
          "title": {
           "text": "Curva de Rendimientos - 2025-01-02"
          }
         },
         "name": "2025-01-02"
        },
        {
         "data": [
          {
           "marker": {
            "size": 8
           },
           "mode": "lines+markers",
           "type": "scatter",
           "x": [
            "1 Mes",
            "3 Meses",
            "6 Meses",
            "1 Año",
            "2 Años",
            "3 Años",
            "5 Años",
            "7 Años",
            "10 Años",
            "20 Años",
            "30 Años"
           ],
           "y": [
            4.44,
            4.34,
            4.25,
            4.18,
            4.28,
            4.32,
            4.41,
            4.51,
            4.6,
            4.88,
            4.82
           ]
          }
         ],
         "layout": {
          "title": {
           "text": "Curva de Rendimientos - 2025-01-03"
          }
         },
         "name": "2025-01-03"
        },
        {
         "data": [
          {
           "marker": {
            "size": 8
           },
           "mode": "lines+markers",
           "type": "scatter",
           "x": [
            "1 Mes",
            "3 Meses",
            "6 Meses",
            "1 Año",
            "2 Años",
            "3 Años",
            "5 Años",
            "7 Años",
            "10 Años",
            "20 Años",
            "30 Años"
           ],
           "y": [
            4.43,
            4.35,
            4.24,
            4.17,
            4.28,
            4.3,
            4.42,
            4.52,
            4.62,
            4.91,
            4.85
           ]
          }
         ],
         "layout": {
          "title": {
           "text": "Curva de Rendimientos - 2025-01-06"
          }
         },
         "name": "2025-01-06"
        },
        {
         "data": [
          {
           "marker": {
            "size": 8
           },
           "mode": "lines+markers",
           "type": "scatter",
           "x": [
            "1 Mes",
            "3 Meses",
            "6 Meses",
            "1 Año",
            "2 Años",
            "3 Años",
            "5 Años",
            "7 Años",
            "10 Años",
            "20 Años",
            "30 Años"
           ],
           "y": [
            4.42,
            4.35,
            4.24,
            4.19,
            4.3,
            4.33,
            4.46,
            4.57,
            4.67,
            4.97,
            4.91
           ]
          }
         ],
         "layout": {
          "title": {
           "text": "Curva de Rendimientos - 2025-01-07"
          }
         },
         "name": "2025-01-07"
        },
        {
         "data": [
          {
           "marker": {
            "size": 8
           },
           "mode": "lines+markers",
           "type": "scatter",
           "x": [
            "1 Mes",
            "3 Meses",
            "6 Meses",
            "1 Año",
            "2 Años",
            "3 Años",
            "5 Años",
            "7 Años",
            "10 Años",
            "20 Años",
            "30 Años"
           ],
           "y": [
            4.41,
            4.35,
            4.25,
            4.19,
            4.28,
            4.31,
            4.45,
            4.56,
            4.67,
            4.97,
            4.91
           ]
          }
         ],
         "layout": {
          "title": {
           "text": "Curva de Rendimientos - 2025-01-08"
          }
         },
         "name": "2025-01-08"
        },
        {
         "data": [
          {
           "marker": {
            "size": 8
           },
           "mode": "lines+markers",
           "type": "scatter",
           "x": [
            "1 Mes",
            "3 Meses",
            "6 Meses",
            "1 Año",
            "2 Años",
            "3 Años",
            "5 Años",
            "7 Años",
            "10 Años",
            "20 Años",
            "30 Años"
           ],
           "y": [
            4.44,
            4.35,
            4.24,
            4.16,
            4.27,
            4.31,
            4.46,
            4.57,
            4.68,
            4.98,
            4.92
           ]
          }
         ],
         "layout": {
          "title": {
           "text": "Curva de Rendimientos - 2025-01-09"
          }
         },
         "name": "2025-01-09"
        },
        {
         "data": [
          {
           "marker": {
            "size": 8
           },
           "mode": "lines+markers",
           "type": "scatter",
           "x": [
            "1 Mes",
            "3 Meses",
            "6 Meses",
            "1 Año",
            "2 Años",
            "3 Años",
            "5 Años",
            "7 Años",
            "10 Años",
            "20 Años",
            "30 Años"
           ],
           "y": [
            4.42,
            4.36,
            4.27,
            4.25,
            4.4,
            4.46,
            4.59,
            4.7,
            4.77,
            5.04,
            4.96
           ]
          }
         ],
         "layout": {
          "title": {
           "text": "Curva de Rendimientos - 2025-01-10"
          }
         },
         "name": "2025-01-10"
        },
        {
         "data": [
          {
           "marker": {
            "size": 8
           },
           "mode": "lines+markers",
           "type": "scatter",
           "x": [
            "1 Mes",
            "3 Meses",
            "6 Meses",
            "1 Año",
            "2 Años",
            "3 Años",
            "5 Años",
            "7 Años",
            "10 Años",
            "20 Años",
            "30 Años"
           ],
           "y": [
            4.42,
            4.37,
            4.3,
            4.24,
            4.4,
            4.49,
            4.61,
            4.71,
            4.79,
            5.05,
            4.97
           ]
          }
         ],
         "layout": {
          "title": {
           "text": "Curva de Rendimientos - 2025-01-13"
          }
         },
         "name": "2025-01-13"
        },
        {
         "data": [
          {
           "marker": {
            "size": 8
           },
           "mode": "lines+markers",
           "type": "scatter",
           "x": [
            "1 Mes",
            "3 Meses",
            "6 Meses",
            "1 Año",
            "2 Años",
            "3 Años",
            "5 Años",
            "7 Años",
            "10 Años",
            "20 Años",
            "30 Años"
           ],
           "y": [
            4.42,
            4.36,
            4.29,
            4.22,
            4.37,
            4.46,
            4.59,
            4.7,
            4.78,
            5.06,
            4.98
           ]
          }
         ],
         "layout": {
          "title": {
           "text": "Curva de Rendimientos - 2025-01-14"
          }
         },
         "name": "2025-01-14"
        },
        {
         "data": [
          {
           "marker": {
            "size": 8
           },
           "mode": "lines+markers",
           "type": "scatter",
           "x": [
            "1 Mes",
            "3 Meses",
            "6 Meses",
            "1 Año",
            "2 Años",
            "3 Años",
            "5 Años",
            "7 Años",
            "10 Años",
            "20 Años",
            "30 Años"
           ],
           "y": [
            4.4,
            4.35,
            4.26,
            4.19,
            4.27,
            4.34,
            4.45,
            4.55,
            4.66,
            4.95,
            4.88
           ]
          }
         ],
         "layout": {
          "title": {
           "text": "Curva de Rendimientos - 2025-01-15"
          }
         },
         "name": "2025-01-15"
        },
        {
         "data": [
          {
           "marker": {
            "size": 8
           },
           "mode": "lines+markers",
           "type": "scatter",
           "x": [
            "1 Mes",
            "3 Meses",
            "6 Meses",
            "1 Año",
            "2 Años",
            "3 Años",
            "5 Años",
            "7 Años",
            "10 Años",
            "20 Años",
            "30 Años"
           ],
           "y": [
            4.43,
            4.34,
            4.26,
            4.18,
            4.23,
            4.29,
            4.39,
            4.5,
            4.61,
            4.91,
            4.84
           ]
          }
         ],
         "layout": {
          "title": {
           "text": "Curva de Rendimientos - 2025-01-16"
          }
         },
         "name": "2025-01-16"
        },
        {
         "data": [
          {
           "marker": {
            "size": 8
           },
           "mode": "lines+markers",
           "type": "scatter",
           "x": [
            "1 Mes",
            "3 Meses",
            "6 Meses",
            "1 Año",
            "2 Años",
            "3 Años",
            "5 Años",
            "7 Años",
            "10 Años",
            "20 Años",
            "30 Años"
           ],
           "y": [
            4.43,
            4.34,
            4.28,
            4.21,
            4.27,
            4.33,
            4.42,
            4.52,
            4.61,
            4.91,
            4.84
           ]
          }
         ],
         "layout": {
          "title": {
           "text": "Curva de Rendimientos - 2025-01-17"
          }
         },
         "name": "2025-01-17"
        },
        {
         "data": [
          {
           "marker": {
            "size": 8
           },
           "mode": "lines+markers",
           "type": "scatter",
           "x": [
            "1 Mes",
            "3 Meses",
            "6 Meses",
            "1 Año",
            "2 Años",
            "3 Años",
            "5 Años",
            "7 Años",
            "10 Años",
            "20 Años",
            "30 Años"
           ],
           "y": [
            4.42,
            4.36,
            4.28,
            4.21,
            4.29,
            4.33,
            4.4,
            4.49,
            4.57,
            4.87,
            4.8
           ]
          }
         ],
         "layout": {
          "title": {
           "text": "Curva de Rendimientos - 2025-01-21"
          }
         },
         "name": "2025-01-21"
        },
        {
         "data": [
          {
           "marker": {
            "size": 8
           },
           "mode": "lines+markers",
           "type": "scatter",
           "x": [
            "1 Mes",
            "3 Meses",
            "6 Meses",
            "1 Año",
            "2 Años",
            "3 Años",
            "5 Años",
            "7 Años",
            "10 Años",
            "20 Años",
            "30 Años"
           ],
           "y": [
            4.42,
            4.36,
            4.28,
            4.2,
            4.29,
            4.34,
            4.43,
            4.51,
            4.6,
            4.89,
            4.82
           ]
          }
         ],
         "layout": {
          "title": {
           "text": "Curva de Rendimientos - 2025-01-22"
          }
         },
         "name": "2025-01-22"
        },
        {
         "data": [
          {
           "marker": {
            "size": 8
           },
           "mode": "lines+markers",
           "type": "scatter",
           "x": [
            "1 Mes",
            "3 Meses",
            "6 Meses",
            "1 Año",
            "2 Años",
            "3 Años",
            "5 Años",
            "7 Años",
            "10 Años",
            "20 Años",
            "30 Años"
           ],
           "y": [
            4.45,
            4.36,
            4.27,
            4.18,
            4.29,
            4.35,
            4.45,
            4.55,
            4.65,
            4.92,
            4.87
           ]
          }
         ],
         "layout": {
          "title": {
           "text": "Curva de Rendimientos - 2025-01-23"
          }
         },
         "name": "2025-01-23"
        },
        {
         "data": [
          {
           "marker": {
            "size": 8
           },
           "mode": "lines+markers",
           "type": "scatter",
           "x": [
            "1 Mes",
            "3 Meses",
            "6 Meses",
            "1 Año",
            "2 Años",
            "3 Años",
            "5 Años",
            "7 Años",
            "10 Años",
            "20 Años",
            "30 Años"
           ],
           "y": [
            4.45,
            4.35,
            4.25,
            4.17,
            4.27,
            4.33,
            4.43,
            4.53,
            4.63,
            4.91,
            4.85
           ]
          }
         ],
         "layout": {
          "title": {
           "text": "Curva de Rendimientos - 2025-01-24"
          }
         },
         "name": "2025-01-24"
        },
        {
         "data": [
          {
           "marker": {
            "size": 8
           },
           "mode": "lines+markers",
           "type": "scatter",
           "x": [
            "1 Mes",
            "3 Meses",
            "6 Meses",
            "1 Año",
            "2 Años",
            "3 Años",
            "5 Años",
            "7 Años",
            "10 Años",
            "20 Años",
            "30 Años"
           ],
           "y": [
            4.44,
            4.32,
            4.25,
            4.13,
            4.17,
            4.24,
            4.32,
            4.43,
            4.53,
            4.82,
            4.76
           ]
          }
         ],
         "layout": {
          "title": {
           "text": "Curva de Rendimientos - 2025-01-27"
          }
         },
         "name": "2025-01-27"
        },
        {
         "data": [
          {
           "marker": {
            "size": 8
           },
           "mode": "lines+markers",
           "type": "scatter",
           "x": [
            "1 Mes",
            "3 Meses",
            "6 Meses",
            "1 Año",
            "2 Años",
            "3 Años",
            "5 Años",
            "7 Años",
            "10 Años",
            "20 Años",
            "30 Años"
           ],
           "y": [
            4.44,
            4.31,
            4.26,
            4.14,
            4.19,
            4.25,
            4.33,
            4.43,
            4.55,
            4.84,
            4.78
           ]
          }
         ],
         "layout": {
          "title": {
           "text": "Curva de Rendimientos - 2025-01-28"
          }
         },
         "name": "2025-01-28"
        },
        {
         "data": [
          {
           "marker": {
            "size": 8
           },
           "mode": "lines+markers",
           "type": "scatter",
           "x": [
            "1 Mes",
            "3 Meses",
            "6 Meses",
            "1 Año",
            "2 Años",
            "3 Años",
            "5 Años",
            "7 Años",
            "10 Años",
            "20 Años",
            "30 Años"
           ],
           "y": [
            4.43,
            4.31,
            4.27,
            4.17,
            4.21,
            4.27,
            4.35,
            4.44,
            4.55,
            4.85,
            4.79
           ]
          }
         ],
         "layout": {
          "title": {
           "text": "Curva de Rendimientos - 2025-01-29"
          }
         },
         "name": "2025-01-29"
        },
        {
         "data": [
          {
           "marker": {
            "size": 8
           },
           "mode": "lines+markers",
           "type": "scatter",
           "x": [
            "1 Mes",
            "3 Meses",
            "6 Meses",
            "1 Año",
            "2 Años",
            "3 Años",
            "5 Años",
            "7 Años",
            "10 Años",
            "20 Años",
            "30 Años"
           ],
           "y": [
            4.37,
            4.3,
            4.27,
            4.16,
            4.18,
            4.24,
            4.31,
            4.41,
            4.52,
            4.81,
            4.76
           ]
          }
         ],
         "layout": {
          "title": {
           "text": "Curva de Rendimientos - 2025-01-30"
          }
         },
         "name": "2025-01-30"
        },
        {
         "data": [
          {
           "marker": {
            "size": 8
           },
           "mode": "lines+markers",
           "type": "scatter",
           "x": [
            "1 Mes",
            "3 Meses",
            "6 Meses",
            "1 Año",
            "2 Años",
            "3 Años",
            "5 Años",
            "7 Años",
            "10 Años",
            "20 Años",
            "30 Años"
           ],
           "y": [
            4.37,
            4.31,
            4.28,
            4.17,
            4.22,
            4.27,
            4.36,
            4.47,
            4.58,
            4.88,
            4.83
           ]
          }
         ],
         "layout": {
          "title": {
           "text": "Curva de Rendimientos - 2025-01-31"
          }
         },
         "name": "2025-01-31"
        },
        {
         "data": [
          {
           "marker": {
            "size": 8
           },
           "mode": "lines+markers",
           "type": "scatter",
           "x": [
            "1 Mes",
            "3 Meses",
            "6 Meses",
            "1 Año",
            "2 Años",
            "3 Años",
            "5 Años",
            "7 Años",
            "10 Años",
            "20 Años",
            "30 Años"
           ],
           "y": [
            4.37,
            4.34,
            4.28,
            4.2,
            4.26,
            4.28,
            4.35,
            4.45,
            4.54,
            4.82,
            4.77
           ]
          }
         ],
         "layout": {
          "title": {
           "text": "Curva de Rendimientos - 2025-02-03"
          }
         },
         "name": "2025-02-03"
        },
        {
         "data": [
          {
           "marker": {
            "size": 8
           },
           "mode": "lines+markers",
           "type": "scatter",
           "x": [
            "1 Mes",
            "3 Meses",
            "6 Meses",
            "1 Año",
            "2 Años",
            "3 Años",
            "5 Años",
            "7 Años",
            "10 Años",
            "20 Años",
            "30 Años"
           ],
           "y": [
            4.36,
            4.33,
            4.27,
            4.18,
            4.21,
            4.25,
            4.31,
            4.42,
            4.52,
            4.81,
            4.75
           ]
          }
         ],
         "layout": {
          "title": {
           "text": "Curva de Rendimientos - 2025-02-04"
          }
         },
         "name": "2025-02-04"
        },
        {
         "data": [
          {
           "marker": {
            "size": 8
           },
           "mode": "lines+markers",
           "type": "scatter",
           "x": [
            "1 Mes",
            "3 Meses",
            "6 Meses",
            "1 Año",
            "2 Años",
            "3 Años",
            "5 Años",
            "7 Años",
            "10 Años",
            "20 Años",
            "30 Años"
           ],
           "y": [
            4.35,
            4.33,
            4.27,
            4.17,
            4.17,
            4.19,
            4.24,
            4.33,
            4.43,
            4.69,
            4.64
           ]
          }
         ],
         "layout": {
          "title": {
           "text": "Curva de Rendimientos - 2025-02-05"
          }
         },
         "name": "2025-02-05"
        },
        {
         "data": [
          {
           "marker": {
            "size": 8
           },
           "mode": "lines+markers",
           "type": "scatter",
           "x": [
            "1 Mes",
            "3 Meses",
            "6 Meses",
            "1 Año",
            "2 Años",
            "3 Años",
            "5 Años",
            "7 Años",
            "10 Años",
            "20 Años",
            "30 Años"
           ],
           "y": [
            4.37,
            4.34,
            4.28,
            4.19,
            4.21,
            4.23,
            4.28,
            4.36,
            4.45,
            4.7,
            4.65
           ]
          }
         ],
         "layout": {
          "title": {
           "text": "Curva de Rendimientos - 2025-02-06"
          }
         },
         "name": "2025-02-06"
        },
        {
         "data": [
          {
           "marker": {
            "size": 8
           },
           "mode": "lines+markers",
           "type": "scatter",
           "x": [
            "1 Mes",
            "3 Meses",
            "6 Meses",
            "1 Año",
            "2 Años",
            "3 Años",
            "5 Años",
            "7 Años",
            "10 Años",
            "20 Años",
            "30 Años"
           ],
           "y": [
            4.37,
            4.35,
            4.3,
            4.25,
            4.29,
            4.31,
            4.34,
            4.42,
            4.49,
            4.75,
            4.69
           ]
          }
         ],
         "layout": {
          "title": {
           "text": "Curva de Rendimientos - 2025-02-07"
          }
         },
         "name": "2025-02-07"
        },
        {
         "data": [
          {
           "marker": {
            "size": 8
           },
           "mode": "lines+markers",
           "type": "scatter",
           "x": [
            "1 Mes",
            "3 Meses",
            "6 Meses",
            "1 Año",
            "2 Años",
            "3 Años",
            "5 Años",
            "7 Años",
            "10 Años",
            "20 Años",
            "30 Años"
           ],
           "y": [
            4.38,
            4.35,
            4.31,
            4.24,
            4.28,
            4.3,
            4.34,
            4.42,
            4.51,
            4.76,
            4.71
           ]
          }
         ],
         "layout": {
          "title": {
           "text": "Curva de Rendimientos - 2025-02-10"
          }
         },
         "name": "2025-02-10"
        },
        {
         "data": [
          {
           "marker": {
            "size": 8
           },
           "mode": "lines+markers",
           "type": "scatter",
           "x": [
            "1 Mes",
            "3 Meses",
            "6 Meses",
            "1 Año",
            "2 Años",
            "3 Años",
            "5 Años",
            "7 Años",
            "10 Años",
            "20 Años",
            "30 Años"
           ],
           "y": [
            4.38,
            4.35,
            4.31,
            4.25,
            4.29,
            4.28,
            4.37,
            4.45,
            4.54,
            4.8,
            4.75
           ]
          }
         ],
         "layout": {
          "title": {
           "text": "Curva de Rendimientos - 2025-02-11"
          }
         },
         "name": "2025-02-11"
        },
        {
         "data": [
          {
           "marker": {
            "size": 8
           },
           "mode": "lines+markers",
           "type": "scatter",
           "x": [
            "1 Mes",
            "3 Meses",
            "6 Meses",
            "1 Año",
            "2 Años",
            "3 Años",
            "5 Años",
            "7 Años",
            "10 Años",
            "20 Años",
            "30 Años"
           ],
           "y": [
            4.38,
            4.35,
            4.33,
            4.3,
            4.36,
            4.37,
            4.48,
            4.56,
            4.62,
            4.9,
            4.83
           ]
          }
         ],
         "layout": {
          "title": {
           "text": "Curva de Rendimientos - 2025-02-12"
          }
         },
         "name": "2025-02-12"
        },
        {
         "data": [
          {
           "marker": {
            "size": 8
           },
           "mode": "lines+markers",
           "type": "scatter",
           "x": [
            "1 Mes",
            "3 Meses",
            "6 Meses",
            "1 Año",
            "2 Años",
            "3 Años",
            "5 Años",
            "7 Años",
            "10 Años",
            "20 Años",
            "30 Años"
           ],
           "y": [
            4.37,
            4.34,
            4.33,
            4.27,
            4.31,
            4.31,
            4.39,
            4.46,
            4.52,
            4.79,
            4.72
           ]
          }
         ],
         "layout": {
          "title": {
           "text": "Curva de Rendimientos - 2025-02-13"
          }
         },
         "name": "2025-02-13"
        },
        {
         "data": [
          {
           "marker": {
            "size": 8
           },
           "mode": "lines+markers",
           "type": "scatter",
           "x": [
            "1 Mes",
            "3 Meses",
            "6 Meses",
            "1 Año",
            "2 Años",
            "3 Años",
            "5 Años",
            "7 Años",
            "10 Años",
            "20 Años",
            "30 Años"
           ],
           "y": [
            4.37,
            4.34,
            4.32,
            4.23,
            4.26,
            4.26,
            4.33,
            4.41,
            4.47,
            4.75,
            4.69
           ]
          }
         ],
         "layout": {
          "title": {
           "text": "Curva de Rendimientos - 2025-02-14"
          }
         },
         "name": "2025-02-14"
        },
        {
         "data": [
          {
           "marker": {
            "size": 8
           },
           "mode": "lines+markers",
           "type": "scatter",
           "x": [
            "1 Mes",
            "3 Meses",
            "6 Meses",
            "1 Año",
            "2 Años",
            "3 Años",
            "5 Años",
            "7 Años",
            "10 Años",
            "20 Años",
            "30 Años"
           ],
           "y": [
            4.38,
            4.34,
            4.34,
            4.24,
            4.29,
            4.33,
            4.4,
            4.48,
            4.55,
            4.83,
            4.77
           ]
          }
         ],
         "layout": {
          "title": {
           "text": "Curva de Rendimientos - 2025-02-18"
          }
         },
         "name": "2025-02-18"
        },
        {
         "data": [
          {
           "marker": {
            "size": 8
           },
           "mode": "lines+markers",
           "type": "scatter",
           "x": [
            "1 Mes",
            "3 Meses",
            "6 Meses",
            "1 Año",
            "2 Años",
            "3 Años",
            "5 Años",
            "7 Años",
            "10 Años",
            "20 Años",
            "30 Años"
           ],
           "y": [
            4.38,
            4.34,
            4.34,
            4.22,
            4.28,
            4.3,
            4.37,
            4.46,
            4.53,
            4.79,
            4.76
           ]
          }
         ],
         "layout": {
          "title": {
           "text": "Curva de Rendimientos - 2025-02-19"
          }
         },
         "name": "2025-02-19"
        },
        {
         "data": [
          {
           "marker": {
            "size": 8
           },
           "mode": "lines+markers",
           "type": "scatter",
           "x": [
            "1 Mes",
            "3 Meses",
            "6 Meses",
            "1 Año",
            "2 Años",
            "3 Años",
            "5 Años",
            "7 Años",
            "10 Años",
            "20 Años",
            "30 Años"
           ],
           "y": [
            4.37,
            4.33,
            4.33,
            4.2,
            4.28,
            4.27,
            4.34,
            4.43,
            4.5,
            4.77,
            4.74
           ]
          }
         ],
         "layout": {
          "title": {
           "text": "Curva de Rendimientos - 2025-02-20"
          }
         },
         "name": "2025-02-20"
        },
        {
         "data": [
          {
           "marker": {
            "size": 8
           },
           "mode": "lines+markers",
           "type": "scatter",
           "x": [
            "1 Mes",
            "3 Meses",
            "6 Meses",
            "1 Año",
            "2 Años",
            "3 Años",
            "5 Años",
            "7 Años",
            "10 Años",
            "20 Años",
            "30 Años"
           ],
           "y": [
            4.36,
            4.32,
            4.3,
            4.15,
            4.19,
            4.19,
            4.26,
            4.35,
            4.42,
            4.69,
            4.67
           ]
          }
         ],
         "layout": {
          "title": {
           "text": "Curva de Rendimientos - 2025-02-21"
          }
         },
         "name": "2025-02-21"
        },
        {
         "data": [
          {
           "marker": {
            "size": 8
           },
           "mode": "lines+markers",
           "type": "scatter",
           "x": [
            "1 Mes",
            "3 Meses",
            "6 Meses",
            "1 Año",
            "2 Años",
            "3 Años",
            "5 Años",
            "7 Años",
            "10 Años",
            "20 Años",
            "30 Años"
           ],
           "y": [
            4.36,
            4.31,
            4.3,
            4.15,
            4.13,
            4.17,
            4.23,
            4.32,
            4.4,
            4.69,
            4.66
           ]
          }
         ],
         "layout": {
          "title": {
           "text": "Curva de Rendimientos - 2025-02-24"
          }
         },
         "name": "2025-02-24"
        },
        {
         "data": [
          {
           "marker": {
            "size": 8
           },
           "mode": "lines+markers",
           "type": "scatter",
           "x": [
            "1 Mes",
            "3 Meses",
            "6 Meses",
            "1 Año",
            "2 Años",
            "3 Años",
            "5 Años",
            "7 Años",
            "10 Años",
            "20 Años",
            "30 Años"
           ],
           "y": [
            4.34,
            4.3,
            4.28,
            4.12,
            4.07,
            4.08,
            4.12,
            4.21,
            4.3,
            4.59,
            4.55
           ]
          }
         ],
         "layout": {
          "title": {
           "text": "Curva de Rendimientos - 2025-02-25"
          }
         },
         "name": "2025-02-25"
        },
        {
         "data": [
          {
           "marker": {
            "size": 8
           },
           "mode": "lines+markers",
           "type": "scatter",
           "x": [
            "1 Mes",
            "3 Meses",
            "6 Meses",
            "1 Año",
            "2 Años",
            "3 Años",
            "5 Años",
            "7 Años",
            "10 Años",
            "20 Años",
            "30 Años"
           ],
           "y": [
            4.35,
            4.31,
            4.28,
            4.12,
            4.05,
            4.04,
            4.06,
            4.16,
            4.25,
            4.55,
            4.51
           ]
          }
         ],
         "layout": {
          "title": {
           "text": "Curva de Rendimientos - 2025-02-26"
          }
         },
         "name": "2025-02-26"
        },
        {
         "data": [
          {
           "marker": {
            "size": 8
           },
           "mode": "lines+markers",
           "type": "scatter",
           "x": [
            "1 Mes",
            "3 Meses",
            "6 Meses",
            "1 Año",
            "2 Años",
            "3 Años",
            "5 Años",
            "7 Años",
            "10 Años",
            "20 Años",
            "30 Años"
           ],
           "y": [
            4.38,
            4.32,
            4.28,
            4.13,
            4.07,
            4.05,
            4.09,
            4.19,
            4.29,
            4.59,
            4.56
           ]
          }
         ],
         "layout": {
          "title": {
           "text": "Curva de Rendimientos - 2025-02-27"
          }
         },
         "name": "2025-02-27"
        },
        {
         "data": [
          {
           "marker": {
            "size": 8
           },
           "mode": "lines+markers",
           "type": "scatter",
           "x": [
            "1 Mes",
            "3 Meses",
            "6 Meses",
            "1 Año",
            "2 Años",
            "3 Años",
            "5 Años",
            "7 Años",
            "10 Años",
            "20 Años",
            "30 Años"
           ],
           "y": [
            4.38,
            4.32,
            4.25,
            4.08,
            3.99,
            3.99,
            4.03,
            4.14,
            4.24,
            4.55,
            4.51
           ]
          }
         ],
         "layout": {
          "title": {
           "text": "Curva de Rendimientos - 2025-02-28"
          }
         },
         "name": "2025-02-28"
        }
       ],
       "layout": {
        "hovermode": "x",
        "sliders": [
         {
          "currentvalue": {
           "prefix": "Fecha: "
          },
          "steps": [
           {
            "args": [
             [
              "2024-01-02"
             ],
             {
              "frame": {
               "duration": 500,
               "redraw": true
              },
              "mode": "immediate",
              "transition": {
               "duration": 300
              }
             }
            ],
            "label": "2024-01-02",
            "method": "animate"
           },
           {
            "args": [
             [
              "2024-01-03"
             ],
             {
              "frame": {
               "duration": 500,
               "redraw": true
              },
              "mode": "immediate",
              "transition": {
               "duration": 300
              }
             }
            ],
            "label": "2024-01-03",
            "method": "animate"
           },
           {
            "args": [
             [
              "2024-01-04"
             ],
             {
              "frame": {
               "duration": 500,
               "redraw": true
              },
              "mode": "immediate",
              "transition": {
               "duration": 300
              }
             }
            ],
            "label": "2024-01-04",
            "method": "animate"
           },
           {
            "args": [
             [
              "2024-01-05"
             ],
             {
              "frame": {
               "duration": 500,
               "redraw": true
              },
              "mode": "immediate",
              "transition": {
               "duration": 300
              }
             }
            ],
            "label": "2024-01-05",
            "method": "animate"
           },
           {
            "args": [
             [
              "2024-01-08"
             ],
             {
              "frame": {
               "duration": 500,
               "redraw": true
              },
              "mode": "immediate",
              "transition": {
               "duration": 300
              }
             }
            ],
            "label": "2024-01-08",
            "method": "animate"
           },
           {
            "args": [
             [
              "2024-01-09"
             ],
             {
              "frame": {
               "duration": 500,
               "redraw": true
              },
              "mode": "immediate",
              "transition": {
               "duration": 300
              }
             }
            ],
            "label": "2024-01-09",
            "method": "animate"
           },
           {
            "args": [
             [
              "2024-01-10"
             ],
             {
              "frame": {
               "duration": 500,
               "redraw": true
              },
              "mode": "immediate",
              "transition": {
               "duration": 300
              }
             }
            ],
            "label": "2024-01-10",
            "method": "animate"
           },
           {
            "args": [
             [
              "2024-01-11"
             ],
             {
              "frame": {
               "duration": 500,
               "redraw": true
              },
              "mode": "immediate",
              "transition": {
               "duration": 300
              }
             }
            ],
            "label": "2024-01-11",
            "method": "animate"
           },
           {
            "args": [
             [
              "2024-01-12"
             ],
             {
              "frame": {
               "duration": 500,
               "redraw": true
              },
              "mode": "immediate",
              "transition": {
               "duration": 300
              }
             }
            ],
            "label": "2024-01-12",
            "method": "animate"
           },
           {
            "args": [
             [
              "2024-01-16"
             ],
             {
              "frame": {
               "duration": 500,
               "redraw": true
              },
              "mode": "immediate",
              "transition": {
               "duration": 300
              }
             }
            ],
            "label": "2024-01-16",
            "method": "animate"
           },
           {
            "args": [
             [
              "2024-01-17"
             ],
             {
              "frame": {
               "duration": 500,
               "redraw": true
              },
              "mode": "immediate",
              "transition": {
               "duration": 300
              }
             }
            ],
            "label": "2024-01-17",
            "method": "animate"
           },
           {
            "args": [
             [
              "2024-01-18"
             ],
             {
              "frame": {
               "duration": 500,
               "redraw": true
              },
              "mode": "immediate",
              "transition": {
               "duration": 300
              }
             }
            ],
            "label": "2024-01-18",
            "method": "animate"
           },
           {
            "args": [
             [
              "2024-01-19"
             ],
             {
              "frame": {
               "duration": 500,
               "redraw": true
              },
              "mode": "immediate",
              "transition": {
               "duration": 300
              }
             }
            ],
            "label": "2024-01-19",
            "method": "animate"
           },
           {
            "args": [
             [
              "2024-01-22"
             ],
             {
              "frame": {
               "duration": 500,
               "redraw": true
              },
              "mode": "immediate",
              "transition": {
               "duration": 300
              }
             }
            ],
            "label": "2024-01-22",
            "method": "animate"
           },
           {
            "args": [
             [
              "2024-01-23"
             ],
             {
              "frame": {
               "duration": 500,
               "redraw": true
              },
              "mode": "immediate",
              "transition": {
               "duration": 300
              }
             }
            ],
            "label": "2024-01-23",
            "method": "animate"
           },
           {
            "args": [
             [
              "2024-01-24"
             ],
             {
              "frame": {
               "duration": 500,
               "redraw": true
              },
              "mode": "immediate",
              "transition": {
               "duration": 300
              }
             }
            ],
            "label": "2024-01-24",
            "method": "animate"
           },
           {
            "args": [
             [
              "2024-01-25"
             ],
             {
              "frame": {
               "duration": 500,
               "redraw": true
              },
              "mode": "immediate",
              "transition": {
               "duration": 300
              }
             }
            ],
            "label": "2024-01-25",
            "method": "animate"
           },
           {
            "args": [
             [
              "2024-01-26"
             ],
             {
              "frame": {
               "duration": 500,
               "redraw": true
              },
              "mode": "immediate",
              "transition": {
               "duration": 300
              }
             }
            ],
            "label": "2024-01-26",
            "method": "animate"
           },
           {
            "args": [
             [
              "2024-01-29"
             ],
             {
              "frame": {
               "duration": 500,
               "redraw": true
              },
              "mode": "immediate",
              "transition": {
               "duration": 300
              }
             }
            ],
            "label": "2024-01-29",
            "method": "animate"
           },
           {
            "args": [
             [
              "2024-01-30"
             ],
             {
              "frame": {
               "duration": 500,
               "redraw": true
              },
              "mode": "immediate",
              "transition": {
               "duration": 300
              }
             }
            ],
            "label": "2024-01-30",
            "method": "animate"
           },
           {
            "args": [
             [
              "2024-01-31"
             ],
             {
              "frame": {
               "duration": 500,
               "redraw": true
              },
              "mode": "immediate",
              "transition": {
               "duration": 300
              }
             }
            ],
            "label": "2024-01-31",
            "method": "animate"
           },
           {
            "args": [
             [
              "2024-02-01"
             ],
             {
              "frame": {
               "duration": 500,
               "redraw": true
              },
              "mode": "immediate",
              "transition": {
               "duration": 300
              }
             }
            ],
            "label": "2024-02-01",
            "method": "animate"
           },
           {
            "args": [
             [
              "2024-02-02"
             ],
             {
              "frame": {
               "duration": 500,
               "redraw": true
              },
              "mode": "immediate",
              "transition": {
               "duration": 300
              }
             }
            ],
            "label": "2024-02-02",
            "method": "animate"
           },
           {
            "args": [
             [
              "2024-02-05"
             ],
             {
              "frame": {
               "duration": 500,
               "redraw": true
              },
              "mode": "immediate",
              "transition": {
               "duration": 300
              }
             }
            ],
            "label": "2024-02-05",
            "method": "animate"
           },
           {
            "args": [
             [
              "2024-02-06"
             ],
             {
              "frame": {
               "duration": 500,
               "redraw": true
              },
              "mode": "immediate",
              "transition": {
               "duration": 300
              }
             }
            ],
            "label": "2024-02-06",
            "method": "animate"
           },
           {
            "args": [
             [
              "2024-02-07"
             ],
             {
              "frame": {
               "duration": 500,
               "redraw": true
              },
              "mode": "immediate",
              "transition": {
               "duration": 300
              }
             }
            ],
            "label": "2024-02-07",
            "method": "animate"
           },
           {
            "args": [
             [
              "2024-02-08"
             ],
             {
              "frame": {
               "duration": 500,
               "redraw": true
              },
              "mode": "immediate",
              "transition": {
               "duration": 300
              }
             }
            ],
            "label": "2024-02-08",
            "method": "animate"
           },
           {
            "args": [
             [
              "2024-02-09"
             ],
             {
              "frame": {
               "duration": 500,
               "redraw": true
              },
              "mode": "immediate",
              "transition": {
               "duration": 300
              }
             }
            ],
            "label": "2024-02-09",
            "method": "animate"
           },
           {
            "args": [
             [
              "2024-02-12"
             ],
             {
              "frame": {
               "duration": 500,
               "redraw": true
              },
              "mode": "immediate",
              "transition": {
               "duration": 300
              }
             }
            ],
            "label": "2024-02-12",
            "method": "animate"
           },
           {
            "args": [
             [
              "2024-02-13"
             ],
             {
              "frame": {
               "duration": 500,
               "redraw": true
              },
              "mode": "immediate",
              "transition": {
               "duration": 300
              }
             }
            ],
            "label": "2024-02-13",
            "method": "animate"
           },
           {
            "args": [
             [
              "2024-02-14"
             ],
             {
              "frame": {
               "duration": 500,
               "redraw": true
              },
              "mode": "immediate",
              "transition": {
               "duration": 300
              }
             }
            ],
            "label": "2024-02-14",
            "method": "animate"
           },
           {
            "args": [
             [
              "2024-02-15"
             ],
             {
              "frame": {
               "duration": 500,
               "redraw": true
              },
              "mode": "immediate",
              "transition": {
               "duration": 300
              }
             }
            ],
            "label": "2024-02-15",
            "method": "animate"
           },
           {
            "args": [
             [
              "2024-02-16"
             ],
             {
              "frame": {
               "duration": 500,
               "redraw": true
              },
              "mode": "immediate",
              "transition": {
               "duration": 300
              }
             }
            ],
            "label": "2024-02-16",
            "method": "animate"
           },
           {
            "args": [
             [
              "2024-02-20"
             ],
             {
              "frame": {
               "duration": 500,
               "redraw": true
              },
              "mode": "immediate",
              "transition": {
               "duration": 300
              }
             }
            ],
            "label": "2024-02-20",
            "method": "animate"
           },
           {
            "args": [
             [
              "2024-02-21"
             ],
             {
              "frame": {
               "duration": 500,
               "redraw": true
              },
              "mode": "immediate",
              "transition": {
               "duration": 300
              }
             }
            ],
            "label": "2024-02-21",
            "method": "animate"
           },
           {
            "args": [
             [
              "2024-02-22"
             ],
             {
              "frame": {
               "duration": 500,
               "redraw": true
              },
              "mode": "immediate",
              "transition": {
               "duration": 300
              }
             }
            ],
            "label": "2024-02-22",
            "method": "animate"
           },
           {
            "args": [
             [
              "2024-02-23"
             ],
             {
              "frame": {
               "duration": 500,
               "redraw": true
              },
              "mode": "immediate",
              "transition": {
               "duration": 300
              }
             }
            ],
            "label": "2024-02-23",
            "method": "animate"
           },
           {
            "args": [
             [
              "2024-02-26"
             ],
             {
              "frame": {
               "duration": 500,
               "redraw": true
              },
              "mode": "immediate",
              "transition": {
               "duration": 300
              }
             }
            ],
            "label": "2024-02-26",
            "method": "animate"
           },
           {
            "args": [
             [
              "2024-02-27"
             ],
             {
              "frame": {
               "duration": 500,
               "redraw": true
              },
              "mode": "immediate",
              "transition": {
               "duration": 300
              }
             }
            ],
            "label": "2024-02-27",
            "method": "animate"
           },
           {
            "args": [
             [
              "2024-02-28"
             ],
             {
              "frame": {
               "duration": 500,
               "redraw": true
              },
              "mode": "immediate",
              "transition": {
               "duration": 300
              }
             }
            ],
            "label": "2024-02-28",
            "method": "animate"
           },
           {
            "args": [
             [
              "2024-02-29"
             ],
             {
              "frame": {
               "duration": 500,
               "redraw": true
              },
              "mode": "immediate",
              "transition": {
               "duration": 300
              }
             }
            ],
            "label": "2024-02-29",
            "method": "animate"
           },
           {
            "args": [
             [
              "2024-03-01"
             ],
             {
              "frame": {
               "duration": 500,
               "redraw": true
              },
              "mode": "immediate",
              "transition": {
               "duration": 300
              }
             }
            ],
            "label": "2024-03-01",
            "method": "animate"
           },
           {
            "args": [
             [
              "2024-03-04"
             ],
             {
              "frame": {
               "duration": 500,
               "redraw": true
              },
              "mode": "immediate",
              "transition": {
               "duration": 300
              }
             }
            ],
            "label": "2024-03-04",
            "method": "animate"
           },
           {
            "args": [
             [
              "2024-03-05"
             ],
             {
              "frame": {
               "duration": 500,
               "redraw": true
              },
              "mode": "immediate",
              "transition": {
               "duration": 300
              }
             }
            ],
            "label": "2024-03-05",
            "method": "animate"
           },
           {
            "args": [
             [
              "2024-03-06"
             ],
             {
              "frame": {
               "duration": 500,
               "redraw": true
              },
              "mode": "immediate",
              "transition": {
               "duration": 300
              }
             }
            ],
            "label": "2024-03-06",
            "method": "animate"
           },
           {
            "args": [
             [
              "2024-03-07"
             ],
             {
              "frame": {
               "duration": 500,
               "redraw": true
              },
              "mode": "immediate",
              "transition": {
               "duration": 300
              }
             }
            ],
            "label": "2024-03-07",
            "method": "animate"
           },
           {
            "args": [
             [
              "2024-03-08"
             ],
             {
              "frame": {
               "duration": 500,
               "redraw": true
              },
              "mode": "immediate",
              "transition": {
               "duration": 300
              }
             }
            ],
            "label": "2024-03-08",
            "method": "animate"
           },
           {
            "args": [
             [
              "2024-03-11"
             ],
             {
              "frame": {
               "duration": 500,
               "redraw": true
              },
              "mode": "immediate",
              "transition": {
               "duration": 300
              }
             }
            ],
            "label": "2024-03-11",
            "method": "animate"
           },
           {
            "args": [
             [
              "2024-03-12"
             ],
             {
              "frame": {
               "duration": 500,
               "redraw": true
              },
              "mode": "immediate",
              "transition": {
               "duration": 300
              }
             }
            ],
            "label": "2024-03-12",
            "method": "animate"
           },
           {
            "args": [
             [
              "2024-03-13"
             ],
             {
              "frame": {
               "duration": 500,
               "redraw": true
              },
              "mode": "immediate",
              "transition": {
               "duration": 300
              }
             }
            ],
            "label": "2024-03-13",
            "method": "animate"
           },
           {
            "args": [
             [
              "2024-03-14"
             ],
             {
              "frame": {
               "duration": 500,
               "redraw": true
              },
              "mode": "immediate",
              "transition": {
               "duration": 300
              }
             }
            ],
            "label": "2024-03-14",
            "method": "animate"
           },
           {
            "args": [
             [
              "2024-03-15"
             ],
             {
              "frame": {
               "duration": 500,
               "redraw": true
              },
              "mode": "immediate",
              "transition": {
               "duration": 300
              }
             }
            ],
            "label": "2024-03-15",
            "method": "animate"
           },
           {
            "args": [
             [
              "2024-03-18"
             ],
             {
              "frame": {
               "duration": 500,
               "redraw": true
              },
              "mode": "immediate",
              "transition": {
               "duration": 300
              }
             }
            ],
            "label": "2024-03-18",
            "method": "animate"
           },
           {
            "args": [
             [
              "2024-03-19"
             ],
             {
              "frame": {
               "duration": 500,
               "redraw": true
              },
              "mode": "immediate",
              "transition": {
               "duration": 300
              }
             }
            ],
            "label": "2024-03-19",
            "method": "animate"
           },
           {
            "args": [
             [
              "2024-03-20"
             ],
             {
              "frame": {
               "duration": 500,
               "redraw": true
              },
              "mode": "immediate",
              "transition": {
               "duration": 300
              }
             }
            ],
            "label": "2024-03-20",
            "method": "animate"
           },
           {
            "args": [
             [
              "2024-03-21"
             ],
             {
              "frame": {
               "duration": 500,
               "redraw": true
              },
              "mode": "immediate",
              "transition": {
               "duration": 300
              }
             }
            ],
            "label": "2024-03-21",
            "method": "animate"
           },
           {
            "args": [
             [
              "2024-03-22"
             ],
             {
              "frame": {
               "duration": 500,
               "redraw": true
              },
              "mode": "immediate",
              "transition": {
               "duration": 300
              }
             }
            ],
            "label": "2024-03-22",
            "method": "animate"
           },
           {
            "args": [
             [
              "2024-03-25"
             ],
             {
              "frame": {
               "duration": 500,
               "redraw": true
              },
              "mode": "immediate",
              "transition": {
               "duration": 300
              }
             }
            ],
            "label": "2024-03-25",
            "method": "animate"
           },
           {
            "args": [
             [
              "2024-03-26"
             ],
             {
              "frame": {
               "duration": 500,
               "redraw": true
              },
              "mode": "immediate",
              "transition": {
               "duration": 300
              }
             }
            ],
            "label": "2024-03-26",
            "method": "animate"
           },
           {
            "args": [
             [
              "2024-03-27"
             ],
             {
              "frame": {
               "duration": 500,
               "redraw": true
              },
              "mode": "immediate",
              "transition": {
               "duration": 300
              }
             }
            ],
            "label": "2024-03-27",
            "method": "animate"
           },
           {
            "args": [
             [
              "2024-03-28"
             ],
             {
              "frame": {
               "duration": 500,
               "redraw": true
              },
              "mode": "immediate",
              "transition": {
               "duration": 300
              }
             }
            ],
            "label": "2024-03-28",
            "method": "animate"
           },
           {
            "args": [
             [
              "2024-04-01"
             ],
             {
              "frame": {
               "duration": 500,
               "redraw": true
              },
              "mode": "immediate",
              "transition": {
               "duration": 300
              }
             }
            ],
            "label": "2024-04-01",
            "method": "animate"
           },
           {
            "args": [
             [
              "2024-04-02"
             ],
             {
              "frame": {
               "duration": 500,
               "redraw": true
              },
              "mode": "immediate",
              "transition": {
               "duration": 300
              }
             }
            ],
            "label": "2024-04-02",
            "method": "animate"
           },
           {
            "args": [
             [
              "2024-04-03"
             ],
             {
              "frame": {
               "duration": 500,
               "redraw": true
              },
              "mode": "immediate",
              "transition": {
               "duration": 300
              }
             }
            ],
            "label": "2024-04-03",
            "method": "animate"
           },
           {
            "args": [
             [
              "2024-04-04"
             ],
             {
              "frame": {
               "duration": 500,
               "redraw": true
              },
              "mode": "immediate",
              "transition": {
               "duration": 300
              }
             }
            ],
            "label": "2024-04-04",
            "method": "animate"
           },
           {
            "args": [
             [
              "2024-04-05"
             ],
             {
              "frame": {
               "duration": 500,
               "redraw": true
              },
              "mode": "immediate",
              "transition": {
               "duration": 300
              }
             }
            ],
            "label": "2024-04-05",
            "method": "animate"
           },
           {
            "args": [
             [
              "2024-04-08"
             ],
             {
              "frame": {
               "duration": 500,
               "redraw": true
              },
              "mode": "immediate",
              "transition": {
               "duration": 300
              }
             }
            ],
            "label": "2024-04-08",
            "method": "animate"
           },
           {
            "args": [
             [
              "2024-04-09"
             ],
             {
              "frame": {
               "duration": 500,
               "redraw": true
              },
              "mode": "immediate",
              "transition": {
               "duration": 300
              }
             }
            ],
            "label": "2024-04-09",
            "method": "animate"
           },
           {
            "args": [
             [
              "2024-04-10"
             ],
             {
              "frame": {
               "duration": 500,
               "redraw": true
              },
              "mode": "immediate",
              "transition": {
               "duration": 300
              }
             }
            ],
            "label": "2024-04-10",
            "method": "animate"
           },
           {
            "args": [
             [
              "2024-04-11"
             ],
             {
              "frame": {
               "duration": 500,
               "redraw": true
              },
              "mode": "immediate",
              "transition": {
               "duration": 300
              }
             }
            ],
            "label": "2024-04-11",
            "method": "animate"
           },
           {
            "args": [
             [
              "2024-04-12"
             ],
             {
              "frame": {
               "duration": 500,
               "redraw": true
              },
              "mode": "immediate",
              "transition": {
               "duration": 300
              }
             }
            ],
            "label": "2024-04-12",
            "method": "animate"
           },
           {
            "args": [
             [
              "2024-04-15"
             ],
             {
              "frame": {
               "duration": 500,
               "redraw": true
              },
              "mode": "immediate",
              "transition": {
               "duration": 300
              }
             }
            ],
            "label": "2024-04-15",
            "method": "animate"
           },
           {
            "args": [
             [
              "2024-04-16"
             ],
             {
              "frame": {
               "duration": 500,
               "redraw": true
              },
              "mode": "immediate",
              "transition": {
               "duration": 300
              }
             }
            ],
            "label": "2024-04-16",
            "method": "animate"
           },
           {
            "args": [
             [
              "2024-04-17"
             ],
             {
              "frame": {
               "duration": 500,
               "redraw": true
              },
              "mode": "immediate",
              "transition": {
               "duration": 300
              }
             }
            ],
            "label": "2024-04-17",
            "method": "animate"
           },
           {
            "args": [
             [
              "2024-04-18"
             ],
             {
              "frame": {
               "duration": 500,
               "redraw": true
              },
              "mode": "immediate",
              "transition": {
               "duration": 300
              }
             }
            ],
            "label": "2024-04-18",
            "method": "animate"
           },
           {
            "args": [
             [
              "2024-04-19"
             ],
             {
              "frame": {
               "duration": 500,
               "redraw": true
              },
              "mode": "immediate",
              "transition": {
               "duration": 300
              }
             }
            ],
            "label": "2024-04-19",
            "method": "animate"
           },
           {
            "args": [
             [
              "2024-04-22"
             ],
             {
              "frame": {
               "duration": 500,
               "redraw": true
              },
              "mode": "immediate",
              "transition": {
               "duration": 300
              }
             }
            ],
            "label": "2024-04-22",
            "method": "animate"
           },
           {
            "args": [
             [
              "2024-04-23"
             ],
             {
              "frame": {
               "duration": 500,
               "redraw": true
              },
              "mode": "immediate",
              "transition": {
               "duration": 300
              }
             }
            ],
            "label": "2024-04-23",
            "method": "animate"
           },
           {
            "args": [
             [
              "2024-04-24"
             ],
             {
              "frame": {
               "duration": 500,
               "redraw": true
              },
              "mode": "immediate",
              "transition": {
               "duration": 300
              }
             }
            ],
            "label": "2024-04-24",
            "method": "animate"
           },
           {
            "args": [
             [
              "2024-04-25"
             ],
             {
              "frame": {
               "duration": 500,
               "redraw": true
              },
              "mode": "immediate",
              "transition": {
               "duration": 300
              }
             }
            ],
            "label": "2024-04-25",
            "method": "animate"
           },
           {
            "args": [
             [
              "2024-04-26"
             ],
             {
              "frame": {
               "duration": 500,
               "redraw": true
              },
              "mode": "immediate",
              "transition": {
               "duration": 300
              }
             }
            ],
            "label": "2024-04-26",
            "method": "animate"
           },
           {
            "args": [
             [
              "2024-04-29"
             ],
             {
              "frame": {
               "duration": 500,
               "redraw": true
              },
              "mode": "immediate",
              "transition": {
               "duration": 300
              }
             }
            ],
            "label": "2024-04-29",
            "method": "animate"
           },
           {
            "args": [
             [
              "2024-04-30"
             ],
             {
              "frame": {
               "duration": 500,
               "redraw": true
              },
              "mode": "immediate",
              "transition": {
               "duration": 300
              }
             }
            ],
            "label": "2024-04-30",
            "method": "animate"
           },
           {
            "args": [
             [
              "2024-05-01"
             ],
             {
              "frame": {
               "duration": 500,
               "redraw": true
              },
              "mode": "immediate",
              "transition": {
               "duration": 300
              }
             }
            ],
            "label": "2024-05-01",
            "method": "animate"
           },
           {
            "args": [
             [
              "2024-05-02"
             ],
             {
              "frame": {
               "duration": 500,
               "redraw": true
              },
              "mode": "immediate",
              "transition": {
               "duration": 300
              }
             }
            ],
            "label": "2024-05-02",
            "method": "animate"
           },
           {
            "args": [
             [
              "2024-05-03"
             ],
             {
              "frame": {
               "duration": 500,
               "redraw": true
              },
              "mode": "immediate",
              "transition": {
               "duration": 300
              }
             }
            ],
            "label": "2024-05-03",
            "method": "animate"
           },
           {
            "args": [
             [
              "2024-05-06"
             ],
             {
              "frame": {
               "duration": 500,
               "redraw": true
              },
              "mode": "immediate",
              "transition": {
               "duration": 300
              }
             }
            ],
            "label": "2024-05-06",
            "method": "animate"
           },
           {
            "args": [
             [
              "2024-05-07"
             ],
             {
              "frame": {
               "duration": 500,
               "redraw": true
              },
              "mode": "immediate",
              "transition": {
               "duration": 300
              }
             }
            ],
            "label": "2024-05-07",
            "method": "animate"
           },
           {
            "args": [
             [
              "2024-05-08"
             ],
             {
              "frame": {
               "duration": 500,
               "redraw": true
              },
              "mode": "immediate",
              "transition": {
               "duration": 300
              }
             }
            ],
            "label": "2024-05-08",
            "method": "animate"
           },
           {
            "args": [
             [
              "2024-05-09"
             ],
             {
              "frame": {
               "duration": 500,
               "redraw": true
              },
              "mode": "immediate",
              "transition": {
               "duration": 300
              }
             }
            ],
            "label": "2024-05-09",
            "method": "animate"
           },
           {
            "args": [
             [
              "2024-05-10"
             ],
             {
              "frame": {
               "duration": 500,
               "redraw": true
              },
              "mode": "immediate",
              "transition": {
               "duration": 300
              }
             }
            ],
            "label": "2024-05-10",
            "method": "animate"
           },
           {
            "args": [
             [
              "2024-05-13"
             ],
             {
              "frame": {
               "duration": 500,
               "redraw": true
              },
              "mode": "immediate",
              "transition": {
               "duration": 300
              }
             }
            ],
            "label": "2024-05-13",
            "method": "animate"
           },
           {
            "args": [
             [
              "2024-05-14"
             ],
             {
              "frame": {
               "duration": 500,
               "redraw": true
              },
              "mode": "immediate",
              "transition": {
               "duration": 300
              }
             }
            ],
            "label": "2024-05-14",
            "method": "animate"
           },
           {
            "args": [
             [
              "2024-05-15"
             ],
             {
              "frame": {
               "duration": 500,
               "redraw": true
              },
              "mode": "immediate",
              "transition": {
               "duration": 300
              }
             }
            ],
            "label": "2024-05-15",
            "method": "animate"
           },
           {
            "args": [
             [
              "2024-05-16"
             ],
             {
              "frame": {
               "duration": 500,
               "redraw": true
              },
              "mode": "immediate",
              "transition": {
               "duration": 300
              }
             }
            ],
            "label": "2024-05-16",
            "method": "animate"
           },
           {
            "args": [
             [
              "2024-05-17"
             ],
             {
              "frame": {
               "duration": 500,
               "redraw": true
              },
              "mode": "immediate",
              "transition": {
               "duration": 300
              }
             }
            ],
            "label": "2024-05-17",
            "method": "animate"
           },
           {
            "args": [
             [
              "2024-05-20"
             ],
             {
              "frame": {
               "duration": 500,
               "redraw": true
              },
              "mode": "immediate",
              "transition": {
               "duration": 300
              }
             }
            ],
            "label": "2024-05-20",
            "method": "animate"
           },
           {
            "args": [
             [
              "2024-05-21"
             ],
             {
              "frame": {
               "duration": 500,
               "redraw": true
              },
              "mode": "immediate",
              "transition": {
               "duration": 300
              }
             }
            ],
            "label": "2024-05-21",
            "method": "animate"
           },
           {
            "args": [
             [
              "2024-05-22"
             ],
             {
              "frame": {
               "duration": 500,
               "redraw": true
              },
              "mode": "immediate",
              "transition": {
               "duration": 300
              }
             }
            ],
            "label": "2024-05-22",
            "method": "animate"
           },
           {
            "args": [
             [
              "2024-05-23"
             ],
             {
              "frame": {
               "duration": 500,
               "redraw": true
              },
              "mode": "immediate",
              "transition": {
               "duration": 300
              }
             }
            ],
            "label": "2024-05-23",
            "method": "animate"
           },
           {
            "args": [
             [
              "2024-05-24"
             ],
             {
              "frame": {
               "duration": 500,
               "redraw": true
              },
              "mode": "immediate",
              "transition": {
               "duration": 300
              }
             }
            ],
            "label": "2024-05-24",
            "method": "animate"
           },
           {
            "args": [
             [
              "2024-05-28"
             ],
             {
              "frame": {
               "duration": 500,
               "redraw": true
              },
              "mode": "immediate",
              "transition": {
               "duration": 300
              }
             }
            ],
            "label": "2024-05-28",
            "method": "animate"
           },
           {
            "args": [
             [
              "2024-05-29"
             ],
             {
              "frame": {
               "duration": 500,
               "redraw": true
              },
              "mode": "immediate",
              "transition": {
               "duration": 300
              }
             }
            ],
            "label": "2024-05-29",
            "method": "animate"
           },
           {
            "args": [
             [
              "2024-05-30"
             ],
             {
              "frame": {
               "duration": 500,
               "redraw": true
              },
              "mode": "immediate",
              "transition": {
               "duration": 300
              }
             }
            ],
            "label": "2024-05-30",
            "method": "animate"
           },
           {
            "args": [
             [
              "2024-05-31"
             ],
             {
              "frame": {
               "duration": 500,
               "redraw": true
              },
              "mode": "immediate",
              "transition": {
               "duration": 300
              }
             }
            ],
            "label": "2024-05-31",
            "method": "animate"
           },
           {
            "args": [
             [
              "2024-06-03"
             ],
             {
              "frame": {
               "duration": 500,
               "redraw": true
              },
              "mode": "immediate",
              "transition": {
               "duration": 300
              }
             }
            ],
            "label": "2024-06-03",
            "method": "animate"
           },
           {
            "args": [
             [
              "2024-06-04"
             ],
             {
              "frame": {
               "duration": 500,
               "redraw": true
              },
              "mode": "immediate",
              "transition": {
               "duration": 300
              }
             }
            ],
            "label": "2024-06-04",
            "method": "animate"
           },
           {
            "args": [
             [
              "2024-06-05"
             ],
             {
              "frame": {
               "duration": 500,
               "redraw": true
              },
              "mode": "immediate",
              "transition": {
               "duration": 300
              }
             }
            ],
            "label": "2024-06-05",
            "method": "animate"
           },
           {
            "args": [
             [
              "2024-06-06"
             ],
             {
              "frame": {
               "duration": 500,
               "redraw": true
              },
              "mode": "immediate",
              "transition": {
               "duration": 300
              }
             }
            ],
            "label": "2024-06-06",
            "method": "animate"
           },
           {
            "args": [
             [
              "2024-06-07"
             ],
             {
              "frame": {
               "duration": 500,
               "redraw": true
              },
              "mode": "immediate",
              "transition": {
               "duration": 300
              }
             }
            ],
            "label": "2024-06-07",
            "method": "animate"
           },
           {
            "args": [
             [
              "2024-06-10"
             ],
             {
              "frame": {
               "duration": 500,
               "redraw": true
              },
              "mode": "immediate",
              "transition": {
               "duration": 300
              }
             }
            ],
            "label": "2024-06-10",
            "method": "animate"
           },
           {
            "args": [
             [
              "2024-06-11"
             ],
             {
              "frame": {
               "duration": 500,
               "redraw": true
              },
              "mode": "immediate",
              "transition": {
               "duration": 300
              }
             }
            ],
            "label": "2024-06-11",
            "method": "animate"
           },
           {
            "args": [
             [
              "2024-06-12"
             ],
             {
              "frame": {
               "duration": 500,
               "redraw": true
              },
              "mode": "immediate",
              "transition": {
               "duration": 300
              }
             }
            ],
            "label": "2024-06-12",
            "method": "animate"
           },
           {
            "args": [
             [
              "2024-06-13"
             ],
             {
              "frame": {
               "duration": 500,
               "redraw": true
              },
              "mode": "immediate",
              "transition": {
               "duration": 300
              }
             }
            ],
            "label": "2024-06-13",
            "method": "animate"
           },
           {
            "args": [
             [
              "2024-06-14"
             ],
             {
              "frame": {
               "duration": 500,
               "redraw": true
              },
              "mode": "immediate",
              "transition": {
               "duration": 300
              }
             }
            ],
            "label": "2024-06-14",
            "method": "animate"
           },
           {
            "args": [
             [
              "2024-06-17"
             ],
             {
              "frame": {
               "duration": 500,
               "redraw": true
              },
              "mode": "immediate",
              "transition": {
               "duration": 300
              }
             }
            ],
            "label": "2024-06-17",
            "method": "animate"
           },
           {
            "args": [
             [
              "2024-06-18"
             ],
             {
              "frame": {
               "duration": 500,
               "redraw": true
              },
              "mode": "immediate",
              "transition": {
               "duration": 300
              }
             }
            ],
            "label": "2024-06-18",
            "method": "animate"
           },
           {
            "args": [
             [
              "2024-06-20"
             ],
             {
              "frame": {
               "duration": 500,
               "redraw": true
              },
              "mode": "immediate",
              "transition": {
               "duration": 300
              }
             }
            ],
            "label": "2024-06-20",
            "method": "animate"
           },
           {
            "args": [
             [
              "2024-06-21"
             ],
             {
              "frame": {
               "duration": 500,
               "redraw": true
              },
              "mode": "immediate",
              "transition": {
               "duration": 300
              }
             }
            ],
            "label": "2024-06-21",
            "method": "animate"
           },
           {
            "args": [
             [
              "2024-06-24"
             ],
             {
              "frame": {
               "duration": 500,
               "redraw": true
              },
              "mode": "immediate",
              "transition": {
               "duration": 300
              }
             }
            ],
            "label": "2024-06-24",
            "method": "animate"
           },
           {
            "args": [
             [
              "2024-06-25"
             ],
             {
              "frame": {
               "duration": 500,
               "redraw": true
              },
              "mode": "immediate",
              "transition": {
               "duration": 300
              }
             }
            ],
            "label": "2024-06-25",
            "method": "animate"
           },
           {
            "args": [
             [
              "2024-06-26"
             ],
             {
              "frame": {
               "duration": 500,
               "redraw": true
              },
              "mode": "immediate",
              "transition": {
               "duration": 300
              }
             }
            ],
            "label": "2024-06-26",
            "method": "animate"
           },
           {
            "args": [
             [
              "2024-06-27"
             ],
             {
              "frame": {
               "duration": 500,
               "redraw": true
              },
              "mode": "immediate",
              "transition": {
               "duration": 300
              }
             }
            ],
            "label": "2024-06-27",
            "method": "animate"
           },
           {
            "args": [
             [
              "2024-06-28"
             ],
             {
              "frame": {
               "duration": 500,
               "redraw": true
              },
              "mode": "immediate",
              "transition": {
               "duration": 300
              }
             }
            ],
            "label": "2024-06-28",
            "method": "animate"
           },
           {
            "args": [
             [
              "2024-07-01"
             ],
             {
              "frame": {
               "duration": 500,
               "redraw": true
              },
              "mode": "immediate",
              "transition": {
               "duration": 300
              }
             }
            ],
            "label": "2024-07-01",
            "method": "animate"
           },
           {
            "args": [
             [
              "2024-07-02"
             ],
             {
              "frame": {
               "duration": 500,
               "redraw": true
              },
              "mode": "immediate",
              "transition": {
               "duration": 300
              }
             }
            ],
            "label": "2024-07-02",
            "method": "animate"
           },
           {
            "args": [
             [
              "2024-07-03"
             ],
             {
              "frame": {
               "duration": 500,
               "redraw": true
              },
              "mode": "immediate",
              "transition": {
               "duration": 300
              }
             }
            ],
            "label": "2024-07-03",
            "method": "animate"
           },
           {
            "args": [
             [
              "2024-07-05"
             ],
             {
              "frame": {
               "duration": 500,
               "redraw": true
              },
              "mode": "immediate",
              "transition": {
               "duration": 300
              }
             }
            ],
            "label": "2024-07-05",
            "method": "animate"
           },
           {
            "args": [
             [
              "2024-07-08"
             ],
             {
              "frame": {
               "duration": 500,
               "redraw": true
              },
              "mode": "immediate",
              "transition": {
               "duration": 300
              }
             }
            ],
            "label": "2024-07-08",
            "method": "animate"
           },
           {
            "args": [
             [
              "2024-07-09"
             ],
             {
              "frame": {
               "duration": 500,
               "redraw": true
              },
              "mode": "immediate",
              "transition": {
               "duration": 300
              }
             }
            ],
            "label": "2024-07-09",
            "method": "animate"
           },
           {
            "args": [
             [
              "2024-07-10"
             ],
             {
              "frame": {
               "duration": 500,
               "redraw": true
              },
              "mode": "immediate",
              "transition": {
               "duration": 300
              }
             }
            ],
            "label": "2024-07-10",
            "method": "animate"
           },
           {
            "args": [
             [
              "2024-07-11"
             ],
             {
              "frame": {
               "duration": 500,
               "redraw": true
              },
              "mode": "immediate",
              "transition": {
               "duration": 300
              }
             }
            ],
            "label": "2024-07-11",
            "method": "animate"
           },
           {
            "args": [
             [
              "2024-07-12"
             ],
             {
              "frame": {
               "duration": 500,
               "redraw": true
              },
              "mode": "immediate",
              "transition": {
               "duration": 300
              }
             }
            ],
            "label": "2024-07-12",
            "method": "animate"
           },
           {
            "args": [
             [
              "2024-07-15"
             ],
             {
              "frame": {
               "duration": 500,
               "redraw": true
              },
              "mode": "immediate",
              "transition": {
               "duration": 300
              }
             }
            ],
            "label": "2024-07-15",
            "method": "animate"
           },
           {
            "args": [
             [
              "2024-07-16"
             ],
             {
              "frame": {
               "duration": 500,
               "redraw": true
              },
              "mode": "immediate",
              "transition": {
               "duration": 300
              }
             }
            ],
            "label": "2024-07-16",
            "method": "animate"
           },
           {
            "args": [
             [
              "2024-07-17"
             ],
             {
              "frame": {
               "duration": 500,
               "redraw": true
              },
              "mode": "immediate",
              "transition": {
               "duration": 300
              }
             }
            ],
            "label": "2024-07-17",
            "method": "animate"
           },
           {
            "args": [
             [
              "2024-07-18"
             ],
             {
              "frame": {
               "duration": 500,
               "redraw": true
              },
              "mode": "immediate",
              "transition": {
               "duration": 300
              }
             }
            ],
            "label": "2024-07-18",
            "method": "animate"
           },
           {
            "args": [
             [
              "2024-07-19"
             ],
             {
              "frame": {
               "duration": 500,
               "redraw": true
              },
              "mode": "immediate",
              "transition": {
               "duration": 300
              }
             }
            ],
            "label": "2024-07-19",
            "method": "animate"
           },
           {
            "args": [
             [
              "2024-07-22"
             ],
             {
              "frame": {
               "duration": 500,
               "redraw": true
              },
              "mode": "immediate",
              "transition": {
               "duration": 300
              }
             }
            ],
            "label": "2024-07-22",
            "method": "animate"
           },
           {
            "args": [
             [
              "2024-07-23"
             ],
             {
              "frame": {
               "duration": 500,
               "redraw": true
              },
              "mode": "immediate",
              "transition": {
               "duration": 300
              }
             }
            ],
            "label": "2024-07-23",
            "method": "animate"
           },
           {
            "args": [
             [
              "2024-07-24"
             ],
             {
              "frame": {
               "duration": 500,
               "redraw": true
              },
              "mode": "immediate",
              "transition": {
               "duration": 300
              }
             }
            ],
            "label": "2024-07-24",
            "method": "animate"
           },
           {
            "args": [
             [
              "2024-07-25"
             ],
             {
              "frame": {
               "duration": 500,
               "redraw": true
              },
              "mode": "immediate",
              "transition": {
               "duration": 300
              }
             }
            ],
            "label": "2024-07-25",
            "method": "animate"
           },
           {
            "args": [
             [
              "2024-07-26"
             ],
             {
              "frame": {
               "duration": 500,
               "redraw": true
              },
              "mode": "immediate",
              "transition": {
               "duration": 300
              }
             }
            ],
            "label": "2024-07-26",
            "method": "animate"
           },
           {
            "args": [
             [
              "2024-07-29"
             ],
             {
              "frame": {
               "duration": 500,
               "redraw": true
              },
              "mode": "immediate",
              "transition": {
               "duration": 300
              }
             }
            ],
            "label": "2024-07-29",
            "method": "animate"
           },
           {
            "args": [
             [
              "2024-07-30"
             ],
             {
              "frame": {
               "duration": 500,
               "redraw": true
              },
              "mode": "immediate",
              "transition": {
               "duration": 300
              }
             }
            ],
            "label": "2024-07-30",
            "method": "animate"
           },
           {
            "args": [
             [
              "2024-07-31"
             ],
             {
              "frame": {
               "duration": 500,
               "redraw": true
              },
              "mode": "immediate",
              "transition": {
               "duration": 300
              }
             }
            ],
            "label": "2024-07-31",
            "method": "animate"
           },
           {
            "args": [
             [
              "2024-08-01"
             ],
             {
              "frame": {
               "duration": 500,
               "redraw": true
              },
              "mode": "immediate",
              "transition": {
               "duration": 300
              }
             }
            ],
            "label": "2024-08-01",
            "method": "animate"
           },
           {
            "args": [
             [
              "2024-08-02"
             ],
             {
              "frame": {
               "duration": 500,
               "redraw": true
              },
              "mode": "immediate",
              "transition": {
               "duration": 300
              }
             }
            ],
            "label": "2024-08-02",
            "method": "animate"
           },
           {
            "args": [
             [
              "2024-08-05"
             ],
             {
              "frame": {
               "duration": 500,
               "redraw": true
              },
              "mode": "immediate",
              "transition": {
               "duration": 300
              }
             }
            ],
            "label": "2024-08-05",
            "method": "animate"
           },
           {
            "args": [
             [
              "2024-08-06"
             ],
             {
              "frame": {
               "duration": 500,
               "redraw": true
              },
              "mode": "immediate",
              "transition": {
               "duration": 300
              }
             }
            ],
            "label": "2024-08-06",
            "method": "animate"
           },
           {
            "args": [
             [
              "2024-08-07"
             ],
             {
              "frame": {
               "duration": 500,
               "redraw": true
              },
              "mode": "immediate",
              "transition": {
               "duration": 300
              }
             }
            ],
            "label": "2024-08-07",
            "method": "animate"
           },
           {
            "args": [
             [
              "2024-08-08"
             ],
             {
              "frame": {
               "duration": 500,
               "redraw": true
              },
              "mode": "immediate",
              "transition": {
               "duration": 300
              }
             }
            ],
            "label": "2024-08-08",
            "method": "animate"
           },
           {
            "args": [
             [
              "2024-08-09"
             ],
             {
              "frame": {
               "duration": 500,
               "redraw": true
              },
              "mode": "immediate",
              "transition": {
               "duration": 300
              }
             }
            ],
            "label": "2024-08-09",
            "method": "animate"
           },
           {
            "args": [
             [
              "2024-08-12"
             ],
             {
              "frame": {
               "duration": 500,
               "redraw": true
              },
              "mode": "immediate",
              "transition": {
               "duration": 300
              }
             }
            ],
            "label": "2024-08-12",
            "method": "animate"
           },
           {
            "args": [
             [
              "2024-08-13"
             ],
             {
              "frame": {
               "duration": 500,
               "redraw": true
              },
              "mode": "immediate",
              "transition": {
               "duration": 300
              }
             }
            ],
            "label": "2024-08-13",
            "method": "animate"
           },
           {
            "args": [
             [
              "2024-08-14"
             ],
             {
              "frame": {
               "duration": 500,
               "redraw": true
              },
              "mode": "immediate",
              "transition": {
               "duration": 300
              }
             }
            ],
            "label": "2024-08-14",
            "method": "animate"
           },
           {
            "args": [
             [
              "2024-08-15"
             ],
             {
              "frame": {
               "duration": 500,
               "redraw": true
              },
              "mode": "immediate",
              "transition": {
               "duration": 300
              }
             }
            ],
            "label": "2024-08-15",
            "method": "animate"
           },
           {
            "args": [
             [
              "2024-08-16"
             ],
             {
              "frame": {
               "duration": 500,
               "redraw": true
              },
              "mode": "immediate",
              "transition": {
               "duration": 300
              }
             }
            ],
            "label": "2024-08-16",
            "method": "animate"
           },
           {
            "args": [
             [
              "2024-08-19"
             ],
             {
              "frame": {
               "duration": 500,
               "redraw": true
              },
              "mode": "immediate",
              "transition": {
               "duration": 300
              }
             }
            ],
            "label": "2024-08-19",
            "method": "animate"
           },
           {
            "args": [
             [
              "2024-08-20"
             ],
             {
              "frame": {
               "duration": 500,
               "redraw": true
              },
              "mode": "immediate",
              "transition": {
               "duration": 300
              }
             }
            ],
            "label": "2024-08-20",
            "method": "animate"
           },
           {
            "args": [
             [
              "2024-08-21"
             ],
             {
              "frame": {
               "duration": 500,
               "redraw": true
              },
              "mode": "immediate",
              "transition": {
               "duration": 300
              }
             }
            ],
            "label": "2024-08-21",
            "method": "animate"
           },
           {
            "args": [
             [
              "2024-08-22"
             ],
             {
              "frame": {
               "duration": 500,
               "redraw": true
              },
              "mode": "immediate",
              "transition": {
               "duration": 300
              }
             }
            ],
            "label": "2024-08-22",
            "method": "animate"
           },
           {
            "args": [
             [
              "2024-08-23"
             ],
             {
              "frame": {
               "duration": 500,
               "redraw": true
              },
              "mode": "immediate",
              "transition": {
               "duration": 300
              }
             }
            ],
            "label": "2024-08-23",
            "method": "animate"
           },
           {
            "args": [
             [
              "2024-08-26"
             ],
             {
              "frame": {
               "duration": 500,
               "redraw": true
              },
              "mode": "immediate",
              "transition": {
               "duration": 300
              }
             }
            ],
            "label": "2024-08-26",
            "method": "animate"
           },
           {
            "args": [
             [
              "2024-08-27"
             ],
             {
              "frame": {
               "duration": 500,
               "redraw": true
              },
              "mode": "immediate",
              "transition": {
               "duration": 300
              }
             }
            ],
            "label": "2024-08-27",
            "method": "animate"
           },
           {
            "args": [
             [
              "2024-08-28"
             ],
             {
              "frame": {
               "duration": 500,
               "redraw": true
              },
              "mode": "immediate",
              "transition": {
               "duration": 300
              }
             }
            ],
            "label": "2024-08-28",
            "method": "animate"
           },
           {
            "args": [
             [
              "2024-08-29"
             ],
             {
              "frame": {
               "duration": 500,
               "redraw": true
              },
              "mode": "immediate",
              "transition": {
               "duration": 300
              }
             }
            ],
            "label": "2024-08-29",
            "method": "animate"
           },
           {
            "args": [
             [
              "2024-08-30"
             ],
             {
              "frame": {
               "duration": 500,
               "redraw": true
              },
              "mode": "immediate",
              "transition": {
               "duration": 300
              }
             }
            ],
            "label": "2024-08-30",
            "method": "animate"
           },
           {
            "args": [
             [
              "2024-09-03"
             ],
             {
              "frame": {
               "duration": 500,
               "redraw": true
              },
              "mode": "immediate",
              "transition": {
               "duration": 300
              }
             }
            ],
            "label": "2024-09-03",
            "method": "animate"
           },
           {
            "args": [
             [
              "2024-09-04"
             ],
             {
              "frame": {
               "duration": 500,
               "redraw": true
              },
              "mode": "immediate",
              "transition": {
               "duration": 300
              }
             }
            ],
            "label": "2024-09-04",
            "method": "animate"
           },
           {
            "args": [
             [
              "2024-09-05"
             ],
             {
              "frame": {
               "duration": 500,
               "redraw": true
              },
              "mode": "immediate",
              "transition": {
               "duration": 300
              }
             }
            ],
            "label": "2024-09-05",
            "method": "animate"
           },
           {
            "args": [
             [
              "2024-09-06"
             ],
             {
              "frame": {
               "duration": 500,
               "redraw": true
              },
              "mode": "immediate",
              "transition": {
               "duration": 300
              }
             }
            ],
            "label": "2024-09-06",
            "method": "animate"
           },
           {
            "args": [
             [
              "2024-09-09"
             ],
             {
              "frame": {
               "duration": 500,
               "redraw": true
              },
              "mode": "immediate",
              "transition": {
               "duration": 300
              }
             }
            ],
            "label": "2024-09-09",
            "method": "animate"
           },
           {
            "args": [
             [
              "2024-09-10"
             ],
             {
              "frame": {
               "duration": 500,
               "redraw": true
              },
              "mode": "immediate",
              "transition": {
               "duration": 300
              }
             }
            ],
            "label": "2024-09-10",
            "method": "animate"
           },
           {
            "args": [
             [
              "2024-09-11"
             ],
             {
              "frame": {
               "duration": 500,
               "redraw": true
              },
              "mode": "immediate",
              "transition": {
               "duration": 300
              }
             }
            ],
            "label": "2024-09-11",
            "method": "animate"
           },
           {
            "args": [
             [
              "2024-09-12"
             ],
             {
              "frame": {
               "duration": 500,
               "redraw": true
              },
              "mode": "immediate",
              "transition": {
               "duration": 300
              }
             }
            ],
            "label": "2024-09-12",
            "method": "animate"
           },
           {
            "args": [
             [
              "2024-09-13"
             ],
             {
              "frame": {
               "duration": 500,
               "redraw": true
              },
              "mode": "immediate",
              "transition": {
               "duration": 300
              }
             }
            ],
            "label": "2024-09-13",
            "method": "animate"
           },
           {
            "args": [
             [
              "2024-09-16"
             ],
             {
              "frame": {
               "duration": 500,
               "redraw": true
              },
              "mode": "immediate",
              "transition": {
               "duration": 300
              }
             }
            ],
            "label": "2024-09-16",
            "method": "animate"
           },
           {
            "args": [
             [
              "2024-09-17"
             ],
             {
              "frame": {
               "duration": 500,
               "redraw": true
              },
              "mode": "immediate",
              "transition": {
               "duration": 300
              }
             }
            ],
            "label": "2024-09-17",
            "method": "animate"
           },
           {
            "args": [
             [
              "2024-09-18"
             ],
             {
              "frame": {
               "duration": 500,
               "redraw": true
              },
              "mode": "immediate",
              "transition": {
               "duration": 300
              }
             }
            ],
            "label": "2024-09-18",
            "method": "animate"
           },
           {
            "args": [
             [
              "2024-09-19"
             ],
             {
              "frame": {
               "duration": 500,
               "redraw": true
              },
              "mode": "immediate",
              "transition": {
               "duration": 300
              }
             }
            ],
            "label": "2024-09-19",
            "method": "animate"
           },
           {
            "args": [
             [
              "2024-09-20"
             ],
             {
              "frame": {
               "duration": 500,
               "redraw": true
              },
              "mode": "immediate",
              "transition": {
               "duration": 300
              }
             }
            ],
            "label": "2024-09-20",
            "method": "animate"
           },
           {
            "args": [
             [
              "2024-09-23"
             ],
             {
              "frame": {
               "duration": 500,
               "redraw": true
              },
              "mode": "immediate",
              "transition": {
               "duration": 300
              }
             }
            ],
            "label": "2024-09-23",
            "method": "animate"
           },
           {
            "args": [
             [
              "2024-09-24"
             ],
             {
              "frame": {
               "duration": 500,
               "redraw": true
              },
              "mode": "immediate",
              "transition": {
               "duration": 300
              }
             }
            ],
            "label": "2024-09-24",
            "method": "animate"
           },
           {
            "args": [
             [
              "2024-09-25"
             ],
             {
              "frame": {
               "duration": 500,
               "redraw": true
              },
              "mode": "immediate",
              "transition": {
               "duration": 300
              }
             }
            ],
            "label": "2024-09-25",
            "method": "animate"
           },
           {
            "args": [
             [
              "2024-09-26"
             ],
             {
              "frame": {
               "duration": 500,
               "redraw": true
              },
              "mode": "immediate",
              "transition": {
               "duration": 300
              }
             }
            ],
            "label": "2024-09-26",
            "method": "animate"
           },
           {
            "args": [
             [
              "2024-09-27"
             ],
             {
              "frame": {
               "duration": 500,
               "redraw": true
              },
              "mode": "immediate",
              "transition": {
               "duration": 300
              }
             }
            ],
            "label": "2024-09-27",
            "method": "animate"
           },
           {
            "args": [
             [
              "2024-09-30"
             ],
             {
              "frame": {
               "duration": 500,
               "redraw": true
              },
              "mode": "immediate",
              "transition": {
               "duration": 300
              }
             }
            ],
            "label": "2024-09-30",
            "method": "animate"
           },
           {
            "args": [
             [
              "2024-10-01"
             ],
             {
              "frame": {
               "duration": 500,
               "redraw": true
              },
              "mode": "immediate",
              "transition": {
               "duration": 300
              }
             }
            ],
            "label": "2024-10-01",
            "method": "animate"
           },
           {
            "args": [
             [
              "2024-10-02"
             ],
             {
              "frame": {
               "duration": 500,
               "redraw": true
              },
              "mode": "immediate",
              "transition": {
               "duration": 300
              }
             }
            ],
            "label": "2024-10-02",
            "method": "animate"
           },
           {
            "args": [
             [
              "2024-10-03"
             ],
             {
              "frame": {
               "duration": 500,
               "redraw": true
              },
              "mode": "immediate",
              "transition": {
               "duration": 300
              }
             }
            ],
            "label": "2024-10-03",
            "method": "animate"
           },
           {
            "args": [
             [
              "2024-10-04"
             ],
             {
              "frame": {
               "duration": 500,
               "redraw": true
              },
              "mode": "immediate",
              "transition": {
               "duration": 300
              }
             }
            ],
            "label": "2024-10-04",
            "method": "animate"
           },
           {
            "args": [
             [
              "2024-10-07"
             ],
             {
              "frame": {
               "duration": 500,
               "redraw": true
              },
              "mode": "immediate",
              "transition": {
               "duration": 300
              }
             }
            ],
            "label": "2024-10-07",
            "method": "animate"
           },
           {
            "args": [
             [
              "2024-10-08"
             ],
             {
              "frame": {
               "duration": 500,
               "redraw": true
              },
              "mode": "immediate",
              "transition": {
               "duration": 300
              }
             }
            ],
            "label": "2024-10-08",
            "method": "animate"
           },
           {
            "args": [
             [
              "2024-10-09"
             ],
             {
              "frame": {
               "duration": 500,
               "redraw": true
              },
              "mode": "immediate",
              "transition": {
               "duration": 300
              }
             }
            ],
            "label": "2024-10-09",
            "method": "animate"
           },
           {
            "args": [
             [
              "2024-10-10"
             ],
             {
              "frame": {
               "duration": 500,
               "redraw": true
              },
              "mode": "immediate",
              "transition": {
               "duration": 300
              }
             }
            ],
            "label": "2024-10-10",
            "method": "animate"
           },
           {
            "args": [
             [
              "2024-10-11"
             ],
             {
              "frame": {
               "duration": 500,
               "redraw": true
              },
              "mode": "immediate",
              "transition": {
               "duration": 300
              }
             }
            ],
            "label": "2024-10-11",
            "method": "animate"
           },
           {
            "args": [
             [
              "2024-10-15"
             ],
             {
              "frame": {
               "duration": 500,
               "redraw": true
              },
              "mode": "immediate",
              "transition": {
               "duration": 300
              }
             }
            ],
            "label": "2024-10-15",
            "method": "animate"
           },
           {
            "args": [
             [
              "2024-10-16"
             ],
             {
              "frame": {
               "duration": 500,
               "redraw": true
              },
              "mode": "immediate",
              "transition": {
               "duration": 300
              }
             }
            ],
            "label": "2024-10-16",
            "method": "animate"
           },
           {
            "args": [
             [
              "2024-10-17"
             ],
             {
              "frame": {
               "duration": 500,
               "redraw": true
              },
              "mode": "immediate",
              "transition": {
               "duration": 300
              }
             }
            ],
            "label": "2024-10-17",
            "method": "animate"
           },
           {
            "args": [
             [
              "2024-10-18"
             ],
             {
              "frame": {
               "duration": 500,
               "redraw": true
              },
              "mode": "immediate",
              "transition": {
               "duration": 300
              }
             }
            ],
            "label": "2024-10-18",
            "method": "animate"
           },
           {
            "args": [
             [
              "2024-10-21"
             ],
             {
              "frame": {
               "duration": 500,
               "redraw": true
              },
              "mode": "immediate",
              "transition": {
               "duration": 300
              }
             }
            ],
            "label": "2024-10-21",
            "method": "animate"
           },
           {
            "args": [
             [
              "2024-10-22"
             ],
             {
              "frame": {
               "duration": 500,
               "redraw": true
              },
              "mode": "immediate",
              "transition": {
               "duration": 300
              }
             }
            ],
            "label": "2024-10-22",
            "method": "animate"
           },
           {
            "args": [
             [
              "2024-10-23"
             ],
             {
              "frame": {
               "duration": 500,
               "redraw": true
              },
              "mode": "immediate",
              "transition": {
               "duration": 300
              }
             }
            ],
            "label": "2024-10-23",
            "method": "animate"
           },
           {
            "args": [
             [
              "2024-10-24"
             ],
             {
              "frame": {
               "duration": 500,
               "redraw": true
              },
              "mode": "immediate",
              "transition": {
               "duration": 300
              }
             }
            ],
            "label": "2024-10-24",
            "method": "animate"
           },
           {
            "args": [
             [
              "2024-10-25"
             ],
             {
              "frame": {
               "duration": 500,
               "redraw": true
              },
              "mode": "immediate",
              "transition": {
               "duration": 300
              }
             }
            ],
            "label": "2024-10-25",
            "method": "animate"
           },
           {
            "args": [
             [
              "2024-10-28"
             ],
             {
              "frame": {
               "duration": 500,
               "redraw": true
              },
              "mode": "immediate",
              "transition": {
               "duration": 300
              }
             }
            ],
            "label": "2024-10-28",
            "method": "animate"
           },
           {
            "args": [
             [
              "2024-10-29"
             ],
             {
              "frame": {
               "duration": 500,
               "redraw": true
              },
              "mode": "immediate",
              "transition": {
               "duration": 300
              }
             }
            ],
            "label": "2024-10-29",
            "method": "animate"
           },
           {
            "args": [
             [
              "2024-10-30"
             ],
             {
              "frame": {
               "duration": 500,
               "redraw": true
              },
              "mode": "immediate",
              "transition": {
               "duration": 300
              }
             }
            ],
            "label": "2024-10-30",
            "method": "animate"
           },
           {
            "args": [
             [
              "2024-10-31"
             ],
             {
              "frame": {
               "duration": 500,
               "redraw": true
              },
              "mode": "immediate",
              "transition": {
               "duration": 300
              }
             }
            ],
            "label": "2024-10-31",
            "method": "animate"
           },
           {
            "args": [
             [
              "2024-11-01"
             ],
             {
              "frame": {
               "duration": 500,
               "redraw": true
              },
              "mode": "immediate",
              "transition": {
               "duration": 300
              }
             }
            ],
            "label": "2024-11-01",
            "method": "animate"
           },
           {
            "args": [
             [
              "2024-11-04"
             ],
             {
              "frame": {
               "duration": 500,
               "redraw": true
              },
              "mode": "immediate",
              "transition": {
               "duration": 300
              }
             }
            ],
            "label": "2024-11-04",
            "method": "animate"
           },
           {
            "args": [
             [
              "2024-11-05"
             ],
             {
              "frame": {
               "duration": 500,
               "redraw": true
              },
              "mode": "immediate",
              "transition": {
               "duration": 300
              }
             }
            ],
            "label": "2024-11-05",
            "method": "animate"
           },
           {
            "args": [
             [
              "2024-11-06"
             ],
             {
              "frame": {
               "duration": 500,
               "redraw": true
              },
              "mode": "immediate",
              "transition": {
               "duration": 300
              }
             }
            ],
            "label": "2024-11-06",
            "method": "animate"
           },
           {
            "args": [
             [
              "2024-11-07"
             ],
             {
              "frame": {
               "duration": 500,
               "redraw": true
              },
              "mode": "immediate",
              "transition": {
               "duration": 300
              }
             }
            ],
            "label": "2024-11-07",
            "method": "animate"
           },
           {
            "args": [
             [
              "2024-11-08"
             ],
             {
              "frame": {
               "duration": 500,
               "redraw": true
              },
              "mode": "immediate",
              "transition": {
               "duration": 300
              }
             }
            ],
            "label": "2024-11-08",
            "method": "animate"
           },
           {
            "args": [
             [
              "2024-11-12"
             ],
             {
              "frame": {
               "duration": 500,
               "redraw": true
              },
              "mode": "immediate",
              "transition": {
               "duration": 300
              }
             }
            ],
            "label": "2024-11-12",
            "method": "animate"
           },
           {
            "args": [
             [
              "2024-11-13"
             ],
             {
              "frame": {
               "duration": 500,
               "redraw": true
              },
              "mode": "immediate",
              "transition": {
               "duration": 300
              }
             }
            ],
            "label": "2024-11-13",
            "method": "animate"
           },
           {
            "args": [
             [
              "2024-11-14"
             ],
             {
              "frame": {
               "duration": 500,
               "redraw": true
              },
              "mode": "immediate",
              "transition": {
               "duration": 300
              }
             }
            ],
            "label": "2024-11-14",
            "method": "animate"
           },
           {
            "args": [
             [
              "2024-11-15"
             ],
             {
              "frame": {
               "duration": 500,
               "redraw": true
              },
              "mode": "immediate",
              "transition": {
               "duration": 300
              }
             }
            ],
            "label": "2024-11-15",
            "method": "animate"
           },
           {
            "args": [
             [
              "2024-11-18"
             ],
             {
              "frame": {
               "duration": 500,
               "redraw": true
              },
              "mode": "immediate",
              "transition": {
               "duration": 300
              }
             }
            ],
            "label": "2024-11-18",
            "method": "animate"
           },
           {
            "args": [
             [
              "2024-11-19"
             ],
             {
              "frame": {
               "duration": 500,
               "redraw": true
              },
              "mode": "immediate",
              "transition": {
               "duration": 300
              }
             }
            ],
            "label": "2024-11-19",
            "method": "animate"
           },
           {
            "args": [
             [
              "2024-11-20"
             ],
             {
              "frame": {
               "duration": 500,
               "redraw": true
              },
              "mode": "immediate",
              "transition": {
               "duration": 300
              }
             }
            ],
            "label": "2024-11-20",
            "method": "animate"
           },
           {
            "args": [
             [
              "2024-11-21"
             ],
             {
              "frame": {
               "duration": 500,
               "redraw": true
              },
              "mode": "immediate",
              "transition": {
               "duration": 300
              }
             }
            ],
            "label": "2024-11-21",
            "method": "animate"
           },
           {
            "args": [
             [
              "2024-11-22"
             ],
             {
              "frame": {
               "duration": 500,
               "redraw": true
              },
              "mode": "immediate",
              "transition": {
               "duration": 300
              }
             }
            ],
            "label": "2024-11-22",
            "method": "animate"
           },
           {
            "args": [
             [
              "2024-11-25"
             ],
             {
              "frame": {
               "duration": 500,
               "redraw": true
              },
              "mode": "immediate",
              "transition": {
               "duration": 300
              }
             }
            ],
            "label": "2024-11-25",
            "method": "animate"
           },
           {
            "args": [
             [
              "2024-11-26"
             ],
             {
              "frame": {
               "duration": 500,
               "redraw": true
              },
              "mode": "immediate",
              "transition": {
               "duration": 300
              }
             }
            ],
            "label": "2024-11-26",
            "method": "animate"
           },
           {
            "args": [
             [
              "2024-11-27"
             ],
             {
              "frame": {
               "duration": 500,
               "redraw": true
              },
              "mode": "immediate",
              "transition": {
               "duration": 300
              }
             }
            ],
            "label": "2024-11-27",
            "method": "animate"
           },
           {
            "args": [
             [
              "2024-11-29"
             ],
             {
              "frame": {
               "duration": 500,
               "redraw": true
              },
              "mode": "immediate",
              "transition": {
               "duration": 300
              }
             }
            ],
            "label": "2024-11-29",
            "method": "animate"
           },
           {
            "args": [
             [
              "2024-12-02"
             ],
             {
              "frame": {
               "duration": 500,
               "redraw": true
              },
              "mode": "immediate",
              "transition": {
               "duration": 300
              }
             }
            ],
            "label": "2024-12-02",
            "method": "animate"
           },
           {
            "args": [
             [
              "2024-12-03"
             ],
             {
              "frame": {
               "duration": 500,
               "redraw": true
              },
              "mode": "immediate",
              "transition": {
               "duration": 300
              }
             }
            ],
            "label": "2024-12-03",
            "method": "animate"
           },
           {
            "args": [
             [
              "2024-12-04"
             ],
             {
              "frame": {
               "duration": 500,
               "redraw": true
              },
              "mode": "immediate",
              "transition": {
               "duration": 300
              }
             }
            ],
            "label": "2024-12-04",
            "method": "animate"
           },
           {
            "args": [
             [
              "2024-12-05"
             ],
             {
              "frame": {
               "duration": 500,
               "redraw": true
              },
              "mode": "immediate",
              "transition": {
               "duration": 300
              }
             }
            ],
            "label": "2024-12-05",
            "method": "animate"
           },
           {
            "args": [
             [
              "2024-12-06"
             ],
             {
              "frame": {
               "duration": 500,
               "redraw": true
              },
              "mode": "immediate",
              "transition": {
               "duration": 300
              }
             }
            ],
            "label": "2024-12-06",
            "method": "animate"
           },
           {
            "args": [
             [
              "2024-12-09"
             ],
             {
              "frame": {
               "duration": 500,
               "redraw": true
              },
              "mode": "immediate",
              "transition": {
               "duration": 300
              }
             }
            ],
            "label": "2024-12-09",
            "method": "animate"
           },
           {
            "args": [
             [
              "2024-12-10"
             ],
             {
              "frame": {
               "duration": 500,
               "redraw": true
              },
              "mode": "immediate",
              "transition": {
               "duration": 300
              }
             }
            ],
            "label": "2024-12-10",
            "method": "animate"
           },
           {
            "args": [
             [
              "2024-12-11"
             ],
             {
              "frame": {
               "duration": 500,
               "redraw": true
              },
              "mode": "immediate",
              "transition": {
               "duration": 300
              }
             }
            ],
            "label": "2024-12-11",
            "method": "animate"
           },
           {
            "args": [
             [
              "2024-12-12"
             ],
             {
              "frame": {
               "duration": 500,
               "redraw": true
              },
              "mode": "immediate",
              "transition": {
               "duration": 300
              }
             }
            ],
            "label": "2024-12-12",
            "method": "animate"
           },
           {
            "args": [
             [
              "2024-12-13"
             ],
             {
              "frame": {
               "duration": 500,
               "redraw": true
              },
              "mode": "immediate",
              "transition": {
               "duration": 300
              }
             }
            ],
            "label": "2024-12-13",
            "method": "animate"
           },
           {
            "args": [
             [
              "2024-12-16"
             ],
             {
              "frame": {
               "duration": 500,
               "redraw": true
              },
              "mode": "immediate",
              "transition": {
               "duration": 300
              }
             }
            ],
            "label": "2024-12-16",
            "method": "animate"
           },
           {
            "args": [
             [
              "2024-12-17"
             ],
             {
              "frame": {
               "duration": 500,
               "redraw": true
              },
              "mode": "immediate",
              "transition": {
               "duration": 300
              }
             }
            ],
            "label": "2024-12-17",
            "method": "animate"
           },
           {
            "args": [
             [
              "2024-12-18"
             ],
             {
              "frame": {
               "duration": 500,
               "redraw": true
              },
              "mode": "immediate",
              "transition": {
               "duration": 300
              }
             }
            ],
            "label": "2024-12-18",
            "method": "animate"
           },
           {
            "args": [
             [
              "2024-12-19"
             ],
             {
              "frame": {
               "duration": 500,
               "redraw": true
              },
              "mode": "immediate",
              "transition": {
               "duration": 300
              }
             }
            ],
            "label": "2024-12-19",
            "method": "animate"
           },
           {
            "args": [
             [
              "2024-12-20"
             ],
             {
              "frame": {
               "duration": 500,
               "redraw": true
              },
              "mode": "immediate",
              "transition": {
               "duration": 300
              }
             }
            ],
            "label": "2024-12-20",
            "method": "animate"
           },
           {
            "args": [
             [
              "2024-12-23"
             ],
             {
              "frame": {
               "duration": 500,
               "redraw": true
              },
              "mode": "immediate",
              "transition": {
               "duration": 300
              }
             }
            ],
            "label": "2024-12-23",
            "method": "animate"
           },
           {
            "args": [
             [
              "2024-12-24"
             ],
             {
              "frame": {
               "duration": 500,
               "redraw": true
              },
              "mode": "immediate",
              "transition": {
               "duration": 300
              }
             }
            ],
            "label": "2024-12-24",
            "method": "animate"
           },
           {
            "args": [
             [
              "2024-12-26"
             ],
             {
              "frame": {
               "duration": 500,
               "redraw": true
              },
              "mode": "immediate",
              "transition": {
               "duration": 300
              }
             }
            ],
            "label": "2024-12-26",
            "method": "animate"
           },
           {
            "args": [
             [
              "2024-12-27"
             ],
             {
              "frame": {
               "duration": 500,
               "redraw": true
              },
              "mode": "immediate",
              "transition": {
               "duration": 300
              }
             }
            ],
            "label": "2024-12-27",
            "method": "animate"
           },
           {
            "args": [
             [
              "2024-12-30"
             ],
             {
              "frame": {
               "duration": 500,
               "redraw": true
              },
              "mode": "immediate",
              "transition": {
               "duration": 300
              }
             }
            ],
            "label": "2024-12-30",
            "method": "animate"
           },
           {
            "args": [
             [
              "2024-12-31"
             ],
             {
              "frame": {
               "duration": 500,
               "redraw": true
              },
              "mode": "immediate",
              "transition": {
               "duration": 300
              }
             }
            ],
            "label": "2024-12-31",
            "method": "animate"
           },
           {
            "args": [
             [
              "2025-01-02"
             ],
             {
              "frame": {
               "duration": 500,
               "redraw": true
              },
              "mode": "immediate",
              "transition": {
               "duration": 300
              }
             }
            ],
            "label": "2025-01-02",
            "method": "animate"
           },
           {
            "args": [
             [
              "2025-01-03"
             ],
             {
              "frame": {
               "duration": 500,
               "redraw": true
              },
              "mode": "immediate",
              "transition": {
               "duration": 300
              }
             }
            ],
            "label": "2025-01-03",
            "method": "animate"
           },
           {
            "args": [
             [
              "2025-01-06"
             ],
             {
              "frame": {
               "duration": 500,
               "redraw": true
              },
              "mode": "immediate",
              "transition": {
               "duration": 300
              }
             }
            ],
            "label": "2025-01-06",
            "method": "animate"
           },
           {
            "args": [
             [
              "2025-01-07"
             ],
             {
              "frame": {
               "duration": 500,
               "redraw": true
              },
              "mode": "immediate",
              "transition": {
               "duration": 300
              }
             }
            ],
            "label": "2025-01-07",
            "method": "animate"
           },
           {
            "args": [
             [
              "2025-01-08"
             ],
             {
              "frame": {
               "duration": 500,
               "redraw": true
              },
              "mode": "immediate",
              "transition": {
               "duration": 300
              }
             }
            ],
            "label": "2025-01-08",
            "method": "animate"
           },
           {
            "args": [
             [
              "2025-01-09"
             ],
             {
              "frame": {
               "duration": 500,
               "redraw": true
              },
              "mode": "immediate",
              "transition": {
               "duration": 300
              }
             }
            ],
            "label": "2025-01-09",
            "method": "animate"
           },
           {
            "args": [
             [
              "2025-01-10"
             ],
             {
              "frame": {
               "duration": 500,
               "redraw": true
              },
              "mode": "immediate",
              "transition": {
               "duration": 300
              }
             }
            ],
            "label": "2025-01-10",
            "method": "animate"
           },
           {
            "args": [
             [
              "2025-01-13"
             ],
             {
              "frame": {
               "duration": 500,
               "redraw": true
              },
              "mode": "immediate",
              "transition": {
               "duration": 300
              }
             }
            ],
            "label": "2025-01-13",
            "method": "animate"
           },
           {
            "args": [
             [
              "2025-01-14"
             ],
             {
              "frame": {
               "duration": 500,
               "redraw": true
              },
              "mode": "immediate",
              "transition": {
               "duration": 300
              }
             }
            ],
            "label": "2025-01-14",
            "method": "animate"
           },
           {
            "args": [
             [
              "2025-01-15"
             ],
             {
              "frame": {
               "duration": 500,
               "redraw": true
              },
              "mode": "immediate",
              "transition": {
               "duration": 300
              }
             }
            ],
            "label": "2025-01-15",
            "method": "animate"
           },
           {
            "args": [
             [
              "2025-01-16"
             ],
             {
              "frame": {
               "duration": 500,
               "redraw": true
              },
              "mode": "immediate",
              "transition": {
               "duration": 300
              }
             }
            ],
            "label": "2025-01-16",
            "method": "animate"
           },
           {
            "args": [
             [
              "2025-01-17"
             ],
             {
              "frame": {
               "duration": 500,
               "redraw": true
              },
              "mode": "immediate",
              "transition": {
               "duration": 300
              }
             }
            ],
            "label": "2025-01-17",
            "method": "animate"
           },
           {
            "args": [
             [
              "2025-01-21"
             ],
             {
              "frame": {
               "duration": 500,
               "redraw": true
              },
              "mode": "immediate",
              "transition": {
               "duration": 300
              }
             }
            ],
            "label": "2025-01-21",
            "method": "animate"
           },
           {
            "args": [
             [
              "2025-01-22"
             ],
             {
              "frame": {
               "duration": 500,
               "redraw": true
              },
              "mode": "immediate",
              "transition": {
               "duration": 300
              }
             }
            ],
            "label": "2025-01-22",
            "method": "animate"
           },
           {
            "args": [
             [
              "2025-01-23"
             ],
             {
              "frame": {
               "duration": 500,
               "redraw": true
              },
              "mode": "immediate",
              "transition": {
               "duration": 300
              }
             }
            ],
            "label": "2025-01-23",
            "method": "animate"
           },
           {
            "args": [
             [
              "2025-01-24"
             ],
             {
              "frame": {
               "duration": 500,
               "redraw": true
              },
              "mode": "immediate",
              "transition": {
               "duration": 300
              }
             }
            ],
            "label": "2025-01-24",
            "method": "animate"
           },
           {
            "args": [
             [
              "2025-01-27"
             ],
             {
              "frame": {
               "duration": 500,
               "redraw": true
              },
              "mode": "immediate",
              "transition": {
               "duration": 300
              }
             }
            ],
            "label": "2025-01-27",
            "method": "animate"
           },
           {
            "args": [
             [
              "2025-01-28"
             ],
             {
              "frame": {
               "duration": 500,
               "redraw": true
              },
              "mode": "immediate",
              "transition": {
               "duration": 300
              }
             }
            ],
            "label": "2025-01-28",
            "method": "animate"
           },
           {
            "args": [
             [
              "2025-01-29"
             ],
             {
              "frame": {
               "duration": 500,
               "redraw": true
              },
              "mode": "immediate",
              "transition": {
               "duration": 300
              }
             }
            ],
            "label": "2025-01-29",
            "method": "animate"
           },
           {
            "args": [
             [
              "2025-01-30"
             ],
             {
              "frame": {
               "duration": 500,
               "redraw": true
              },
              "mode": "immediate",
              "transition": {
               "duration": 300
              }
             }
            ],
            "label": "2025-01-30",
            "method": "animate"
           },
           {
            "args": [
             [
              "2025-01-31"
             ],
             {
              "frame": {
               "duration": 500,
               "redraw": true
              },
              "mode": "immediate",
              "transition": {
               "duration": 300
              }
             }
            ],
            "label": "2025-01-31",
            "method": "animate"
           },
           {
            "args": [
             [
              "2025-02-03"
             ],
             {
              "frame": {
               "duration": 500,
               "redraw": true
              },
              "mode": "immediate",
              "transition": {
               "duration": 300
              }
             }
            ],
            "label": "2025-02-03",
            "method": "animate"
           },
           {
            "args": [
             [
              "2025-02-04"
             ],
             {
              "frame": {
               "duration": 500,
               "redraw": true
              },
              "mode": "immediate",
              "transition": {
               "duration": 300
              }
             }
            ],
            "label": "2025-02-04",
            "method": "animate"
           },
           {
            "args": [
             [
              "2025-02-05"
             ],
             {
              "frame": {
               "duration": 500,
               "redraw": true
              },
              "mode": "immediate",
              "transition": {
               "duration": 300
              }
             }
            ],
            "label": "2025-02-05",
            "method": "animate"
           },
           {
            "args": [
             [
              "2025-02-06"
             ],
             {
              "frame": {
               "duration": 500,
               "redraw": true
              },
              "mode": "immediate",
              "transition": {
               "duration": 300
              }
             }
            ],
            "label": "2025-02-06",
            "method": "animate"
           },
           {
            "args": [
             [
              "2025-02-07"
             ],
             {
              "frame": {
               "duration": 500,
               "redraw": true
              },
              "mode": "immediate",
              "transition": {
               "duration": 300
              }
             }
            ],
            "label": "2025-02-07",
            "method": "animate"
           },
           {
            "args": [
             [
              "2025-02-10"
             ],
             {
              "frame": {
               "duration": 500,
               "redraw": true
              },
              "mode": "immediate",
              "transition": {
               "duration": 300
              }
             }
            ],
            "label": "2025-02-10",
            "method": "animate"
           },
           {
            "args": [
             [
              "2025-02-11"
             ],
             {
              "frame": {
               "duration": 500,
               "redraw": true
              },
              "mode": "immediate",
              "transition": {
               "duration": 300
              }
             }
            ],
            "label": "2025-02-11",
            "method": "animate"
           },
           {
            "args": [
             [
              "2025-02-12"
             ],
             {
              "frame": {
               "duration": 500,
               "redraw": true
              },
              "mode": "immediate",
              "transition": {
               "duration": 300
              }
             }
            ],
            "label": "2025-02-12",
            "method": "animate"
           },
           {
            "args": [
             [
              "2025-02-13"
             ],
             {
              "frame": {
               "duration": 500,
               "redraw": true
              },
              "mode": "immediate",
              "transition": {
               "duration": 300
              }
             }
            ],
            "label": "2025-02-13",
            "method": "animate"
           },
           {
            "args": [
             [
              "2025-02-14"
             ],
             {
              "frame": {
               "duration": 500,
               "redraw": true
              },
              "mode": "immediate",
              "transition": {
               "duration": 300
              }
             }
            ],
            "label": "2025-02-14",
            "method": "animate"
           },
           {
            "args": [
             [
              "2025-02-18"
             ],
             {
              "frame": {
               "duration": 500,
               "redraw": true
              },
              "mode": "immediate",
              "transition": {
               "duration": 300
              }
             }
            ],
            "label": "2025-02-18",
            "method": "animate"
           },
           {
            "args": [
             [
              "2025-02-19"
             ],
             {
              "frame": {
               "duration": 500,
               "redraw": true
              },
              "mode": "immediate",
              "transition": {
               "duration": 300
              }
             }
            ],
            "label": "2025-02-19",
            "method": "animate"
           },
           {
            "args": [
             [
              "2025-02-20"
             ],
             {
              "frame": {
               "duration": 500,
               "redraw": true
              },
              "mode": "immediate",
              "transition": {
               "duration": 300
              }
             }
            ],
            "label": "2025-02-20",
            "method": "animate"
           },
           {
            "args": [
             [
              "2025-02-21"
             ],
             {
              "frame": {
               "duration": 500,
               "redraw": true
              },
              "mode": "immediate",
              "transition": {
               "duration": 300
              }
             }
            ],
            "label": "2025-02-21",
            "method": "animate"
           },
           {
            "args": [
             [
              "2025-02-24"
             ],
             {
              "frame": {
               "duration": 500,
               "redraw": true
              },
              "mode": "immediate",
              "transition": {
               "duration": 300
              }
             }
            ],
            "label": "2025-02-24",
            "method": "animate"
           },
           {
            "args": [
             [
              "2025-02-25"
             ],
             {
              "frame": {
               "duration": 500,
               "redraw": true
              },
              "mode": "immediate",
              "transition": {
               "duration": 300
              }
             }
            ],
            "label": "2025-02-25",
            "method": "animate"
           },
           {
            "args": [
             [
              "2025-02-26"
             ],
             {
              "frame": {
               "duration": 500,
               "redraw": true
              },
              "mode": "immediate",
              "transition": {
               "duration": 300
              }
             }
            ],
            "label": "2025-02-26",
            "method": "animate"
           },
           {
            "args": [
             [
              "2025-02-27"
             ],
             {
              "frame": {
               "duration": 500,
               "redraw": true
              },
              "mode": "immediate",
              "transition": {
               "duration": 300
              }
             }
            ],
            "label": "2025-02-27",
            "method": "animate"
           },
           {
            "args": [
             [
              "2025-02-28"
             ],
             {
              "frame": {
               "duration": 500,
               "redraw": true
              },
              "mode": "immediate",
              "transition": {
               "duration": 300
              }
             }
            ],
            "label": "2025-02-28",
            "method": "animate"
           }
          ]
         }
        ],
        "template": {
         "data": {
          "bar": [
           {
            "error_x": {
             "color": "#2a3f5f"
            },
            "error_y": {
             "color": "#2a3f5f"
            },
            "marker": {
             "line": {
              "color": "#E5ECF6",
              "width": 0.5
             },
             "pattern": {
              "fillmode": "overlay",
              "size": 10,
              "solidity": 0.2
             }
            },
            "type": "bar"
           }
          ],
          "barpolar": [
           {
            "marker": {
             "line": {
              "color": "#E5ECF6",
              "width": 0.5
             },
             "pattern": {
              "fillmode": "overlay",
              "size": 10,
              "solidity": 0.2
             }
            },
            "type": "barpolar"
           }
          ],
          "carpet": [
           {
            "aaxis": {
             "endlinecolor": "#2a3f5f",
             "gridcolor": "white",
             "linecolor": "white",
             "minorgridcolor": "white",
             "startlinecolor": "#2a3f5f"
            },
            "baxis": {
             "endlinecolor": "#2a3f5f",
             "gridcolor": "white",
             "linecolor": "white",
             "minorgridcolor": "white",
             "startlinecolor": "#2a3f5f"
            },
            "type": "carpet"
           }
          ],
          "choropleth": [
           {
            "colorbar": {
             "outlinewidth": 0,
             "ticks": ""
            },
            "type": "choropleth"
           }
          ],
          "contour": [
           {
            "colorbar": {
             "outlinewidth": 0,
             "ticks": ""
            },
            "colorscale": [
             [
              0,
              "#0d0887"
             ],
             [
              0.1111111111111111,
              "#46039f"
             ],
             [
              0.2222222222222222,
              "#7201a8"
             ],
             [
              0.3333333333333333,
              "#9c179e"
             ],
             [
              0.4444444444444444,
              "#bd3786"
             ],
             [
              0.5555555555555556,
              "#d8576b"
             ],
             [
              0.6666666666666666,
              "#ed7953"
             ],
             [
              0.7777777777777778,
              "#fb9f3a"
             ],
             [
              0.8888888888888888,
              "#fdca26"
             ],
             [
              1,
              "#f0f921"
             ]
            ],
            "type": "contour"
           }
          ],
          "contourcarpet": [
           {
            "colorbar": {
             "outlinewidth": 0,
             "ticks": ""
            },
            "type": "contourcarpet"
           }
          ],
          "heatmap": [
           {
            "colorbar": {
             "outlinewidth": 0,
             "ticks": ""
            },
            "colorscale": [
             [
              0,
              "#0d0887"
             ],
             [
              0.1111111111111111,
              "#46039f"
             ],
             [
              0.2222222222222222,
              "#7201a8"
             ],
             [
              0.3333333333333333,
              "#9c179e"
             ],
             [
              0.4444444444444444,
              "#bd3786"
             ],
             [
              0.5555555555555556,
              "#d8576b"
             ],
             [
              0.6666666666666666,
              "#ed7953"
             ],
             [
              0.7777777777777778,
              "#fb9f3a"
             ],
             [
              0.8888888888888888,
              "#fdca26"
             ],
             [
              1,
              "#f0f921"
             ]
            ],
            "type": "heatmap"
           }
          ],
          "heatmapgl": [
           {
            "colorbar": {
             "outlinewidth": 0,
             "ticks": ""
            },
            "colorscale": [
             [
              0,
              "#0d0887"
             ],
             [
              0.1111111111111111,
              "#46039f"
             ],
             [
              0.2222222222222222,
              "#7201a8"
             ],
             [
              0.3333333333333333,
              "#9c179e"
             ],
             [
              0.4444444444444444,
              "#bd3786"
             ],
             [
              0.5555555555555556,
              "#d8576b"
             ],
             [
              0.6666666666666666,
              "#ed7953"
             ],
             [
              0.7777777777777778,
              "#fb9f3a"
             ],
             [
              0.8888888888888888,
              "#fdca26"
             ],
             [
              1,
              "#f0f921"
             ]
            ],
            "type": "heatmapgl"
           }
          ],
          "histogram": [
           {
            "marker": {
             "pattern": {
              "fillmode": "overlay",
              "size": 10,
              "solidity": 0.2
             }
            },
            "type": "histogram"
           }
          ],
          "histogram2d": [
           {
            "colorbar": {
             "outlinewidth": 0,
             "ticks": ""
            },
            "colorscale": [
             [
              0,
              "#0d0887"
             ],
             [
              0.1111111111111111,
              "#46039f"
             ],
             [
              0.2222222222222222,
              "#7201a8"
             ],
             [
              0.3333333333333333,
              "#9c179e"
             ],
             [
              0.4444444444444444,
              "#bd3786"
             ],
             [
              0.5555555555555556,
              "#d8576b"
             ],
             [
              0.6666666666666666,
              "#ed7953"
             ],
             [
              0.7777777777777778,
              "#fb9f3a"
             ],
             [
              0.8888888888888888,
              "#fdca26"
             ],
             [
              1,
              "#f0f921"
             ]
            ],
            "type": "histogram2d"
           }
          ],
          "histogram2dcontour": [
           {
            "colorbar": {
             "outlinewidth": 0,
             "ticks": ""
            },
            "colorscale": [
             [
              0,
              "#0d0887"
             ],
             [
              0.1111111111111111,
              "#46039f"
             ],
             [
              0.2222222222222222,
              "#7201a8"
             ],
             [
              0.3333333333333333,
              "#9c179e"
             ],
             [
              0.4444444444444444,
              "#bd3786"
             ],
             [
              0.5555555555555556,
              "#d8576b"
             ],
             [
              0.6666666666666666,
              "#ed7953"
             ],
             [
              0.7777777777777778,
              "#fb9f3a"
             ],
             [
              0.8888888888888888,
              "#fdca26"
             ],
             [
              1,
              "#f0f921"
             ]
            ],
            "type": "histogram2dcontour"
           }
          ],
          "mesh3d": [
           {
            "colorbar": {
             "outlinewidth": 0,
             "ticks": ""
            },
            "type": "mesh3d"
           }
          ],
          "parcoords": [
           {
            "line": {
             "colorbar": {
              "outlinewidth": 0,
              "ticks": ""
             }
            },
            "type": "parcoords"
           }
          ],
          "pie": [
           {
            "automargin": true,
            "type": "pie"
           }
          ],
          "scatter": [
           {
            "fillpattern": {
             "fillmode": "overlay",
             "size": 10,
             "solidity": 0.2
            },
            "type": "scatter"
           }
          ],
          "scatter3d": [
           {
            "line": {
             "colorbar": {
              "outlinewidth": 0,
              "ticks": ""
             }
            },
            "marker": {
             "colorbar": {
              "outlinewidth": 0,
              "ticks": ""
             }
            },
            "type": "scatter3d"
           }
          ],
          "scattercarpet": [
           {
            "marker": {
             "colorbar": {
              "outlinewidth": 0,
              "ticks": ""
             }
            },
            "type": "scattercarpet"
           }
          ],
          "scattergeo": [
           {
            "marker": {
             "colorbar": {
              "outlinewidth": 0,
              "ticks": ""
             }
            },
            "type": "scattergeo"
           }
          ],
          "scattergl": [
           {
            "marker": {
             "colorbar": {
              "outlinewidth": 0,
              "ticks": ""
             }
            },
            "type": "scattergl"
           }
          ],
          "scattermapbox": [
           {
            "marker": {
             "colorbar": {
              "outlinewidth": 0,
              "ticks": ""
             }
            },
            "type": "scattermapbox"
           }
          ],
          "scatterpolar": [
           {
            "marker": {
             "colorbar": {
              "outlinewidth": 0,
              "ticks": ""
             }
            },
            "type": "scatterpolar"
           }
          ],
          "scatterpolargl": [
           {
            "marker": {
             "colorbar": {
              "outlinewidth": 0,
              "ticks": ""
             }
            },
            "type": "scatterpolargl"
           }
          ],
          "scatterternary": [
           {
            "marker": {
             "colorbar": {
              "outlinewidth": 0,
              "ticks": ""
             }
            },
            "type": "scatterternary"
           }
          ],
          "surface": [
           {
            "colorbar": {
             "outlinewidth": 0,
             "ticks": ""
            },
            "colorscale": [
             [
              0,
              "#0d0887"
             ],
             [
              0.1111111111111111,
              "#46039f"
             ],
             [
              0.2222222222222222,
              "#7201a8"
             ],
             [
              0.3333333333333333,
              "#9c179e"
             ],
             [
              0.4444444444444444,
              "#bd3786"
             ],
             [
              0.5555555555555556,
              "#d8576b"
             ],
             [
              0.6666666666666666,
              "#ed7953"
             ],
             [
              0.7777777777777778,
              "#fb9f3a"
             ],
             [
              0.8888888888888888,
              "#fdca26"
             ],
             [
              1,
              "#f0f921"
             ]
            ],
            "type": "surface"
           }
          ],
          "table": [
           {
            "cells": {
             "fill": {
              "color": "#EBF0F8"
             },
             "line": {
              "color": "white"
             }
            },
            "header": {
             "fill": {
              "color": "#C8D4E3"
             },
             "line": {
              "color": "white"
             }
            },
            "type": "table"
           }
          ]
         },
         "layout": {
          "annotationdefaults": {
           "arrowcolor": "#2a3f5f",
           "arrowhead": 0,
           "arrowwidth": 1
          },
          "autotypenumbers": "strict",
          "coloraxis": {
           "colorbar": {
            "outlinewidth": 0,
            "ticks": ""
           }
          },
          "colorscale": {
           "diverging": [
            [
             0,
             "#8e0152"
            ],
            [
             0.1,
             "#c51b7d"
            ],
            [
             0.2,
             "#de77ae"
            ],
            [
             0.3,
             "#f1b6da"
            ],
            [
             0.4,
             "#fde0ef"
            ],
            [
             0.5,
             "#f7f7f7"
            ],
            [
             0.6,
             "#e6f5d0"
            ],
            [
             0.7,
             "#b8e186"
            ],
            [
             0.8,
             "#7fbc41"
            ],
            [
             0.9,
             "#4d9221"
            ],
            [
             1,
             "#276419"
            ]
           ],
           "sequential": [
            [
             0,
             "#0d0887"
            ],
            [
             0.1111111111111111,
             "#46039f"
            ],
            [
             0.2222222222222222,
             "#7201a8"
            ],
            [
             0.3333333333333333,
             "#9c179e"
            ],
            [
             0.4444444444444444,
             "#bd3786"
            ],
            [
             0.5555555555555556,
             "#d8576b"
            ],
            [
             0.6666666666666666,
             "#ed7953"
            ],
            [
             0.7777777777777778,
             "#fb9f3a"
            ],
            [
             0.8888888888888888,
             "#fdca26"
            ],
            [
             1,
             "#f0f921"
            ]
           ],
           "sequentialminus": [
            [
             0,
             "#0d0887"
            ],
            [
             0.1111111111111111,
             "#46039f"
            ],
            [
             0.2222222222222222,
             "#7201a8"
            ],
            [
             0.3333333333333333,
             "#9c179e"
            ],
            [
             0.4444444444444444,
             "#bd3786"
            ],
            [
             0.5555555555555556,
             "#d8576b"
            ],
            [
             0.6666666666666666,
             "#ed7953"
            ],
            [
             0.7777777777777778,
             "#fb9f3a"
            ],
            [
             0.8888888888888888,
             "#fdca26"
            ],
            [
             1,
             "#f0f921"
            ]
           ]
          },
          "colorway": [
           "#636efa",
           "#EF553B",
           "#00cc96",
           "#ab63fa",
           "#FFA15A",
           "#19d3f3",
           "#FF6692",
           "#B6E880",
           "#FF97FF",
           "#FECB52"
          ],
          "font": {
           "color": "#2a3f5f"
          },
          "geo": {
           "bgcolor": "white",
           "lakecolor": "white",
           "landcolor": "#E5ECF6",
           "showlakes": true,
           "showland": true,
           "subunitcolor": "white"
          },
          "hoverlabel": {
           "align": "left"
          },
          "hovermode": "closest",
          "mapbox": {
           "style": "light"
          },
          "paper_bgcolor": "white",
          "plot_bgcolor": "#E5ECF6",
          "polar": {
           "angularaxis": {
            "gridcolor": "white",
            "linecolor": "white",
            "ticks": ""
           },
           "bgcolor": "#E5ECF6",
           "radialaxis": {
            "gridcolor": "white",
            "linecolor": "white",
            "ticks": ""
           }
          },
          "scene": {
           "xaxis": {
            "backgroundcolor": "#E5ECF6",
            "gridcolor": "white",
            "gridwidth": 2,
            "linecolor": "white",
            "showbackground": true,
            "ticks": "",
            "zerolinecolor": "white"
           },
           "yaxis": {
            "backgroundcolor": "#E5ECF6",
            "gridcolor": "white",
            "gridwidth": 2,
            "linecolor": "white",
            "showbackground": true,
            "ticks": "",
            "zerolinecolor": "white"
           },
           "zaxis": {
            "backgroundcolor": "#E5ECF6",
            "gridcolor": "white",
            "gridwidth": 2,
            "linecolor": "white",
            "showbackground": true,
            "ticks": "",
            "zerolinecolor": "white"
           }
          },
          "shapedefaults": {
           "line": {
            "color": "#2a3f5f"
           }
          },
          "ternary": {
           "aaxis": {
            "gridcolor": "white",
            "linecolor": "white",
            "ticks": ""
           },
           "baxis": {
            "gridcolor": "white",
            "linecolor": "white",
            "ticks": ""
           },
           "bgcolor": "#E5ECF6",
           "caxis": {
            "gridcolor": "white",
            "linecolor": "white",
            "ticks": ""
           }
          },
          "title": {
           "x": 0.05
          },
          "xaxis": {
           "automargin": true,
           "gridcolor": "white",
           "linecolor": "white",
           "ticks": "",
           "title": {
            "standoff": 15
           },
           "zerolinecolor": "white",
           "zerolinewidth": 2
          },
          "yaxis": {
           "automargin": true,
           "gridcolor": "white",
           "linecolor": "white",
           "ticks": "",
           "title": {
            "standoff": 15
           },
           "zerolinecolor": "white",
           "zerolinewidth": 2
          }
         }
        },
        "title": {
         "text": "Curva de Rendimientos - 2024-01-02"
        },
        "updatemenus": [
         {
          "buttons": [
           {
            "args": [
             null,
             {
              "frame": {
               "duration": 500,
               "redraw": true
              },
              "fromcurrent": true,
              "transition": {
               "duration": 300
              }
             }
            ],
            "label": "Play",
            "method": "animate"
           }
          ],
          "showactive": false,
          "type": "buttons"
         }
        ],
        "xaxis": {
         "title": {
          "text": "Plazo"
         }
        },
        "yaxis": {
         "title": {
          "text": "Rendimiento (%)"
         }
        }
       }
      }
     },
     "metadata": {},
     "output_type": "display_data"
    },
    {
     "name": "stderr",
     "output_type": "stream",
     "text": [
      "\u001b[32m2025-03-22 23:41:13.332\u001b[0m | \u001b[1mINFO    \u001b[0m | \u001b[36mweb_scraping.fred_interest_rates\u001b[0m:\u001b[36mplot_yield_curve_animation\u001b[0m:\u001b[36m313\u001b[0m - \u001b[1mGráfico animado generado para el rango 2024-01-01 a 2025-03-01\u001b[0m\n"
     ]
    }
   ],
   "source": [
    "# Crear un gráfico animado/interactivo para un intervalo de fechas\n",
    "# Ejemplo: desde '2024-01-01' hasta '2025-03-01'\n",
    "fred.plot_yield_curve_animation(hist_df, \"2024-01-01\", \"2025-03-01\")"
   ]
  },
  {
   "cell_type": "code",
   "execution_count": 12,
   "metadata": {},
   "outputs": [
    {
     "data": {
      "image/png": "[encoded data removed]",
      "text/plain": [
       "<Figure size 1200x600 with 1 Axes>"
      ]
     },
     "metadata": {},
     "output_type": "display_data"
    }
   ],
   "source": [
    "# Preparamos datos para visualización\n",
    "periodos_spot = list(plazos.values())\n",
    "tasas_spot = list(curva_spot.values())\n",
    "\n",
    "# Creamos períodos forward para graficar\n",
    "periodos_forward = [1.5, 2.5, 4, 7.5]  # Punto medio entre períodos\n",
    "tasas_forward = list(forwards.values())\n",
    "\n",
    "# Visualización\n",
    "plt.figure(figsize=(12, 6))\n",
    "\n",
    "# Curva spot\n",
    "plt.plot(periodos_spot, [tasa*100 for tasa in tasas_spot], 'o-', \n",
    "         label='Tasas Spot', color='blue', linewidth=2)\n",
    "\n",
    "# Tasas forward\n",
    "plt.plot(periodos_forward, [tasa*100 for tasa in tasas_forward], 'x--', \n",
    "         label='Tasas Forward', color='red', markersize=10, linewidth=2)\n",
    "\n",
    "# Añadimos etiquetas\n",
    "for i, periodo in enumerate(periodos_spot):\n",
    "    plt.annotate(f\"{tasas_spot[i]*100:.2f}%\", \n",
    "                 (periodo, tasas_spot[i]*100), \n",
    "                 xytext=(5, 10), textcoords='offset points')\n",
    "\n",
    "for i, periodo in enumerate(periodos_forward):\n",
    "    plt.annotate(f\"{tasas_forward[i]*100:.2f}%\", \n",
    "                 (periodo, tasas_forward[i]*100), \n",
    "                 xytext=(5, -15), textcoords='offset points', color='red')\n",
    "\n",
    "plt.title('Comparación entre Tasas Spot y Tasas Forward', fontsize=14)\n",
    "plt.xlabel('Tiempo (años)', fontsize=12)\n",
    "plt.ylabel('Tasa (%)', fontsize=12)\n",
    "plt.grid(True, linestyle='--', alpha=0.7)\n",
    "plt.legend()\n",
    "plt.tight_layout()\n",
    "plt.show()"
   ]
  },
  {
   "cell_type": "code",
   "execution_count": null,
   "metadata": {},
   "outputs": [
    {
     "name": "stdout",
     "output_type": "stream",
     "text": [
      "\n",
      "Análisis de estrategias según distintas teorías:\n",
      "Tasa forward implícita 1Y-2Y: 0.0384 (3.84%)\n",
      "Expectativa del trader: 0.0330 (3.30%)\n",
      "Según teoría de expectativas: VENDER: Forward sobrevalorado según expectativas puras\n"
     ]
    }
   ],
   "source": [
    "\n",
    "def analizar_estrategia_curva(spot_actual, forward_implicito, spot_esperado, teoria='expectativas'):\n",
    "    \"\"\"\n",
    "    Análisis de estrategia basada en diferentes teorías de la estructura temporal.\n",
    "    \n",
    "    Args:\n",
    "        spot_actual (float): Tasa spot actual\n",
    "        forward_implicito (float): Tasa forward implícita en la curva\n",
    "        spot_esperado (float): Tasa spot esperada según el trader\n",
    "        teoria (str): Teoría a aplicar ('expectativas', 'liquidez', 'habitat', 'segmentacion')\n",
    "        \n",
    "    Returns:\n",
    "        str: Recomendación de estrategia\n",
    "    \"\"\"\n",
    "    diferencia = forward_implicito - spot_esperado\n",
    "    \n",
    "    if teoria == 'expectativas':\n",
    "        # Teoría de expectativas puras - forward = expectativa futura\n",
    "        if diferencia > 0.0010:  # Más de 10 puntos básicos\n",
    "            return \"VENDER: Forward sobrevalorado según expectativas puras\"\n",
    "        elif diferencia < -0.0010:\n",
    "            return \"COMPRAR: Forward infravalorado según expectativas puras\"\n",
    "        else:\n",
    "            return \"MANTENER: Forward alineado con expectativas puras\"\n",
    "            \n",
    "    \n",
    "\n",
    "# Ejemplo práctico\n",
    "spot_1y = 0.0406\n",
    "spot_2y = 0.0395\n",
    "forward_1y2y = forwards['1Y-2Y']\n",
    "expectativa_trader = 0.0330  # El trader espera 3.30% para el período 1Y-2Y\n",
    "\n",
    "print(\"\\nAnálisis de estrategias según distintas teorías:\")\n",
    "print(f\"Tasa forward implícita 1Y-2Y: {forward_1y2y:.4f} ({forward_1y2y*100:.2f}%)\")\n",
    "print(f\"Expectativa del trader: {expectativa_trader:.4f} ({expectativa_trader*100:.2f}%)\")\n",
    "\n",
    "for teoria in ['expectativas']:\n",
    "    estrategia = analizar_estrategia_curva(curva_spot['1Y'], forward_1y2y, expectativa_trader, teoria)\n",
    "    print(f\"Según teoría de {teoria}: {estrategia}\")"
   ]
  },
  {
   "cell_type": "markdown",
   "metadata": {},
   "source": [
    "Como la tasas forward implícita o esperada por el mercado es de 3,84% bajo la teoría de expecativas, pordría implementar una estrategia de comprar fwd de bono a esa tasa, es decir comprar el fwd con subyacente en el bono con ese nivel de descuento. Luego como la expectativa real de la compañía o del equipo de research es de 3,30%, si al cabo de un año esa situación sucede, yo estaría invierto con un retorno de 3,84% mientras que el mercado para el mismo instrumento estaría generando un retorno de 3,30%, por ende, si el escenario propuesto por research se comple, la estrategia forward con bonos pemrite aprovechar la diferencia entre la tasa implícita en la curva y la tasa spot que se espera se materialice, sin tener que mantener el bono físicamente durante todo el período, reduciendo así algunos riesgos asociados a la variación del precio del bono o las condiciones de crédito del emisor, pero generando exposición a otros riesgos, como riesgos por el MtoM del contrato futuro, como veremos en las próximas clases."
   ]
  }
 ],
 "metadata": {
  "kernelspec": {
   "display_name": "itachi_env",
   "language": "python",
   "name": "python3"
  },
  "language_info": {
   "codemirror_mode": {
    "name": "ipython",
    "version": 3
   },
   "file_extension": ".py",
   "mimetype": "text/x-python",
   "name": "python",
   "nbconvert_exporter": "python",
   "pygments_lexer": "ipython3",
   "version": "3.10.13"
  }
 },
 "nbformat": 4,
 "nbformat_minor": 2
}
