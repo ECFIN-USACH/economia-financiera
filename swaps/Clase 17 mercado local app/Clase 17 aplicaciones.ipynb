{
 "cells": [
  {
   "cell_type": "markdown",
   "id": "e220293f",
   "metadata": {},
   "source": [
    "## Clase 17\n",
    "### Aplicaciones"
   ]
  },
  {
   "cell_type": "markdown",
   "id": "361f357b",
   "metadata": {},
   "source": [
    "La Par Swap Rate (SPR) se obtiene igualando el valor presente (PV) de la pata fija y de la pata flotante, descomponiendo cada una:\n",
    "\n",
    "---\n",
    "\n",
    "**1. Pata fija**\n",
    "Se trata de una serie de cupones periódicos de magnitud $N \\times S$, donde\n",
    "\n",
    "* $N$ = notional (por ejemplo 1 000 000 USD)\n",
    "* $S$ = tasa fija anual que buscamos\n",
    "* $\\delta_i = T_i - T_{i-1}$ = longitud del período $i$ en años (p.ej. 0.5 para semestral)\n",
    "* $P(0,T_i)$ = discount factor para el tiempo $T_i$.\n",
    "\n",
    "El valor presente de todos esos cupones es\n",
    "\n",
    "$$\n",
    "\\mathrm{PV}_\\text{fixed}\n",
    "\\;=\\;\n",
    "N \\; \\sum_{i=1}^n \\bigl(S \\,\\delta_i\\bigr)\\;P(0,T_i)\n",
    "\\;=\\;\n",
    "N\\,S\\;\\sum_{i=1}^n \\delta_i\\,P(0,T_i).\n",
    "$$\n",
    "\n",
    "> **Comentario**: no incluimos intercambio de principal al final porque en un plain‐vanilla swap solo se intercambian intereses.\n",
    "\n",
    "---\n",
    "\n",
    "**2. Pata flotante**\n",
    "Bajo la misma curva de descuento (y asumiendo que el índice se reinvierte a esa curva), la pata flotante tiene por construcción valor inicial cero si la tasa flotante se “resetea” exactamente a la par. Entonces\n",
    "\n",
    "$$\n",
    "\\mathrm{PV}_\\text{float}\n",
    "\\;=\\;\n",
    "N \\bigl(1 - P(0,T_n)\\bigr).\n",
    "$$\n",
    "\n",
    "La explicación rápida es que al inicio recibes $N$ inmediato (intercambio de principal teórico) y al vencimiento pagas $N \\times P(0,T_n)$ descontado a hoy, con lo que el neto es $N - N\\,P(0,T_n)$.\n",
    "\n",
    "---\n",
    "\n",
    "\n"
   ]
  },
  {
   "cell_type": "markdown",
   "id": "3941a705",
   "metadata": {},
   "source": [
    "\n",
    "**3. Ecuación para la tasa par**\n",
    "Para que el valor neto inicial del swap sea cero (swap “at‐the‐market”), igualamos\n",
    "\n",
    "$$\n",
    "\\mathrm{PV}_\\text{fixed}\n",
    "\\;=\\;\n",
    "\\mathrm{PV}_\\text{float}\n",
    "\\qquad\\Longrightarrow\\qquad\n",
    "N\\,S\\sum_{i=1}^n \\delta_i\\,P(0,T_i)\n",
    "\\;=\\;\n",
    "N\\bigl(1 - P(0,T_n)\\bigr).\n",
    "$$\n",
    "\n",
    "De aquí despejamos\n",
    "\n",
    "$$\n",
    "\\boxed{\n",
    "S\n",
    "\\;=\\;\n",
    "\\frac{1 - P(0,T_n)}{\\displaystyle \\sum_{i=1}^n \\delta_i\\,P(0,T_i)}\n",
    "}.\n",
    "$$\n",
    "\n",
    "---\n"
   ]
  },
  {
   "cell_type": "markdown",
   "id": "5c7badea",
   "metadata": {},
   "source": [
    "\n",
    "**4. Ejemplo numérico con curva flat al 3.50 %**\n",
    "\n",
    "* Plazo: 5 años, semestral $\\Rightarrow$ $\\delta_i=0.5$, $n=10$.\n",
    "* Discount factor: $P(0,t)=e^{-0.035\\,t}$.\n",
    "\n",
    "| $T_i$ (años) | $P(0,T_i)$                   | $\\delta_i\\,P(0,T_i)$     |\n",
    "| -----------: | ---------------------------- | ------------------------ |\n",
    "|          0.5 | $e^{-0.035\\cdot 0.5}=0.9828$ | $0.5\\times0.9828=0.4914$ |\n",
    "|          1.0 | 0.9657                       | 0.4828                   |\n",
    "|            … | …                            | …                        |\n",
    "|          5.0 | 0.8395                       | 0.4198                   |\n",
    "\n",
    "Sumando todos los $\\delta_i P(0,T_i)$ obtenemos\n",
    "\n",
    "$$\n",
    "\\sum_{i=1}^{10} \\delta_i\\,P(0,T_i)\\approx 4.5469.\n",
    "$$\n",
    "\n",
    "Y $P(0,5)=e^{-0.035\\cdot5}\\approx0.8395$.\n",
    "\n",
    "* **PV pata flotante**\n",
    "\n",
    "$$\n",
    "\\mathrm{PV}_\\text{float}\n",
    "= N\\bigl(1 - 0.8395\\bigr)\n",
    "=1\\,000\\,000\\times0.1605\\approx160\\,543\\;\\text{USD}.\n",
    "$$\n",
    "\n",
    "* **PV pata fija** (en función de una tasa $S$):\n",
    "\n",
    "$$\n",
    "\\mathrm{PV}_\\text{fixed}\n",
    "=1\\,000\\,000\\times S \\times 4.5469.\n",
    "$$\n",
    "\n",
    "Igualando a 160 543 USD, despejamos\n",
    "\n",
    "$$\n",
    "S\n",
    "=\\frac{160\\,543}{1\\,000\\,000\\times4.5469}\n",
    "\\approx0.035303\n",
    "\\quad\\widehat{=}\\;3.5303\\%\\!,\n",
    "$$\n",
    "\n",
    "que coincide con la fórmula teórica\n",
    "$\\;S=(1 - 0.8395)/4.5469$.\n",
    "\n"
   ]
  },
  {
   "cell_type": "markdown",
   "id": "b32c538b",
   "metadata": {},
   "source": [
    "---\n",
    "\n",
    "**5. Resumen y Aplicación en Python**\n",
    "\n",
    "* El **PV fijo** es la suma descontada de los cupones: $\\;N\\,S\\sum \\delta_iP(0,T_i)$.\n",
    "* El **PV flotante** es $N(1 - P(0,T_n))$.\n",
    "* Igualando ambos se obtiene la **tasa par**\n",
    "\n",
    "  $$\n",
    "    S\n",
    "    =\\frac{1 - P(0,T_n)}{\\sum_{i=1}^n \\delta_i\\,P(0,T_i)}.\n",
    "  $$"
   ]
  },
  {
   "cell_type": "code",
   "execution_count": 5,
   "id": "664d9a8b",
   "metadata": {},
   "outputs": [],
   "source": [
    "import math\n",
    "from typing import List\n",
    "\n",
    "def discount_factor_flat(rate: float, time: float) -> float:\n",
    "    \"\"\"\n",
    "    Curva plana con capitalización continua:\n",
    "        P(0, time) = exp(-rate * time)\n",
    "\n",
    "    :param rate: tipo de interés anual (por ejemplo, 0.035 para 3.5%)\n",
    "    :param time: tiempo en años\n",
    "    :return: factor de descuento P(0,time)\n",
    "    \"\"\"\n",
    "    return math.exp(-rate * time)\n",
    "\n",
    "def generate_schedule(tenor_years: float, payments_per_year: int) -> List[float]:\n",
    "    \"\"\"\n",
    "    Genera los tiempos de pago desde t=0 hasta t=tenor_years,\n",
    "    en intervalos regulares de tamaño 1/payments_per_year.\n",
    "\n",
    "    :param tenor_years: plazo total en años (p.ej., 5.0)\n",
    "    :param payments_per_year: número de pagos por año (p.ej., 2 para semestral)\n",
    "    :return: lista de tiempos [0.0, 0.5, 1.0, ..., tenor_years]\n",
    "    \"\"\"\n",
    "    n_periods = int(tenor_years * payments_per_year)\n",
    "    delta = 1.0 / payments_per_year\n",
    "    return [i * delta for i in range(n_periods + 1)]\n",
    "\n",
    "def pv_fixed_leg(\n",
    "    notional: float,\n",
    "    fixed_rate: float,\n",
    "    times: List[float],\n",
    "    discount_rate: float\n",
    ") -> float:\n",
    "    \"\"\"\n",
    "    Calcula el valor presente de la pata fija de un swap:\n",
    "        PV_fixed = N * S * Σ_{i=1}^n [ δ_i * P(0,T_i) ]\n",
    "\n",
    "    :param notional: monto nocional (N)\n",
    "    :param fixed_rate: tasa fija anual (S)\n",
    "    :param times: lista de tiempos de pago (incluye t=0 y t=T_n)\n",
    "    :param discount_rate: tipo de la curva plana para P(0,t)\n",
    "    :return: valor presente de la pata fija\n",
    "    \"\"\"\n",
    "    pv_coupons = 0.0\n",
    "    for i in range(1, len(times)):\n",
    "        delta_i = times[i] - times[i-1]\n",
    "        P_t = discount_factor_flat(discount_rate, times[i])\n",
    "        pv_coupons += delta_i * P_t\n",
    "\n",
    "    return notional * fixed_rate * pv_coupons\n",
    "\n",
    "def pv_floating_leg(\n",
    "    notional: float,\n",
    "    times: List[float],\n",
    "    discount_rate: float\n",
    ") -> float:\n",
    "    \"\"\"\n",
    "    Calcula el valor presente de la pata flotante de un swap:\n",
    "        PV_float = N * (1 - P(0, T_n))\n",
    "\n",
    "    :param notional: monto nocional (N)\n",
    "    :param times: lista de tiempos de pago (incluye t=0 y t=T_n)\n",
    "    :param discount_rate: tipo de la curva plana para P(0,t)\n",
    "    :return: valor presente de la pata flotante\n",
    "    \"\"\"\n",
    "    Tn = times[-1]\n",
    "    P_Tn = discount_factor_flat(discount_rate, Tn)\n",
    "    return notional * (1.0 - P_Tn)\n",
    "\n",
    "def par_swap_rate(\n",
    "    times: List[float],\n",
    "    discount_rate: float\n",
    ") -> float:\n",
    "    \"\"\"\n",
    "    Calcula la tasa par S que iguala PV_fixed = PV_float:\n",
    "        S = (1 - P(0,T_n)) / Σ_{i=1}^n [ δ_i * P(0,T_i) ]\n",
    "\n",
    "    :param times: lista de tiempos de pago (incluye t=0 y t=T_n)\n",
    "    :param discount_rate: tipo de la curva plana para P(0,t)\n",
    "    :return: tasa par S\n",
    "    \"\"\"\n",
    "    Tn = times[-1]\n",
    "    P_Tn = discount_factor_flat(discount_rate, Tn)\n",
    "    numerator = 1.0 - P_Tn\n",
    "\n",
    "    denominator = 0.0\n",
    "    for i in range(1, len(times)):\n",
    "        delta_i = times[i] - times[i-1]\n",
    "        P_t = discount_factor_flat(discount_rate, times[i])\n",
    "        denominator += delta_i * P_t\n",
    "\n",
    "    return numerator / denominator\n",
    "\n"
   ]
  },
  {
   "cell_type": "code",
   "execution_count": 6,
   "id": "70b7fcd0",
   "metadata": {},
   "outputs": [
    {
     "data": {
      "text/plain": [
       "[0.0, 0.5, 1.0, 1.5, 2.0, 2.5, 3.0, 3.5, 4.0, 4.5, 5.0]"
      ]
     },
     "execution_count": 6,
     "metadata": {},
     "output_type": "execute_result"
    }
   ],
   "source": [
    "\n",
    "# Parámetros del swap\n",
    "notional = 1_000_000       # USD\n",
    "tenor = 5.0                # años\n",
    "payments_per_year = 2      # semestral\n",
    "flat_rate = 0.035          # 3.50% anual continuo\n",
    "\n",
    "# 1) Generar el calendario de pagos\n",
    "times = generate_schedule(tenor_years=tenor,\n",
    "                            payments_per_year=payments_per_year)\n",
    "times\n"
   ]
  },
  {
   "cell_type": "code",
   "execution_count": 7,
   "id": "c9ea1850",
   "metadata": {},
   "outputs": [
    {
     "name": "stdout",
     "output_type": "stream",
     "text": [
      "Tasa par (5Y semestral, curva flat 3.50%): 3.5308%\n"
     ]
    }
   ],
   "source": [
    "\n",
    "# 2) Calcular la tasa par que iguala ambas patas\n",
    "swap_rate_par = par_swap_rate(times, discount_rate=flat_rate)\n",
    "print(f\"Tasa par (5Y semestral, curva flat 3.50%): {swap_rate_par*100:.4f}%\")\n"
   ]
  },
  {
   "cell_type": "code",
   "execution_count": 8,
   "id": "4558b2b3",
   "metadata": {},
   "outputs": [],
   "source": [
    "\n",
    "# 3) Calcular PV de la pata fija usando la tasa par\n",
    "pv_fixed = pv_fixed_leg(notional=notional,\n",
    "                        fixed_rate=swap_rate_par,\n",
    "                        times=times,\n",
    "                        discount_rate=flat_rate)\n"
   ]
  },
  {
   "cell_type": "code",
   "execution_count": 9,
   "id": "0c963beb",
   "metadata": {},
   "outputs": [
    {
     "name": "stdout",
     "output_type": "stream",
     "text": [
      "PV pata fija  : 160,542.98 USD\n",
      "PV pata flot. : 160,542.98 USD\n",
      "Diferencia    : 0.00e+00 USD  (≈ 0)\n",
      "\n"
     ]
    }
   ],
   "source": [
    "\n",
    "# 4) Calcular PV de la pata flotante\n",
    "pv_float = pv_floating_leg(notional=notional,\n",
    "                            times=times,\n",
    "                            discount_rate=flat_rate)\n",
    "\n",
    "# 5) Mostrar resultados y verificar que PV_fixed ≈ PV_float\n",
    "print(f\"PV pata fija  : {pv_fixed:,.2f} USD\")\n",
    "print(f\"PV pata flot. : {pv_float:,.2f} USD\")\n",
    "print(f\"Diferencia    : {pv_fixed - pv_float:,.2e} USD  (≈ 0)\\n\")\n"
   ]
  },
  {
   "cell_type": "code",
   "execution_count": 10,
   "id": "8b826ce0",
   "metadata": {},
   "outputs": [
    {
     "name": "stdout",
     "output_type": "stream",
     "text": [
      "Si la fija es 4.00% → PV swap = 21,333.96 USD\n"
     ]
    }
   ],
   "source": [
    "\n",
    "# 6) Valorar swap con una tasa fija distinta (por ejemplo, 4.00%)\n",
    "custom_fixed_rate = 0.04  # 4.00%\n",
    "pv_fixed_custom = pv_fixed_leg(notional, custom_fixed_rate, times, flat_rate)\n",
    "pv_swap_custom = pv_fixed_custom - pv_float\n",
    "print(f\"Si la fija es {custom_fixed_rate*100:.2f}% → PV swap = {pv_swap_custom:,.2f} USD\")"
   ]
  }
 ],
 "metadata": {
  "kernelspec": {
   "display_name": "itachi_env",
   "language": "python",
   "name": "python3"
  },
  "language_info": {
   "codemirror_mode": {
    "name": "ipython",
    "version": 3
   },
   "file_extension": ".py",
   "mimetype": "text/x-python",
   "name": "python",
   "nbconvert_exporter": "python",
   "pygments_lexer": "ipython3",
   "version": "3.10.13"
  }
 },
 "nbformat": 4,
 "nbformat_minor": 5
}
